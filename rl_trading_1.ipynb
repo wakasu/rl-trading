{
  "nbformat": 4,
  "nbformat_minor": 0,
  "metadata": {
    "colab": {
      "name": "rl_trading_1.ipynb",
      "provenance": [],
      "authorship_tag": "ABX9TyMRlOVkCXOolqs9Vr4/LJgp",
      "include_colab_link": true
    },
    "kernelspec": {
      "name": "python3",
      "display_name": "Python 3"
    },
    "language_info": {
      "name": "python"
    },
    "widgets": {
      "application/vnd.jupyter.widget-state+json": {
        "4cd16ecb078d4abf824ff3e438e930c5": {
          "model_module": "jupyterlab-plotly",
          "model_name": "FigureModel",
          "state": {
            "_view_name": "FigureView",
            "_py2js_animate": {},
            "_py2js_removeLayoutProps": {},
            "_last_trace_edit_id": 73,
            "_view_module": "jupyterlab-plotly",
            "_model_module_version": "^5.1.0",
            "_view_count": 0,
            "_js2py_relayout": {},
            "_py2js_moveTraces": {},
            "_py2js_addTraces": {},
            "_model_module": "jupyterlab-plotly",
            "_py2js_relayout": null,
            "_js2py_pointsCallback": {},
            "_js2py_update": {},
            "_js2py_restyle": {},
            "_py2js_removeTraceProps": {},
            "_py2js_deleteTraces": {},
            "_dom_classes": [],
            "_model_name": "FigureModel",
            "_layout": {
              "template": {
                "layout": {
                  "shapedefaults": {
                    "line": {
                      "color": "#2a3f5f"
                    }
                  },
                  "polar": {
                    "radialaxis": {
                      "ticks": "",
                      "gridcolor": "white",
                      "linecolor": "white"
                    },
                    "bgcolor": "#E5ECF6",
                    "angularaxis": {
                      "ticks": "",
                      "gridcolor": "white",
                      "linecolor": "white"
                    }
                  },
                  "colorway": [
                    "#636efa",
                    "#EF553B",
                    "#00cc96",
                    "#ab63fa",
                    "#FFA15A",
                    "#19d3f3",
                    "#FF6692",
                    "#B6E880",
                    "#FF97FF",
                    "#FECB52"
                  ],
                  "xaxis": {
                    "automargin": true,
                    "title": {
                      "standoff": 15
                    },
                    "zerolinewidth": 2,
                    "ticks": "",
                    "zerolinecolor": "white",
                    "gridcolor": "white",
                    "linecolor": "white"
                  },
                  "colorscale": {
                    "diverging": [
                      [
                        0,
                        "#8e0152"
                      ],
                      [
                        0.1,
                        "#c51b7d"
                      ],
                      [
                        0.2,
                        "#de77ae"
                      ],
                      [
                        0.3,
                        "#f1b6da"
                      ],
                      [
                        0.4,
                        "#fde0ef"
                      ],
                      [
                        0.5,
                        "#f7f7f7"
                      ],
                      [
                        0.6,
                        "#e6f5d0"
                      ],
                      [
                        0.7,
                        "#b8e186"
                      ],
                      [
                        0.8,
                        "#7fbc41"
                      ],
                      [
                        0.9,
                        "#4d9221"
                      ],
                      [
                        1,
                        "#276419"
                      ]
                    ],
                    "sequential": [
                      [
                        0,
                        "#0d0887"
                      ],
                      [
                        0.1111111111111111,
                        "#46039f"
                      ],
                      [
                        0.2222222222222222,
                        "#7201a8"
                      ],
                      [
                        0.3333333333333333,
                        "#9c179e"
                      ],
                      [
                        0.4444444444444444,
                        "#bd3786"
                      ],
                      [
                        0.5555555555555556,
                        "#d8576b"
                      ],
                      [
                        0.6666666666666666,
                        "#ed7953"
                      ],
                      [
                        0.7777777777777778,
                        "#fb9f3a"
                      ],
                      [
                        0.8888888888888888,
                        "#fdca26"
                      ],
                      [
                        1,
                        "#f0f921"
                      ]
                    ],
                    "sequentialminus": [
                      [
                        0,
                        "#0d0887"
                      ],
                      [
                        0.1111111111111111,
                        "#46039f"
                      ],
                      [
                        0.2222222222222222,
                        "#7201a8"
                      ],
                      [
                        0.3333333333333333,
                        "#9c179e"
                      ],
                      [
                        0.4444444444444444,
                        "#bd3786"
                      ],
                      [
                        0.5555555555555556,
                        "#d8576b"
                      ],
                      [
                        0.6666666666666666,
                        "#ed7953"
                      ],
                      [
                        0.7777777777777778,
                        "#fb9f3a"
                      ],
                      [
                        0.8888888888888888,
                        "#fdca26"
                      ],
                      [
                        1,
                        "#f0f921"
                      ]
                    ]
                  },
                  "paper_bgcolor": "white",
                  "plot_bgcolor": "#E5ECF6",
                  "title": {
                    "x": 0.05
                  },
                  "yaxis": {
                    "automargin": true,
                    "title": {
                      "standoff": 15
                    },
                    "zerolinewidth": 2,
                    "ticks": "",
                    "zerolinecolor": "white",
                    "gridcolor": "white",
                    "linecolor": "white"
                  },
                  "hoverlabel": {
                    "align": "left"
                  },
                  "scene": {
                    "zaxis": {
                      "backgroundcolor": "#E5ECF6",
                      "ticks": "",
                      "gridwidth": 2,
                      "showbackground": true,
                      "zerolinecolor": "white",
                      "gridcolor": "white",
                      "linecolor": "white"
                    },
                    "xaxis": {
                      "backgroundcolor": "#E5ECF6",
                      "ticks": "",
                      "gridwidth": 2,
                      "showbackground": true,
                      "zerolinecolor": "white",
                      "gridcolor": "white",
                      "linecolor": "white"
                    },
                    "yaxis": {
                      "backgroundcolor": "#E5ECF6",
                      "ticks": "",
                      "gridwidth": 2,
                      "showbackground": true,
                      "zerolinecolor": "white",
                      "gridcolor": "white",
                      "linecolor": "white"
                    }
                  },
                  "annotationdefaults": {
                    "arrowwidth": 1,
                    "arrowhead": 0,
                    "arrowcolor": "#2a3f5f"
                  },
                  "autotypenumbers": "strict",
                  "ternary": {
                    "bgcolor": "#E5ECF6",
                    "baxis": {
                      "ticks": "",
                      "gridcolor": "white",
                      "linecolor": "white"
                    },
                    "caxis": {
                      "ticks": "",
                      "gridcolor": "white",
                      "linecolor": "white"
                    },
                    "aaxis": {
                      "ticks": "",
                      "gridcolor": "white",
                      "linecolor": "white"
                    }
                  },
                  "mapbox": {
                    "style": "light"
                  },
                  "hovermode": "closest",
                  "font": {
                    "color": "#2a3f5f"
                  },
                  "geo": {
                    "showland": true,
                    "landcolor": "#E5ECF6",
                    "showlakes": true,
                    "bgcolor": "white",
                    "subunitcolor": "white",
                    "lakecolor": "white"
                  },
                  "coloraxis": {
                    "colorbar": {
                      "outlinewidth": 0,
                      "ticks": ""
                    }
                  }
                },
                "data": {
                  "mesh3d": [
                    {
                      "colorbar": {
                        "outlinewidth": 0,
                        "ticks": ""
                      },
                      "type": "mesh3d"
                    }
                  ],
                  "scattercarpet": [
                    {
                      "marker": {
                        "colorbar": {
                          "outlinewidth": 0,
                          "ticks": ""
                        }
                      },
                      "type": "scattercarpet"
                    }
                  ],
                  "pie": [
                    {
                      "automargin": true,
                      "type": "pie"
                    }
                  ],
                  "surface": [
                    {
                      "colorbar": {
                        "outlinewidth": 0,
                        "ticks": ""
                      },
                      "type": "surface",
                      "colorscale": [
                        [
                          0,
                          "#0d0887"
                        ],
                        [
                          0.1111111111111111,
                          "#46039f"
                        ],
                        [
                          0.2222222222222222,
                          "#7201a8"
                        ],
                        [
                          0.3333333333333333,
                          "#9c179e"
                        ],
                        [
                          0.4444444444444444,
                          "#bd3786"
                        ],
                        [
                          0.5555555555555556,
                          "#d8576b"
                        ],
                        [
                          0.6666666666666666,
                          "#ed7953"
                        ],
                        [
                          0.7777777777777778,
                          "#fb9f3a"
                        ],
                        [
                          0.8888888888888888,
                          "#fdca26"
                        ],
                        [
                          1,
                          "#f0f921"
                        ]
                      ]
                    }
                  ],
                  "table": [
                    {
                      "header": {
                        "line": {
                          "color": "white"
                        },
                        "fill": {
                          "color": "#C8D4E3"
                        }
                      },
                      "cells": {
                        "line": {
                          "color": "white"
                        },
                        "fill": {
                          "color": "#EBF0F8"
                        }
                      },
                      "type": "table"
                    }
                  ],
                  "scatterpolargl": [
                    {
                      "marker": {
                        "colorbar": {
                          "outlinewidth": 0,
                          "ticks": ""
                        }
                      },
                      "type": "scatterpolargl"
                    }
                  ],
                  "contour": [
                    {
                      "colorbar": {
                        "outlinewidth": 0,
                        "ticks": ""
                      },
                      "type": "contour",
                      "colorscale": [
                        [
                          0,
                          "#0d0887"
                        ],
                        [
                          0.1111111111111111,
                          "#46039f"
                        ],
                        [
                          0.2222222222222222,
                          "#7201a8"
                        ],
                        [
                          0.3333333333333333,
                          "#9c179e"
                        ],
                        [
                          0.4444444444444444,
                          "#bd3786"
                        ],
                        [
                          0.5555555555555556,
                          "#d8576b"
                        ],
                        [
                          0.6666666666666666,
                          "#ed7953"
                        ],
                        [
                          0.7777777777777778,
                          "#fb9f3a"
                        ],
                        [
                          0.8888888888888888,
                          "#fdca26"
                        ],
                        [
                          1,
                          "#f0f921"
                        ]
                      ]
                    }
                  ],
                  "carpet": [
                    {
                      "type": "carpet",
                      "baxis": {
                        "minorgridcolor": "white",
                        "gridcolor": "white",
                        "linecolor": "white",
                        "endlinecolor": "#2a3f5f",
                        "startlinecolor": "#2a3f5f"
                      },
                      "aaxis": {
                        "minorgridcolor": "white",
                        "gridcolor": "white",
                        "linecolor": "white",
                        "endlinecolor": "#2a3f5f",
                        "startlinecolor": "#2a3f5f"
                      }
                    }
                  ],
                  "contourcarpet": [
                    {
                      "colorbar": {
                        "outlinewidth": 0,
                        "ticks": ""
                      },
                      "type": "contourcarpet"
                    }
                  ],
                  "heatmap": [
                    {
                      "colorbar": {
                        "outlinewidth": 0,
                        "ticks": ""
                      },
                      "type": "heatmap",
                      "colorscale": [
                        [
                          0,
                          "#0d0887"
                        ],
                        [
                          0.1111111111111111,
                          "#46039f"
                        ],
                        [
                          0.2222222222222222,
                          "#7201a8"
                        ],
                        [
                          0.3333333333333333,
                          "#9c179e"
                        ],
                        [
                          0.4444444444444444,
                          "#bd3786"
                        ],
                        [
                          0.5555555555555556,
                          "#d8576b"
                        ],
                        [
                          0.6666666666666666,
                          "#ed7953"
                        ],
                        [
                          0.7777777777777778,
                          "#fb9f3a"
                        ],
                        [
                          0.8888888888888888,
                          "#fdca26"
                        ],
                        [
                          1,
                          "#f0f921"
                        ]
                      ]
                    }
                  ],
                  "scattermapbox": [
                    {
                      "marker": {
                        "colorbar": {
                          "outlinewidth": 0,
                          "ticks": ""
                        }
                      },
                      "type": "scattermapbox"
                    }
                  ],
                  "scatter3d": [
                    {
                      "marker": {
                        "colorbar": {
                          "outlinewidth": 0,
                          "ticks": ""
                        }
                      },
                      "line": {
                        "colorbar": {
                          "outlinewidth": 0,
                          "ticks": ""
                        }
                      },
                      "type": "scatter3d"
                    }
                  ],
                  "scattergl": [
                    {
                      "marker": {
                        "colorbar": {
                          "outlinewidth": 0,
                          "ticks": ""
                        }
                      },
                      "type": "scattergl"
                    }
                  ],
                  "scatterternary": [
                    {
                      "marker": {
                        "colorbar": {
                          "outlinewidth": 0,
                          "ticks": ""
                        }
                      },
                      "type": "scatterternary"
                    }
                  ],
                  "histogram2d": [
                    {
                      "colorbar": {
                        "outlinewidth": 0,
                        "ticks": ""
                      },
                      "type": "histogram2d",
                      "colorscale": [
                        [
                          0,
                          "#0d0887"
                        ],
                        [
                          0.1111111111111111,
                          "#46039f"
                        ],
                        [
                          0.2222222222222222,
                          "#7201a8"
                        ],
                        [
                          0.3333333333333333,
                          "#9c179e"
                        ],
                        [
                          0.4444444444444444,
                          "#bd3786"
                        ],
                        [
                          0.5555555555555556,
                          "#d8576b"
                        ],
                        [
                          0.6666666666666666,
                          "#ed7953"
                        ],
                        [
                          0.7777777777777778,
                          "#fb9f3a"
                        ],
                        [
                          0.8888888888888888,
                          "#fdca26"
                        ],
                        [
                          1,
                          "#f0f921"
                        ]
                      ]
                    }
                  ],
                  "heatmapgl": [
                    {
                      "colorbar": {
                        "outlinewidth": 0,
                        "ticks": ""
                      },
                      "type": "heatmapgl",
                      "colorscale": [
                        [
                          0,
                          "#0d0887"
                        ],
                        [
                          0.1111111111111111,
                          "#46039f"
                        ],
                        [
                          0.2222222222222222,
                          "#7201a8"
                        ],
                        [
                          0.3333333333333333,
                          "#9c179e"
                        ],
                        [
                          0.4444444444444444,
                          "#bd3786"
                        ],
                        [
                          0.5555555555555556,
                          "#d8576b"
                        ],
                        [
                          0.6666666666666666,
                          "#ed7953"
                        ],
                        [
                          0.7777777777777778,
                          "#fb9f3a"
                        ],
                        [
                          0.8888888888888888,
                          "#fdca26"
                        ],
                        [
                          1,
                          "#f0f921"
                        ]
                      ]
                    }
                  ],
                  "scatterpolar": [
                    {
                      "marker": {
                        "colorbar": {
                          "outlinewidth": 0,
                          "ticks": ""
                        }
                      },
                      "type": "scatterpolar"
                    }
                  ],
                  "histogram": [
                    {
                      "marker": {
                        "pattern": {
                          "fillmode": "overlay",
                          "solidity": 0.2,
                          "size": 10
                        }
                      },
                      "type": "histogram"
                    }
                  ],
                  "scattergeo": [
                    {
                      "marker": {
                        "colorbar": {
                          "outlinewidth": 0,
                          "ticks": ""
                        }
                      },
                      "type": "scattergeo"
                    }
                  ],
                  "bar": [
                    {
                      "marker": {
                        "pattern": {
                          "fillmode": "overlay",
                          "solidity": 0.2,
                          "size": 10
                        },
                        "line": {
                          "color": "#E5ECF6",
                          "width": 0.5
                        }
                      },
                      "type": "bar",
                      "error_x": {
                        "color": "#2a3f5f"
                      },
                      "error_y": {
                        "color": "#2a3f5f"
                      }
                    }
                  ],
                  "choropleth": [
                    {
                      "colorbar": {
                        "outlinewidth": 0,
                        "ticks": ""
                      },
                      "type": "choropleth"
                    }
                  ],
                  "parcoords": [
                    {
                      "line": {
                        "colorbar": {
                          "outlinewidth": 0,
                          "ticks": ""
                        }
                      },
                      "type": "parcoords"
                    }
                  ],
                  "barpolar": [
                    {
                      "marker": {
                        "pattern": {
                          "fillmode": "overlay",
                          "solidity": 0.2,
                          "size": 10
                        },
                        "line": {
                          "color": "#E5ECF6",
                          "width": 0.5
                        }
                      },
                      "type": "barpolar"
                    }
                  ],
                  "histogram2dcontour": [
                    {
                      "colorbar": {
                        "outlinewidth": 0,
                        "ticks": ""
                      },
                      "type": "histogram2dcontour",
                      "colorscale": [
                        [
                          0,
                          "#0d0887"
                        ],
                        [
                          0.1111111111111111,
                          "#46039f"
                        ],
                        [
                          0.2222222222222222,
                          "#7201a8"
                        ],
                        [
                          0.3333333333333333,
                          "#9c179e"
                        ],
                        [
                          0.4444444444444444,
                          "#bd3786"
                        ],
                        [
                          0.5555555555555556,
                          "#d8576b"
                        ],
                        [
                          0.6666666666666666,
                          "#ed7953"
                        ],
                        [
                          0.7777777777777778,
                          "#fb9f3a"
                        ],
                        [
                          0.8888888888888888,
                          "#fdca26"
                        ],
                        [
                          1,
                          "#f0f921"
                        ]
                      ]
                    }
                  ],
                  "scatter": [
                    {
                      "marker": {
                        "colorbar": {
                          "outlinewidth": 0,
                          "ticks": ""
                        }
                      },
                      "type": "scatter"
                    }
                  ]
                }
              },
              "yaxis": {
                "domain": [
                  0.49950000000000006,
                  1
                ],
                "gridcolor": "Gainsboro",
                "anchor": "x",
                "linecolor": "Grey"
              },
              "xaxis4": {
                "domain": [
                  0,
                  1
                ],
                "gridcolor": "Gainsboro",
                "anchor": "y4",
                "linecolor": "Grey",
                "title": {
                  "text": "Net Worth",
                  "font": {
                    "size": 12
                  },
                  "standoff": 7
                }
              },
              "xaxis3": {
                "domain": [
                  0,
                  1
                ],
                "showticklabels": false,
                "title": {
                  "text": "Performance",
                  "font": {
                    "size": 12
                  },
                  "standoff": 7
                },
                "matches": "x4",
                "gridcolor": "Gainsboro",
                "linecolor": "Grey",
                "anchor": "y3"
              },
              "xaxis2": {
                "domain": [
                  0,
                  1
                ],
                "showticklabels": false,
                "title": {
                  "text": "Volume",
                  "font": {
                    "size": 12
                  },
                  "standoff": 7
                },
                "matches": "x4",
                "gridcolor": "Gainsboro",
                "linecolor": "Grey",
                "anchor": "y2"
              },
              "yaxis2": {
                "domain": [
                  0.333,
                  0.46950000000000003
                ],
                "gridcolor": "Gainsboro",
                "anchor": "x2",
                "linecolor": "Grey"
              },
              "yaxis3": {
                "domain": [
                  0.1665,
                  0.30300000000000005
                ],
                "gridcolor": "Gainsboro",
                "anchor": "x3",
                "linecolor": "Grey"
              },
              "yaxis4": {
                "domain": [
                  0,
                  0.1365
                ],
                "gridcolor": "Gainsboro",
                "anchor": "x4",
                "linecolor": "Grey"
              },
              "xaxis": {
                "domain": [
                  0,
                  1
                ],
                "showticklabels": false,
                "title": {
                  "text": "Price",
                  "font": {
                    "size": 12
                  },
                  "standoff": 7
                },
                "matches": "x4",
                "gridcolor": "Gainsboro",
                "linecolor": "Grey",
                "anchor": "y",
                "rangeslider": {
                  "visible": false
                }
              }
            },
            "_js2py_layoutDelta": {},
            "_py2js_update": null,
            "_data": [
              {
                "showlegend": false,
                "uid": "b074e35e-1d88-471d-a273-05cdd3adfb9e",
                "yaxis": "y",
                "xaxis": "x",
                "type": "candlestick",
                "name": "Price"
              },
              {
                "showlegend": false,
                "name": "Volume",
                "yaxis": "y2",
                "xaxis": "x2",
                "marker": {
                  "color": "DodgerBlue"
                },
                "type": "bar",
                "uid": "6310725c-c48d-4e23-81c1-e6eff15be8f1"
              },
              {
                "uid": "e1821495-f603-4c3b-adf2-36bec84f46ac",
                "yaxis": "y3",
                "mode": "lines",
                "xaxis": "x3",
                "type": "scatter",
                "name": "bitstamp:/USD-BTC"
              },
              {
                "uid": "cfc8cb6d-4832-4bd2-93fc-72c2481ca6b4",
                "yaxis": "y3",
                "mode": "lines",
                "xaxis": "x3",
                "type": "scatter",
                "name": "bitstamp:/USD:/free"
              },
              {
                "uid": "4fe50199-bde9-4951-810d-2de89e11cb6f",
                "yaxis": "y3",
                "mode": "lines",
                "xaxis": "x3",
                "type": "scatter",
                "name": "bitstamp:/USD:/locked"
              },
              {
                "uid": "fb7d08c2-3958-4ce9-84d7-48e04e03b6a2",
                "yaxis": "y3",
                "mode": "lines",
                "xaxis": "x3",
                "type": "scatter",
                "name": "bitstamp:/USD:/total"
              },
              {
                "uid": "4e8f59db-2d21-45cc-9a7f-cd3f89b13613",
                "yaxis": "y3",
                "mode": "lines",
                "xaxis": "x3",
                "type": "scatter",
                "name": "bitstamp:/BTC:/free"
              },
              {
                "uid": "394cf790-ae62-4be8-9a6d-fa0eed31b647",
                "yaxis": "y3",
                "mode": "lines",
                "xaxis": "x3",
                "type": "scatter",
                "name": "bitstamp:/BTC:/locked"
              },
              {
                "uid": "97092c0a-1181-41cb-b6ff-814c735c5002",
                "yaxis": "y3",
                "mode": "lines",
                "xaxis": "x3",
                "type": "scatter",
                "name": "bitstamp:/BTC:/total"
              },
              {
                "uid": "ad9504a4-7747-4a51-b140-9ddac3c900c1",
                "yaxis": "y3",
                "mode": "lines",
                "xaxis": "x3",
                "type": "scatter",
                "name": "bitstamp:/BTC:/worth"
              },
              {
                "uid": "860ec2ed-9bc8-4908-a89c-1ff2e3aef539",
                "yaxis": "y3",
                "mode": "lines",
                "xaxis": "x3",
                "type": "scatter",
                "name": "net_worth"
              },
              {
                "name": "Net Worth",
                "yaxis": "y4",
                "mode": "lines",
                "xaxis": "x4",
                "marker": {
                  "color": "DarkGreen"
                },
                "type": "scatter",
                "uid": "76ab2fe2-a80c-488c-a9e4-75f0f9adbd7f"
              }
            ],
            "_config": {
              "plotlyServerURL": "https://plot.ly"
            },
            "_py2js_restyle": {},
            "_view_module_version": "^5.1.0",
            "_last_layout_edit_id": 86,
            "_js2py_traceDeltas": {}
          }
        }
      }
    }
  },
  "cells": [
    {
      "cell_type": "markdown",
      "metadata": {
        "id": "view-in-github",
        "colab_type": "text"
      },
      "source": [
        "<a href=\"https://colab.research.google.com/github/wakasu/rl-trading/blob/main/rl_trading_1.ipynb\" target=\"_parent\"><img src=\"https://colab.research.google.com/assets/colab-badge.svg\" alt=\"Open In Colab\"/></a>"
      ]
    },
    {
      "cell_type": "code",
      "metadata": {
        "id": "6QL7uEVo8c8A",
        "outputId": "4f621433-49c7-482c-ac1d-c0e76abc5512",
        "colab": {
          "base_uri": "https://localhost:8080/"
        }
      },
      "source": [
        "!python3 -m pip install git+https://github.com/tensortrade-org/tensortrade.git"
      ],
      "execution_count": 1,
      "outputs": [
        {
          "output_type": "stream",
          "text": [
            "Collecting git+https://github.com/tensortrade-org/tensortrade.git\n",
            "  Cloning https://github.com/tensortrade-org/tensortrade.git to /tmp/pip-req-build-tscfjyax\n",
            "  Running command git clone -q https://github.com/tensortrade-org/tensortrade.git /tmp/pip-req-build-tscfjyax\n",
            "Requirement already satisfied: numpy>=1.17.0 in /usr/local/lib/python3.7/dist-packages (from tensortrade==1.0.4.dev0) (1.19.5)\n",
            "Requirement already satisfied: pandas>=0.25.0 in /usr/local/lib/python3.7/dist-packages (from tensortrade==1.0.4.dev0) (1.1.5)\n",
            "Requirement already satisfied: gym>=0.14.0 in /usr/local/lib/python3.7/dist-packages (from tensortrade==1.0.4.dev0) (0.17.3)\n",
            "Collecting pyyaml>=5.1.2\n",
            "  Downloading PyYAML-5.4.1-cp37-cp37m-manylinux1_x86_64.whl (636 kB)\n",
            "\u001b[K     |████████████████████████████████| 636 kB 7.3 MB/s \n",
            "\u001b[?25hCollecting stochastic>=0.6.0\n",
            "  Downloading stochastic-0.6.0-py3-none-any.whl (49 kB)\n",
            "\u001b[K     |████████████████████████████████| 49 kB 6.3 MB/s \n",
            "\u001b[?25hRequirement already satisfied: tensorflow>=2.1.0 in /usr/local/lib/python3.7/dist-packages (from tensortrade==1.0.4.dev0) (2.5.0)\n",
            "Collecting ipython>=7.12.0\n",
            "  Downloading ipython-7.26.0-py3-none-any.whl (786 kB)\n",
            "\u001b[K     |████████████████████████████████| 786 kB 16.6 MB/s \n",
            "\u001b[?25hRequirement already satisfied: matplotlib>=3.1.1 in /usr/local/lib/python3.7/dist-packages (from tensortrade==1.0.4.dev0) (3.2.2)\n",
            "Collecting plotly>=4.5.0\n",
            "  Downloading plotly-5.1.0-py2.py3-none-any.whl (20.6 MB)\n",
            "\u001b[K     |████████████████████████████████| 20.6 MB 1.2 MB/s \n",
            "\u001b[?25hRequirement already satisfied: cloudpickle<1.7.0,>=1.2.0 in /usr/local/lib/python3.7/dist-packages (from gym>=0.14.0->tensortrade==1.0.4.dev0) (1.3.0)\n",
            "Requirement already satisfied: scipy in /usr/local/lib/python3.7/dist-packages (from gym>=0.14.0->tensortrade==1.0.4.dev0) (1.4.1)\n",
            "Requirement already satisfied: pyglet<=1.5.0,>=1.4.0 in /usr/local/lib/python3.7/dist-packages (from gym>=0.14.0->tensortrade==1.0.4.dev0) (1.5.0)\n",
            "Requirement already satisfied: jedi>=0.16 in /usr/local/lib/python3.7/dist-packages (from ipython>=7.12.0->tensortrade==1.0.4.dev0) (0.18.0)\n",
            "Requirement already satisfied: backcall in /usr/local/lib/python3.7/dist-packages (from ipython>=7.12.0->tensortrade==1.0.4.dev0) (0.2.0)\n",
            "Collecting prompt-toolkit!=3.0.0,!=3.0.1,<3.1.0,>=2.0.0\n",
            "  Downloading prompt_toolkit-3.0.19-py3-none-any.whl (368 kB)\n",
            "\u001b[K     |████████████████████████████████| 368 kB 50.1 MB/s \n",
            "\u001b[?25hRequirement already satisfied: setuptools>=18.5 in /usr/local/lib/python3.7/dist-packages (from ipython>=7.12.0->tensortrade==1.0.4.dev0) (57.2.0)\n",
            "Requirement already satisfied: decorator in /usr/local/lib/python3.7/dist-packages (from ipython>=7.12.0->tensortrade==1.0.4.dev0) (4.4.2)\n",
            "Requirement already satisfied: matplotlib-inline in /usr/local/lib/python3.7/dist-packages (from ipython>=7.12.0->tensortrade==1.0.4.dev0) (0.1.2)\n",
            "Requirement already satisfied: pexpect>4.3 in /usr/local/lib/python3.7/dist-packages (from ipython>=7.12.0->tensortrade==1.0.4.dev0) (4.8.0)\n",
            "Requirement already satisfied: traitlets>=4.2 in /usr/local/lib/python3.7/dist-packages (from ipython>=7.12.0->tensortrade==1.0.4.dev0) (5.0.5)\n",
            "Requirement already satisfied: pickleshare in /usr/local/lib/python3.7/dist-packages (from ipython>=7.12.0->tensortrade==1.0.4.dev0) (0.7.5)\n",
            "Requirement already satisfied: pygments in /usr/local/lib/python3.7/dist-packages (from ipython>=7.12.0->tensortrade==1.0.4.dev0) (2.6.1)\n",
            "Requirement already satisfied: parso<0.9.0,>=0.8.0 in /usr/local/lib/python3.7/dist-packages (from jedi>=0.16->ipython>=7.12.0->tensortrade==1.0.4.dev0) (0.8.2)\n",
            "Requirement already satisfied: pyparsing!=2.0.4,!=2.1.2,!=2.1.6,>=2.0.1 in /usr/local/lib/python3.7/dist-packages (from matplotlib>=3.1.1->tensortrade==1.0.4.dev0) (2.4.7)\n",
            "Requirement already satisfied: kiwisolver>=1.0.1 in /usr/local/lib/python3.7/dist-packages (from matplotlib>=3.1.1->tensortrade==1.0.4.dev0) (1.3.1)\n",
            "Requirement already satisfied: cycler>=0.10 in /usr/local/lib/python3.7/dist-packages (from matplotlib>=3.1.1->tensortrade==1.0.4.dev0) (0.10.0)\n",
            "Requirement already satisfied: python-dateutil>=2.1 in /usr/local/lib/python3.7/dist-packages (from matplotlib>=3.1.1->tensortrade==1.0.4.dev0) (2.8.1)\n",
            "Requirement already satisfied: six in /usr/local/lib/python3.7/dist-packages (from cycler>=0.10->matplotlib>=3.1.1->tensortrade==1.0.4.dev0) (1.15.0)\n",
            "Requirement already satisfied: pytz>=2017.2 in /usr/local/lib/python3.7/dist-packages (from pandas>=0.25.0->tensortrade==1.0.4.dev0) (2018.9)\n",
            "Requirement already satisfied: ptyprocess>=0.5 in /usr/local/lib/python3.7/dist-packages (from pexpect>4.3->ipython>=7.12.0->tensortrade==1.0.4.dev0) (0.7.0)\n",
            "Collecting tenacity>=6.2.0\n",
            "  Downloading tenacity-8.0.1-py3-none-any.whl (24 kB)\n",
            "Requirement already satisfied: wcwidth in /usr/local/lib/python3.7/dist-packages (from prompt-toolkit!=3.0.0,!=3.0.1,<3.1.0,>=2.0.0->ipython>=7.12.0->tensortrade==1.0.4.dev0) (0.2.5)\n",
            "Requirement already satisfied: future in /usr/local/lib/python3.7/dist-packages (from pyglet<=1.5.0,>=1.4.0->gym>=0.14.0->tensortrade==1.0.4.dev0) (0.16.0)\n",
            "Requirement already satisfied: h5py~=3.1.0 in /usr/local/lib/python3.7/dist-packages (from tensorflow>=2.1.0->tensortrade==1.0.4.dev0) (3.1.0)\n",
            "Requirement already satisfied: protobuf>=3.9.2 in /usr/local/lib/python3.7/dist-packages (from tensorflow>=2.1.0->tensortrade==1.0.4.dev0) (3.17.3)\n",
            "Requirement already satisfied: astunparse~=1.6.3 in /usr/local/lib/python3.7/dist-packages (from tensorflow>=2.1.0->tensortrade==1.0.4.dev0) (1.6.3)\n",
            "Requirement already satisfied: keras-nightly~=2.5.0.dev in /usr/local/lib/python3.7/dist-packages (from tensorflow>=2.1.0->tensortrade==1.0.4.dev0) (2.5.0.dev2021032900)\n",
            "Requirement already satisfied: gast==0.4.0 in /usr/local/lib/python3.7/dist-packages (from tensorflow>=2.1.0->tensortrade==1.0.4.dev0) (0.4.0)\n",
            "Requirement already satisfied: grpcio~=1.34.0 in /usr/local/lib/python3.7/dist-packages (from tensorflow>=2.1.0->tensortrade==1.0.4.dev0) (1.34.1)\n",
            "Requirement already satisfied: keras-preprocessing~=1.1.2 in /usr/local/lib/python3.7/dist-packages (from tensorflow>=2.1.0->tensortrade==1.0.4.dev0) (1.1.2)\n",
            "Requirement already satisfied: google-pasta~=0.2 in /usr/local/lib/python3.7/dist-packages (from tensorflow>=2.1.0->tensortrade==1.0.4.dev0) (0.2.0)\n",
            "Requirement already satisfied: tensorboard~=2.5 in /usr/local/lib/python3.7/dist-packages (from tensorflow>=2.1.0->tensortrade==1.0.4.dev0) (2.5.0)\n",
            "Requirement already satisfied: wheel~=0.35 in /usr/local/lib/python3.7/dist-packages (from tensorflow>=2.1.0->tensortrade==1.0.4.dev0) (0.36.2)\n",
            "Requirement already satisfied: termcolor~=1.1.0 in /usr/local/lib/python3.7/dist-packages (from tensorflow>=2.1.0->tensortrade==1.0.4.dev0) (1.1.0)\n",
            "Requirement already satisfied: tensorflow-estimator<2.6.0,>=2.5.0rc0 in /usr/local/lib/python3.7/dist-packages (from tensorflow>=2.1.0->tensortrade==1.0.4.dev0) (2.5.0)\n",
            "Requirement already satisfied: opt-einsum~=3.3.0 in /usr/local/lib/python3.7/dist-packages (from tensorflow>=2.1.0->tensortrade==1.0.4.dev0) (3.3.0)\n",
            "Requirement already satisfied: absl-py~=0.10 in /usr/local/lib/python3.7/dist-packages (from tensorflow>=2.1.0->tensortrade==1.0.4.dev0) (0.12.0)\n",
            "Requirement already satisfied: typing-extensions~=3.7.4 in /usr/local/lib/python3.7/dist-packages (from tensorflow>=2.1.0->tensortrade==1.0.4.dev0) (3.7.4.3)\n",
            "Requirement already satisfied: flatbuffers~=1.12.0 in /usr/local/lib/python3.7/dist-packages (from tensorflow>=2.1.0->tensortrade==1.0.4.dev0) (1.12)\n",
            "Requirement already satisfied: wrapt~=1.12.1 in /usr/local/lib/python3.7/dist-packages (from tensorflow>=2.1.0->tensortrade==1.0.4.dev0) (1.12.1)\n",
            "Requirement already satisfied: cached-property in /usr/local/lib/python3.7/dist-packages (from h5py~=3.1.0->tensorflow>=2.1.0->tensortrade==1.0.4.dev0) (1.5.2)\n",
            "Requirement already satisfied: google-auth<2,>=1.6.3 in /usr/local/lib/python3.7/dist-packages (from tensorboard~=2.5->tensorflow>=2.1.0->tensortrade==1.0.4.dev0) (1.32.1)\n",
            "Requirement already satisfied: requests<3,>=2.21.0 in /usr/local/lib/python3.7/dist-packages (from tensorboard~=2.5->tensorflow>=2.1.0->tensortrade==1.0.4.dev0) (2.23.0)\n",
            "Requirement already satisfied: tensorboard-data-server<0.7.0,>=0.6.0 in /usr/local/lib/python3.7/dist-packages (from tensorboard~=2.5->tensorflow>=2.1.0->tensortrade==1.0.4.dev0) (0.6.1)\n",
            "Requirement already satisfied: tensorboard-plugin-wit>=1.6.0 in /usr/local/lib/python3.7/dist-packages (from tensorboard~=2.5->tensorflow>=2.1.0->tensortrade==1.0.4.dev0) (1.8.0)\n",
            "Requirement already satisfied: google-auth-oauthlib<0.5,>=0.4.1 in /usr/local/lib/python3.7/dist-packages (from tensorboard~=2.5->tensorflow>=2.1.0->tensortrade==1.0.4.dev0) (0.4.4)\n",
            "Requirement already satisfied: markdown>=2.6.8 in /usr/local/lib/python3.7/dist-packages (from tensorboard~=2.5->tensorflow>=2.1.0->tensortrade==1.0.4.dev0) (3.3.4)\n",
            "Requirement already satisfied: werkzeug>=0.11.15 in /usr/local/lib/python3.7/dist-packages (from tensorboard~=2.5->tensorflow>=2.1.0->tensortrade==1.0.4.dev0) (1.0.1)\n",
            "Requirement already satisfied: cachetools<5.0,>=2.0.0 in /usr/local/lib/python3.7/dist-packages (from google-auth<2,>=1.6.3->tensorboard~=2.5->tensorflow>=2.1.0->tensortrade==1.0.4.dev0) (4.2.2)\n",
            "Requirement already satisfied: pyasn1-modules>=0.2.1 in /usr/local/lib/python3.7/dist-packages (from google-auth<2,>=1.6.3->tensorboard~=2.5->tensorflow>=2.1.0->tensortrade==1.0.4.dev0) (0.2.8)\n",
            "Requirement already satisfied: rsa<5,>=3.1.4 in /usr/local/lib/python3.7/dist-packages (from google-auth<2,>=1.6.3->tensorboard~=2.5->tensorflow>=2.1.0->tensortrade==1.0.4.dev0) (4.7.2)\n",
            "Requirement already satisfied: requests-oauthlib>=0.7.0 in /usr/local/lib/python3.7/dist-packages (from google-auth-oauthlib<0.5,>=0.4.1->tensorboard~=2.5->tensorflow>=2.1.0->tensortrade==1.0.4.dev0) (1.3.0)\n",
            "Requirement already satisfied: importlib-metadata in /usr/local/lib/python3.7/dist-packages (from markdown>=2.6.8->tensorboard~=2.5->tensorflow>=2.1.0->tensortrade==1.0.4.dev0) (4.6.1)\n",
            "Requirement already satisfied: pyasn1<0.5.0,>=0.4.6 in /usr/local/lib/python3.7/dist-packages (from pyasn1-modules>=0.2.1->google-auth<2,>=1.6.3->tensorboard~=2.5->tensorflow>=2.1.0->tensortrade==1.0.4.dev0) (0.4.8)\n",
            "Requirement already satisfied: idna<3,>=2.5 in /usr/local/lib/python3.7/dist-packages (from requests<3,>=2.21.0->tensorboard~=2.5->tensorflow>=2.1.0->tensortrade==1.0.4.dev0) (2.10)\n",
            "Requirement already satisfied: urllib3!=1.25.0,!=1.25.1,<1.26,>=1.21.1 in /usr/local/lib/python3.7/dist-packages (from requests<3,>=2.21.0->tensorboard~=2.5->tensorflow>=2.1.0->tensortrade==1.0.4.dev0) (1.24.3)\n",
            "Requirement already satisfied: chardet<4,>=3.0.2 in /usr/local/lib/python3.7/dist-packages (from requests<3,>=2.21.0->tensorboard~=2.5->tensorflow>=2.1.0->tensortrade==1.0.4.dev0) (3.0.4)\n",
            "Requirement already satisfied: certifi>=2017.4.17 in /usr/local/lib/python3.7/dist-packages (from requests<3,>=2.21.0->tensorboard~=2.5->tensorflow>=2.1.0->tensortrade==1.0.4.dev0) (2021.5.30)\n",
            "Requirement already satisfied: oauthlib>=3.0.0 in /usr/local/lib/python3.7/dist-packages (from requests-oauthlib>=0.7.0->google-auth-oauthlib<0.5,>=0.4.1->tensorboard~=2.5->tensorflow>=2.1.0->tensortrade==1.0.4.dev0) (3.1.1)\n",
            "Requirement already satisfied: ipython-genutils in /usr/local/lib/python3.7/dist-packages (from traitlets>=4.2->ipython>=7.12.0->tensortrade==1.0.4.dev0) (0.2.0)\n",
            "Requirement already satisfied: zipp>=0.5 in /usr/local/lib/python3.7/dist-packages (from importlib-metadata->markdown>=2.6.8->tensorboard~=2.5->tensorflow>=2.1.0->tensortrade==1.0.4.dev0) (3.5.0)\n",
            "Building wheels for collected packages: tensortrade\n",
            "  Building wheel for tensortrade (setup.py) ... \u001b[?25l\u001b[?25hdone\n",
            "  Created wheel for tensortrade: filename=tensortrade-1.0.4.dev0-py3-none-any.whl size=134163 sha256=f305d5ccc9529c59b1d10d36fc475a42bebd9dc3caf4bfef00d8720359176bb6\n",
            "  Stored in directory: /tmp/pip-ephem-wheel-cache-uadoasg4/wheels/f8/96/4d/142e37e09469abec8017a451809b175d5f64d0ce81cbe8d8ec\n",
            "Successfully built tensortrade\n",
            "Installing collected packages: tenacity, prompt-toolkit, stochastic, pyyaml, plotly, ipython, tensortrade\n",
            "  Attempting uninstall: prompt-toolkit\n",
            "    Found existing installation: prompt-toolkit 1.0.18\n",
            "    Uninstalling prompt-toolkit-1.0.18:\n",
            "      Successfully uninstalled prompt-toolkit-1.0.18\n",
            "  Attempting uninstall: pyyaml\n",
            "    Found existing installation: PyYAML 3.13\n",
            "    Uninstalling PyYAML-3.13:\n",
            "      Successfully uninstalled PyYAML-3.13\n",
            "  Attempting uninstall: plotly\n",
            "    Found existing installation: plotly 4.4.1\n",
            "    Uninstalling plotly-4.4.1:\n",
            "      Successfully uninstalled plotly-4.4.1\n",
            "  Attempting uninstall: ipython\n",
            "    Found existing installation: ipython 5.5.0\n",
            "    Uninstalling ipython-5.5.0:\n",
            "      Successfully uninstalled ipython-5.5.0\n",
            "\u001b[31mERROR: pip's dependency resolver does not currently take into account all the packages that are installed. This behaviour is the source of the following dependency conflicts.\n",
            "jupyter-console 5.2.0 requires prompt-toolkit<2.0.0,>=1.0.0, but you have prompt-toolkit 3.0.19 which is incompatible.\n",
            "google-colab 1.0.0 requires ipython~=5.5.0, but you have ipython 7.26.0 which is incompatible.\u001b[0m\n",
            "Successfully installed ipython-7.26.0 plotly-5.1.0 prompt-toolkit-3.0.19 pyyaml-5.4.1 stochastic-0.6.0 tenacity-8.0.1 tensortrade-1.0.4.dev0\n"
          ],
          "name": "stdout"
        }
      ]
    },
    {
      "cell_type": "code",
      "metadata": {
        "id": "x5O6vFVs6fbd"
      },
      "source": [
        "import pandas as pd\n",
        "import tensortrade.env.default as default\n",
        "\n",
        "from tensortrade.data.cdd import CryptoDataDownload\n",
        "from tensortrade.feed.core import Stream, DataFeed\n",
        "from tensortrade.oms.exchanges import Exchange\n",
        "from tensortrade.oms.services.execution.simulated import execute_order\n",
        "from tensortrade.oms.instruments import USD, BTC, ETH\n",
        "from tensortrade.oms.wallets import Wallet, Portfolio\n",
        "from tensortrade.agents import DQNAgent\n",
        "\n",
        "\n",
        "%matplotlib inline"
      ],
      "execution_count": 2,
      "outputs": []
    },
    {
      "cell_type": "code",
      "metadata": {
        "id": "2Dzu31Ch6rUQ"
      },
      "source": [
        "cdd = CryptoDataDownload()\n",
        "\n",
        "data = cdd.fetch(\"Bitstamp\", \"USD\", \"BTC\", \"1h\")"
      ],
      "execution_count": 3,
      "outputs": []
    },
    {
      "cell_type": "code",
      "metadata": {
        "id": "i9_3jLZZ6urd",
        "outputId": "e2ca1b8b-1fa9-4314-8ab9-30e48688367d",
        "colab": {
          "base_uri": "https://localhost:8080/",
          "height": 202
        }
      },
      "source": [
        "data.head()"
      ],
      "execution_count": 4,
      "outputs": [
        {
          "output_type": "execute_result",
          "data": {
            "text/html": [
              "<div>\n",
              "<style scoped>\n",
              "    .dataframe tbody tr th:only-of-type {\n",
              "        vertical-align: middle;\n",
              "    }\n",
              "\n",
              "    .dataframe tbody tr th {\n",
              "        vertical-align: top;\n",
              "    }\n",
              "\n",
              "    .dataframe thead th {\n",
              "        text-align: right;\n",
              "    }\n",
              "</style>\n",
              "<table border=\"1\" class=\"dataframe\">\n",
              "  <thead>\n",
              "    <tr style=\"text-align: right;\">\n",
              "      <th></th>\n",
              "      <th>date</th>\n",
              "      <th>unix</th>\n",
              "      <th>open</th>\n",
              "      <th>high</th>\n",
              "      <th>low</th>\n",
              "      <th>close</th>\n",
              "      <th>volume</th>\n",
              "    </tr>\n",
              "  </thead>\n",
              "  <tbody>\n",
              "    <tr>\n",
              "      <th>0</th>\n",
              "      <td>2018-05-15 06:00:00</td>\n",
              "      <td>1526364000</td>\n",
              "      <td>8733.86</td>\n",
              "      <td>8796.68</td>\n",
              "      <td>8707.28</td>\n",
              "      <td>8740.99</td>\n",
              "      <td>559.93</td>\n",
              "    </tr>\n",
              "    <tr>\n",
              "      <th>1</th>\n",
              "      <td>2018-05-15 07:00:00</td>\n",
              "      <td>1526367600</td>\n",
              "      <td>8740.99</td>\n",
              "      <td>8766.00</td>\n",
              "      <td>8721.11</td>\n",
              "      <td>8739.00</td>\n",
              "      <td>273.58</td>\n",
              "    </tr>\n",
              "    <tr>\n",
              "      <th>2</th>\n",
              "      <td>2018-05-15 08:00:00</td>\n",
              "      <td>1526371200</td>\n",
              "      <td>8739.00</td>\n",
              "      <td>8750.27</td>\n",
              "      <td>8660.53</td>\n",
              "      <td>8728.49</td>\n",
              "      <td>917.79</td>\n",
              "    </tr>\n",
              "    <tr>\n",
              "      <th>3</th>\n",
              "      <td>2018-05-15 09:00:00</td>\n",
              "      <td>1526374800</td>\n",
              "      <td>8728.49</td>\n",
              "      <td>8754.40</td>\n",
              "      <td>8701.35</td>\n",
              "      <td>8708.32</td>\n",
              "      <td>182.62</td>\n",
              "    </tr>\n",
              "    <tr>\n",
              "      <th>4</th>\n",
              "      <td>2018-05-15 10:00:00</td>\n",
              "      <td>1526378400</td>\n",
              "      <td>8708.32</td>\n",
              "      <td>8865.00</td>\n",
              "      <td>8695.11</td>\n",
              "      <td>8795.90</td>\n",
              "      <td>1260.69</td>\n",
              "    </tr>\n",
              "  </tbody>\n",
              "</table>\n",
              "</div>"
            ],
            "text/plain": [
              "                 date        unix     open     high      low    close   volume\n",
              "0 2018-05-15 06:00:00  1526364000  8733.86  8796.68  8707.28  8740.99   559.93\n",
              "1 2018-05-15 07:00:00  1526367600  8740.99  8766.00  8721.11  8739.00   273.58\n",
              "2 2018-05-15 08:00:00  1526371200  8739.00  8750.27  8660.53  8728.49   917.79\n",
              "3 2018-05-15 09:00:00  1526374800  8728.49  8754.40  8701.35  8708.32   182.62\n",
              "4 2018-05-15 10:00:00  1526378400  8708.32  8865.00  8695.11  8795.90  1260.69"
            ]
          },
          "metadata": {
            "tags": []
          },
          "execution_count": 4
        }
      ]
    },
    {
      "cell_type": "code",
      "metadata": {
        "id": "Sm-ZFOlJ6xmz"
      },
      "source": [
        "def rsi(price: Stream[float], period: float) -> Stream[float]:\n",
        "    r = price.diff()\n",
        "    upside = r.clamp_min(0).abs()\n",
        "    downside = r.clamp_max(0).abs()\n",
        "    rs = upside.ewm(alpha=1 / period).mean() / downside.ewm(alpha=1 / period).mean()\n",
        "    return 100*(1 - (1 + rs) ** -1)\n",
        "\n",
        "\n",
        "def macd(price: Stream[float], fast: float, slow: float, signal: float) -> Stream[float]:\n",
        "    fm = price.ewm(span=fast, adjust=False).mean()\n",
        "    sm = price.ewm(span=slow, adjust=False).mean()\n",
        "    md = fm - sm\n",
        "    signal = md - md.ewm(span=signal, adjust=False).mean()\n",
        "    return signal\n",
        "\n",
        "\n",
        "features = []\n",
        "for c in data.columns[1:]:\n",
        "    s = Stream.source(list(data[c]), dtype=\"float\").rename(data[c].name)\n",
        "    features += [s]\n",
        "\n",
        "cp = Stream.select(features, lambda s: s.name == \"close\")\n",
        "\n",
        "features = [\n",
        "    cp.log().diff().rename(\"lr\"),\n",
        "    rsi(cp, period=20).rename(\"rsi\"),\n",
        "    macd(cp, fast=10, slow=50, signal=5).rename(\"macd\")\n",
        "]\n",
        "\n",
        "feed = DataFeed(features)\n",
        "feed.compile()\n"
      ],
      "execution_count": 5,
      "outputs": []
    },
    {
      "cell_type": "code",
      "metadata": {
        "id": "deVqwDZc65F7",
        "outputId": "5642f1ad-6adb-4b88-97f0-fd05a3847edc",
        "colab": {
          "base_uri": "https://localhost:8080/"
        }
      },
      "source": [
        "for i in range(5):\n",
        "    print(feed.next())"
      ],
      "execution_count": 6,
      "outputs": [
        {
          "output_type": "stream",
          "text": [
            "{'lr': nan, 'rsi': nan, 'macd': 0.0}\n",
            "{'lr': -0.00022768891842694927, 'rsi': 0.0, 'macd': -0.1891859774210995}\n",
            "{'lr': -0.0012033785355889393, 'rsi': 0.0, 'macd': -1.2726616061000744}\n",
            "{'lr': -0.0023134975946028646, 'rsi': 0.0, 'macd': -3.6577343503541435}\n",
            "{'lr': 0.01000681330867259, 'rsi': 74.26253567956897, 'macd': 3.7087743627464844}\n"
          ],
          "name": "stdout"
        }
      ]
    },
    {
      "cell_type": "code",
      "metadata": {
        "id": "JpKT9gJo675F"
      },
      "source": [
        "\n",
        "bitstamp = Exchange(\"bitstamp\", service=execute_order)(\n",
        "    Stream.source(list(data[\"close\"]), dtype=\"float\").rename(\"USD-BTC\")\n",
        ")\n",
        "\n",
        "portfolio = Portfolio(USD, [\n",
        "    Wallet(bitstamp, 10000 * USD),\n",
        "    Wallet(bitstamp, 10 * BTC)\n",
        "])\n",
        "\n",
        "\n",
        "renderer_feed = DataFeed([\n",
        "    Stream.source(list(data[\"date\"])).rename(\"date\"),\n",
        "    Stream.source(list(data[\"open\"]), dtype=\"float\").rename(\"open\"),\n",
        "    Stream.source(list(data[\"high\"]), dtype=\"float\").rename(\"high\"),\n",
        "    Stream.source(list(data[\"low\"]), dtype=\"float\").rename(\"low\"),\n",
        "    Stream.source(list(data[\"close\"]), dtype=\"float\").rename(\"close\"), \n",
        "    Stream.source(list(data[\"volume\"]), dtype=\"float\").rename(\"volume\") \n",
        "])\n",
        "\n",
        "\n",
        "env = default.create(\n",
        "    portfolio=portfolio,\n",
        "    action_scheme=\"managed-risk\",\n",
        "    reward_scheme=\"risk-adjusted\",\n",
        "    feed=feed,\n",
        "    renderer_feed=renderer_feed,\n",
        "    renderer=default.renderers.PlotlyTradingChart(),\n",
        "    window_size=20\n",
        ")"
      ],
      "execution_count": 7,
      "outputs": []
    },
    {
      "cell_type": "code",
      "metadata": {
        "id": "_9TSQaIe6-uf",
        "outputId": "11491997-76be-421d-863b-7a3affff0534",
        "colab": {
          "base_uri": "https://localhost:8080/"
        }
      },
      "source": [
        "env.observer.feed.next()\n"
      ],
      "execution_count": 8,
      "outputs": [
        {
          "output_type": "execute_result",
          "data": {
            "text/plain": [
              "{'external': {'lr': nan, 'macd': 0.0, 'rsi': nan},\n",
              " 'internal': {'bitstamp:/BTC:/free': 10.0,\n",
              "  'bitstamp:/BTC:/locked': 0.0,\n",
              "  'bitstamp:/BTC:/total': 10.0,\n",
              "  'bitstamp:/BTC:/worth': 87409.9,\n",
              "  'bitstamp:/USD-BTC': 8740.99,\n",
              "  'bitstamp:/USD:/free': 10000.0,\n",
              "  'bitstamp:/USD:/locked': 0.0,\n",
              "  'bitstamp:/USD:/total': 10000.0,\n",
              "  'net_worth': 97409.9},\n",
              " 'renderer': {'close': 8740.99,\n",
              "  'date': Timestamp('2018-05-15 06:00:00'),\n",
              "  'high': 8796.68,\n",
              "  'low': 8707.28,\n",
              "  'open': 8733.86,\n",
              "  'volume': 559.93}}"
            ]
          },
          "metadata": {
            "tags": []
          },
          "execution_count": 8
        }
      ]
    },
    {
      "cell_type": "code",
      "metadata": {
        "id": "kzCNGPEV7BUJ",
        "outputId": "715490eb-9326-4667-bf07-2c6197fe8a9d",
        "colab": {
          "base_uri": "https://localhost:8080/",
          "height": 1000,
          "referenced_widgets": [
            "4cd16ecb078d4abf824ff3e438e930c5"
          ]
        }
      },
      "source": [
        "agent = DQNAgent(env)\n",
        "\n",
        "agent.train(n_steps=200, n_episodes=2, save_path=\"agents/\")"
      ],
      "execution_count": 9,
      "outputs": [
        {
          "output_type": "display_data",
          "data": {
            "application/vnd.jupyter.widget-view+json": {
              "model_id": "4cd16ecb078d4abf824ff3e438e930c5",
              "version_minor": 0,
              "version_major": 2
            },
            "text/plain": [
              "FigureWidget({\n",
              "    'data': [{'close': array([8740.99, 8739.  , 8728.49, ..., 7911.83, 7901.01, 7887.  ]),\n",
              "    …"
            ]
          },
          "metadata": {
            "tags": []
          }
        },
        {
          "output_type": "display_data",
          "data": {
            "text/html": [
              "<html>\n",
              "<head><meta charset=\"utf-8\" /></head>\n",
              "<body>\n",
              "    <div>            <script src=\"https://cdnjs.cloudflare.com/ajax/libs/mathjax/2.7.5/MathJax.js?config=TeX-AMS-MML_SVG\"></script><script type=\"text/javascript\">if (window.MathJax) {MathJax.Hub.Config({SVG: {font: \"STIX-Web\"}});}</script>                <script type=\"text/javascript\">window.PlotlyConfig = {MathJaxConfig: 'local'};</script>\n",
              "        <script src=\"https://cdn.plot.ly/plotly-2.2.0.min.js\"></script>                <div id=\"b33b81df-25c3-4af1-9103-3d5faff7d2bf\" class=\"plotly-graph-div\" style=\"height:525px; width:100%;\"></div>            <script type=\"text/javascript\">                                    window.PLOTLYENV=window.PLOTLYENV || {};                                    if (document.getElementById(\"b33b81df-25c3-4af1-9103-3d5faff7d2bf\")) {                    Plotly.newPlot(                        \"b33b81df-25c3-4af1-9103-3d5faff7d2bf\",                        [{\"close\":[8740.99,8739.0,8728.49,8708.32,8795.9,8760.0,8760.0,8759.23,8517.77,8520.3,8535.23,8546.34,8526.65,8555.6,8512.1,8492.28,8460.0,8474.99,8455.92,8326.28,8133.43,8164.79,8229.38,8220.4,8238.8,8232.99,8207.48,8243.45,8371.13,8373.0,8365.08,8179.99,8225.0,8285.8,8273.4,8297.4,8279.89,8252.72,8302.18,8295.85,8277.25,8346.59,8358.3,8375.1,8368.62,8366.72,8314.77,8363.7,8344.16,8247.4,8277.4],\"high\":[8796.68,8766.0,8750.27,8754.4,8865.0,8821.19,8798.6,8771.02,8761.7,8553.67,8589.1,8579.48,8555.51,8583.6,8569.92,8555.54,8557.51,8505.0,8505.33,8478.29,8339.81,8217.44,8252.72,8248.63,8267.12,8255.0,8261.24,8263.93,8455.66,8439.44,8399.1,8381.73,8229.91,8377.29,8329.1,8350.0,8346.95,8377.29,8311.35,8319.96,8398.24,8372.58,8399.99,8386.53,8400.0,8500.0,8381.0,8371.3,8382.41,8351.0,8292.99],\"low\":[8707.28,8721.11,8660.53,8701.35,8695.11,8740.54,8741.52,8700.0,8467.42,8477.89,8500.78,8500.0,8400.0,8451.05,8461.38,8481.24,8420.37,8450.0,8430.94,8275.02,8100.01,8122.56,8157.01,8166.25,8176.91,8213.79,8200.0,8207.48,8237.1,8370.0,8356.4,8145.1,8173.6,8211.8,8201.0,8250.9,8266.46,8252.72,8232.14,8268.37,8277.25,8277.25,8314.78,8314.77,8350.07,8331.39,8314.77,8275.45,8335.49,8191.14,8227.7],\"name\":\"Price\",\"open\":[8733.86,8740.99,8739.0,8728.49,8708.32,8795.9,8760.0,8760.0,8759.23,8517.77,8520.3,8535.23,8546.34,8526.65,8555.6,8512.1,8492.28,8460.0,8474.99,8455.92,8326.28,8133.43,8164.79,8229.38,8220.4,8238.8,8232.99,8207.48,8243.45,8371.13,8373.0,8365.08,8179.99,8225.0,8285.8,8273.4,8297.4,8279.89,8252.72,8302.18,8295.85,8277.25,8346.59,8358.3,8375.1,8368.62,8366.72,8314.77,8363.7,8344.16,8247.4],\"showlegend\":false,\"type\":\"candlestick\",\"uid\":\"b074e35e-1d88-471d-a273-05cdd3adfb9e\",\"xaxis\":\"x\",\"yaxis\":\"y\"},{\"marker\":{\"color\":\"DodgerBlue\"},\"name\":\"Volume\",\"showlegend\":false,\"type\":\"bar\",\"uid\":\"6310725c-c48d-4e23-81c1-e6eff15be8f1\",\"xaxis\":\"x2\",\"y\":[559.93,273.58,917.79,182.62,1260.69,324.11,324.2,730.67,1341.75,792.07,385.69,475.08,877.26,670.49,610.97,168.99,305.92,136.05,154.26,1070.93,1710.2,492.8,630.72,620.93,586.34,304.52,450.97,182.36,915.32,319.29,362.01,1046.38,357.91,561.2,322.53,1073.71,237.21,251.2,359.73,117.23,363.17,214.18,171.64,258.58,299.52,718.98,119.7,405.25,210.77,714.82,215.97],\"yaxis\":\"y2\"},{\"mode\":\"lines\",\"name\":\"bitstamp:/USD-BTC\",\"type\":\"scatter\",\"uid\":\"e1821495-f603-4c3b-adf2-36bec84f46ac\",\"xaxis\":\"x3\",\"y\":[8740.99,8739.0,8728.49,8708.32,8795.9,8760.0,8760.0,8759.23,8517.77,8520.3,8535.23,8546.34,8526.65,8555.6,8512.1,8492.28,8460.0,8474.99,8455.92,8326.28,8133.43,8164.79,8229.38,8220.4,8238.8,8232.99,8207.48,8243.45,8371.13,8373.0,8365.08,8179.99,8225.0,8285.8,8273.4,8297.4,8279.89,8252.72,8302.18,8295.85,8277.25,8346.59,8358.3,8375.1,8368.62,8366.72,8314.77,8363.7,8344.16,8247.4,8277.4],\"yaxis\":\"y3\"},{\"mode\":\"lines\",\"name\":\"bitstamp:/USD:/free\",\"type\":\"scatter\",\"uid\":\"cfc8cb6d-4832-4bd2-93fc-72c2481ca6b4\",\"xaxis\":\"x3\",\"y\":[10000.0,10000.0,10000.0,10000.0,10000.0,2000.0,2000.0,2000.0,2000.0,2000.0,2000.0,2000.0,2000.0,2000.0,2000.0,0.0,0.0,0.0,0.0,0.0,1944.62,9297.78,7438.22,5206.75,5206.75,5206.75,5206.75,5206.75,3124.05,7275.49,7275.49,2182.65,0.0,0.0,0.0,0.0,0.0,0.0,0.0,0.0,0.0,0.0,0.0,0.0,0.0,0.0,0.0,0.0,0.0,0.0,0.0],\"yaxis\":\"y3\"},{\"mode\":\"lines\",\"name\":\"bitstamp:/USD:/locked\",\"type\":\"scatter\",\"uid\":\"4fe50199-bde9-4951-810d-2de89e11cb6f\",\"xaxis\":\"x3\",\"y\":[0.0,0.0,0.0,0.0,0.0,0.0,0.0,0.0,0.0,0.0,0.0,0.0,0.0,0.0,0.0,0.0,0.0,0.0,0.0,0.0,0.0,0.0,0.0,0.0,0.0,0.0,0.0,0.0,0.0,0.0,0.0,0.0,0.0,0.0,0.0,0.0,0.0,0.0,0.0,0.0,0.0,0.0,0.0,0.0,0.0,0.0,0.0,0.0,0.0,0.0,0.0],\"yaxis\":\"y3\"},{\"mode\":\"lines\",\"name\":\"bitstamp:/USD:/total\",\"type\":\"scatter\",\"uid\":\"fb7d08c2-3958-4ce9-84d7-48e04e03b6a2\",\"xaxis\":\"x3\",\"y\":[10000.0,10000.0,10000.0,10000.0,10000.0,2000.0,2000.0,2000.0,2000.0,2000.0,2000.0,2000.0,2000.0,2000.0,2000.0,0.0,0.0,0.0,0.0,0.0,1944.62,9297.78,7438.22,5206.75,5206.75,5206.75,5206.75,5206.75,3124.05,7275.49,7275.49,2182.65,0.0,0.0,0.0,0.0,0.0,0.0,0.0,0.0,0.0,0.0,0.0,0.0,0.0,0.0,0.0,0.0,0.0,0.0,0.0],\"yaxis\":\"y3\"},{\"mode\":\"lines\",\"name\":\"bitstamp:/BTC:/free\",\"type\":\"scatter\",\"uid\":\"4e8f59db-2d21-45cc-9a7f-cd3f89b13613\",\"xaxis\":\"x3\",\"y\":[10.0,10.0,10.0,10.0,10.0,10.0,10.0,10.0,10.0,10.0,10.0,10.0,10.0,10.0,10.0,10.0,10.0,10.0,10.0,10.0,10.0,10.0,10.0,10.0,10.0,10.0,10.0,10.0,10.0,10.0,10.0,10.0,10.0,10.0,10.0,10.0,10.0,10.0,10.0,10.0,10.0,10.0,10.0,10.0,10.0,10.0,10.0,10.0,10.0,10.0,10.0],\"yaxis\":\"y3\"},{\"mode\":\"lines\",\"name\":\"bitstamp:/BTC:/locked\",\"type\":\"scatter\",\"uid\":\"394cf790-ae62-4be8-9a6d-fa0eed31b647\",\"xaxis\":\"x3\",\"y\":[0.0,0.0,0.0,0.0,0.0,0.90678612,0.90678612,0.90678612,0.90678612,0.90678612,0.90678612,0.90678612,0.90678612,0.90678612,0.90678612,1.14104089,1.14104089,1.14104089,1.14104089,1.14104089,0.90678612,0.0,0.22707014,0.49741614,0.49741614,0.49741614,0.49741614,0.49741614,0.74930704,0.2518909,0.2518909,0.85888569,1.12491291,1.12491291,1.12491291,1.12491291,1.12491291,1.12491291,1.12491291,1.12491291,1.12491291,1.12491291,1.12491291,1.12491291,1.12491291,1.12491291,1.12491291,1.12491291,1.12491291,1.12491291,1.12491291],\"yaxis\":\"y3\"},{\"mode\":\"lines\",\"name\":\"bitstamp:/BTC:/total\",\"type\":\"scatter\",\"uid\":\"97092c0a-1181-41cb-b6ff-814c735c5002\",\"xaxis\":\"x3\",\"y\":[10.0,10.0,10.0,10.0,10.0,10.90678612,10.90678612,10.90678612,10.90678612,10.90678612,10.90678612,10.90678612,10.90678612,10.90678612,10.90678612,11.14104089,11.14104089,11.14104089,11.14104089,11.14104089,10.90678612,10.0,10.22707014,10.49741614,10.49741614,10.49741614,10.49741614,10.49741614,10.74930704,10.2518909,10.2518909,10.85888569,11.12491291,11.12491291,11.12491291,11.12491291,11.12491291,11.12491291,11.12491291,11.12491291,11.12491291,11.12491291,11.12491291,11.12491291,11.12491291,11.12491291,11.12491291,11.12491291,11.12491291,11.12491291,11.12491291],\"yaxis\":\"y3\"},{\"mode\":\"lines\",\"name\":\"bitstamp:/BTC:/worth\",\"type\":\"scatter\",\"uid\":\"ad9504a4-7747-4a51-b140-9ddac3c900c1\",\"xaxis\":\"x3\",\"y\":[87409.9,87390.0,87284.9,87083.2,87959.0,95543.4464112,95543.4464112,95535.04818588759,92901.4956093524,92929.08977823598,93091.92809500759,93213.1024888008,92998.34787009799,93314.099328272,92839.654132052,94612.8387293292,94253.20592939999,94420.21013234109,94207.7504825688,92763.4259415892,88709.5814319916,81647.9,84162.4464687132,86292.959637256,86486.112094232,86425.1221064586,86157.3330207272,86534.92507928301,89983.84664175518,85839.08250569999,85757.887529772,88825.57635534309,91502.40868475,92178.803389678,92040.854469594,92307.852379434,92113.0551543799,91810.7912706152,92361.02946314382,92290.60876442351,92083.68538429751,92855.08684547691,92985.359575653,93172.258112541,93100.16867688422,93079.0313423552,92501.09211668071,93045.43410536702,92828.05330710561,91751.60673393401,92085.354121234],\"yaxis\":\"y3\"},{\"mode\":\"lines\",\"name\":\"net_worth\",\"type\":\"scatter\",\"uid\":\"860ec2ed-9bc8-4908-a89c-1ff2e3aef539\",\"xaxis\":\"x3\",\"y\":[97409.9,97390.0,97284.9,97083.2,97959.0,97543.4464112,97543.4464112,97535.04818588759,94901.4956093524,94929.08977823598,95091.92809500759,95213.1024888008,94998.34787009799,95314.099328272,94839.654132052,94612.8387293292,94253.20592939999,94420.21013234109,94207.7504825688,92763.4259415892,90654.20143199159,90945.68,91600.6664687132,91499.709637256,91692.862094232,91631.8721064586,91364.0830207272,91741.67507928301,93107.89664175519,93114.5725057,93033.377529772,91008.22635534308,91502.40868475,92178.803389678,92040.854469594,92307.852379434,92113.0551543799,91810.7912706152,92361.02946314382,92290.60876442351,92083.68538429751,92855.08684547691,92985.359575653,93172.258112541,93100.16867688422,93079.0313423552,92501.09211668071,93045.43410536702,92828.05330710561,91751.60673393401,92085.354121234],\"yaxis\":\"y3\"},{\"marker\":{\"color\":\"DarkGreen\"},\"mode\":\"lines\",\"name\":\"Net Worth\",\"type\":\"scatter\",\"uid\":\"76ab2fe2-a80c-488c-a9e4-75f0f9adbd7f\",\"xaxis\":\"x4\",\"y\":[97409.9,97390.0,97284.9,97083.2,97959.0,97543.4464112,97543.4464112,97535.04818588759,94901.4956093524,94929.08977823598,95091.92809500759,95213.1024888008,94998.34787009799,95314.099328272,94839.654132052,94612.8387293292,94253.20592939999,94420.21013234109,94207.7504825688,92763.4259415892,90654.20143199159,90945.68,91600.6664687132,91499.709637256,91692.862094232,91631.8721064586,91364.0830207272,91741.67507928301,93107.89664175519,93114.5725057,93033.377529772,91008.22635534308,91502.40868475,92178.803389678,92040.854469594,92307.852379434,92113.0551543799,91810.7912706152,92361.02946314382,92290.60876442351,92083.68538429751,92855.08684547691,92985.359575653,93172.258112541,93100.16867688422,93079.0313423552,92501.09211668071,93045.43410536702,92828.05330710561,91751.60673393401,92085.354121234],\"yaxis\":\"y4\"}],                        {\"annotations\":[{\"arrowcolor\":\"DarkGreen\",\"arrowhead\":2,\"arrowsize\":0.8,\"arrowwidth\":4,\"ax\":0,\"ay\":15,\"hoverlabel\":{\"bgcolor\":\"DarkGreen\"},\"hovertext\":\"Step 32 [2018-05-16 13:00:00]<br>BUY 0.26602722 BTC @ 8179.99 USD MARKET<br>Total: 2176.1 USD - Comm.: 6.55 USD\",\"opacity\":0.6,\"showarrow\":true,\"x\":31,\"xref\":\"x\",\"y\":8179.99,\"yref\":\"y\"},{\"arrowcolor\":\"DarkGreen\",\"arrowhead\":2,\"arrowsize\":0.8,\"arrowwidth\":4,\"ax\":0,\"ay\":15,\"hoverlabel\":{\"bgcolor\":\"DarkGreen\"},\"hovertext\":\"Step 31 [2018-05-16 12:00:00]<br>BUY 0.60699479 BTC @ 8365.08 USD MARKET<br>Total: 5077.56 USD - Comm.: 15.28 USD\",\"opacity\":0.6,\"showarrow\":true,\"x\":30,\"xref\":\"x\",\"y\":8365.08,\"yref\":\"y\"},{\"arrowcolor\":\"FireBrick\",\"arrowhead\":2,\"arrowsize\":0.8,\"arrowwidth\":4,\"ax\":0,\"ay\":-15,\"hoverlabel\":{\"bgcolor\":\"FireBrick\"},\"hovertext\":\"Step 29 [2018-05-16 10:00:00]<br>SELL 0.26953496 BTC @ 8371.13 USD MARKET<br>Total: 2256.31 USD - Comm.: 0.00081104 BTC\",\"opacity\":0.6,\"showarrow\":true,\"x\":28,\"xref\":\"x\",\"y\":8371.13,\"yref\":\"y\"},{\"arrowcolor\":\"FireBrick\",\"arrowhead\":2,\"arrowsize\":0.8,\"arrowwidth\":4,\"ax\":0,\"ay\":-15,\"hoverlabel\":{\"bgcolor\":\"FireBrick\"},\"hovertext\":\"Step 29 [2018-05-16 10:00:00]<br>SELL 0.22638893 BTC @ 8371.13 USD MARKET<br>Total: 1895.13 USD - Comm.: 0.00068121 BTC\",\"opacity\":0.6,\"showarrow\":true,\"x\":28,\"xref\":\"x\",\"y\":8371.13,\"yref\":\"y\"},{\"arrowcolor\":\"DarkGreen\",\"arrowhead\":2,\"arrowsize\":0.8,\"arrowwidth\":4,\"ax\":0,\"ay\":15,\"hoverlabel\":{\"bgcolor\":\"DarkGreen\"},\"hovertext\":\"Step 28 [2018-05-16 09:00:00]<br>BUY 0.2518909 BTC @ 8243.45 USD MARKET<br>Total: 2076.45 USD - Comm.: 6.25 USD\",\"opacity\":0.6,\"showarrow\":true,\"x\":27,\"xref\":\"x\",\"y\":8243.45,\"yref\":\"y\"},{\"arrowcolor\":\"DarkGreen\",\"arrowhead\":2,\"arrowsize\":0.8,\"arrowwidth\":4,\"ax\":0,\"ay\":15,\"hoverlabel\":{\"bgcolor\":\"DarkGreen\"},\"hovertext\":\"Step 23 [2018-05-16 04:00:00]<br>BUY 0.270346 BTC @ 8229.38 USD MARKET<br>Total: 2224.78 USD - Comm.: 6.69 USD\",\"opacity\":0.6,\"showarrow\":true,\"x\":22,\"xref\":\"x\",\"y\":8229.38,\"yref\":\"y\"},{\"arrowcolor\":\"DarkGreen\",\"arrowhead\":2,\"arrowsize\":0.8,\"arrowwidth\":4,\"ax\":0,\"ay\":15,\"hoverlabel\":{\"bgcolor\":\"DarkGreen\"},\"hovertext\":\"Step 22 [2018-05-16 03:00:00]<br>BUY 0.22707014 BTC @ 8164.79 USD MARKET<br>Total: 1853.98 USD - Comm.: 5.58 USD\",\"opacity\":0.6,\"showarrow\":true,\"x\":21,\"xref\":\"x\",\"y\":8164.79,\"yref\":\"y\"},{\"arrowcolor\":\"FireBrick\",\"arrowhead\":2,\"arrowsize\":0.8,\"arrowwidth\":4,\"ax\":0,\"ay\":-15,\"hoverlabel\":{\"bgcolor\":\"FireBrick\"},\"hovertext\":\"Step 21 [2018-05-16 02:00:00]<br>SELL 0.90406576 BTC @ 8133.43 USD MARKET<br>Total: 7353.16 USD - Comm.: 0.00272036 BTC\",\"opacity\":0.6,\"showarrow\":true,\"x\":20,\"xref\":\"x\",\"y\":8133.43,\"yref\":\"y\"},{\"arrowcolor\":\"FireBrick\",\"arrowhead\":2,\"arrowsize\":0.8,\"arrowwidth\":4,\"ax\":0,\"ay\":-15,\"hoverlabel\":{\"bgcolor\":\"FireBrick\"},\"hovertext\":\"Step 20 [2018-05-16 01:00:00]<br>SELL 0.23355201 BTC @ 8326.28 USD MARKET<br>Total: 1944.62 USD - Comm.: 0.00070276 BTC\",\"opacity\":0.6,\"showarrow\":true,\"x\":19,\"xref\":\"x\",\"y\":8326.28,\"yref\":\"y\"},{\"arrowcolor\":\"DarkGreen\",\"arrowhead\":2,\"arrowsize\":0.8,\"arrowwidth\":4,\"ax\":0,\"ay\":15,\"hoverlabel\":{\"bgcolor\":\"DarkGreen\"},\"hovertext\":\"Step 15 [2018-05-15 20:00:00]<br>BUY 0.23425477 BTC @ 8512.1 USD MARKET<br>Total: 1994.0 USD - Comm.: 6.00 USD\",\"opacity\":0.6,\"showarrow\":true,\"x\":14,\"xref\":\"x\",\"y\":8512.1,\"yref\":\"y\"},{\"arrowcolor\":\"DarkGreen\",\"arrowhead\":2,\"arrowsize\":0.8,\"arrowwidth\":4,\"ax\":0,\"ay\":15,\"hoverlabel\":{\"bgcolor\":\"DarkGreen\"},\"hovertext\":\"Step 5 [2018-05-15 10:00:00]<br>BUY 0.90678612 BTC @ 8795.9 USD MARKET<br>Total: 7976.0 USD - Comm.: 24.00 USD\",\"opacity\":0.6,\"showarrow\":true,\"x\":4,\"xref\":\"x\",\"y\":8795.9,\"yref\":\"y\"}],\"margin\":{\"t\":50},\"template\":{\"data\":{\"bar\":[{\"error_x\":{\"color\":\"#2a3f5f\"},\"error_y\":{\"color\":\"#2a3f5f\"},\"marker\":{\"line\":{\"color\":\"white\",\"width\":0.5},\"pattern\":{\"fillmode\":\"overlay\",\"size\":10,\"solidity\":0.2}},\"type\":\"bar\"}],\"barpolar\":[{\"marker\":{\"line\":{\"color\":\"white\",\"width\":0.5},\"pattern\":{\"fillmode\":\"overlay\",\"size\":10,\"solidity\":0.2}},\"type\":\"barpolar\"}],\"carpet\":[{\"aaxis\":{\"endlinecolor\":\"#2a3f5f\",\"gridcolor\":\"#C8D4E3\",\"linecolor\":\"#C8D4E3\",\"minorgridcolor\":\"#C8D4E3\",\"startlinecolor\":\"#2a3f5f\"},\"baxis\":{\"endlinecolor\":\"#2a3f5f\",\"gridcolor\":\"#C8D4E3\",\"linecolor\":\"#C8D4E3\",\"minorgridcolor\":\"#C8D4E3\",\"startlinecolor\":\"#2a3f5f\"},\"type\":\"carpet\"}],\"choropleth\":[{\"colorbar\":{\"outlinewidth\":0,\"ticks\":\"\"},\"type\":\"choropleth\"}],\"contour\":[{\"colorbar\":{\"outlinewidth\":0,\"ticks\":\"\"},\"colorscale\":[[0.0,\"#0d0887\"],[0.1111111111111111,\"#46039f\"],[0.2222222222222222,\"#7201a8\"],[0.3333333333333333,\"#9c179e\"],[0.4444444444444444,\"#bd3786\"],[0.5555555555555556,\"#d8576b\"],[0.6666666666666666,\"#ed7953\"],[0.7777777777777778,\"#fb9f3a\"],[0.8888888888888888,\"#fdca26\"],[1.0,\"#f0f921\"]],\"type\":\"contour\"}],\"contourcarpet\":[{\"colorbar\":{\"outlinewidth\":0,\"ticks\":\"\"},\"type\":\"contourcarpet\"}],\"heatmap\":[{\"colorbar\":{\"outlinewidth\":0,\"ticks\":\"\"},\"colorscale\":[[0.0,\"#0d0887\"],[0.1111111111111111,\"#46039f\"],[0.2222222222222222,\"#7201a8\"],[0.3333333333333333,\"#9c179e\"],[0.4444444444444444,\"#bd3786\"],[0.5555555555555556,\"#d8576b\"],[0.6666666666666666,\"#ed7953\"],[0.7777777777777778,\"#fb9f3a\"],[0.8888888888888888,\"#fdca26\"],[1.0,\"#f0f921\"]],\"type\":\"heatmap\"}],\"heatmapgl\":[{\"colorbar\":{\"outlinewidth\":0,\"ticks\":\"\"},\"colorscale\":[[0.0,\"#0d0887\"],[0.1111111111111111,\"#46039f\"],[0.2222222222222222,\"#7201a8\"],[0.3333333333333333,\"#9c179e\"],[0.4444444444444444,\"#bd3786\"],[0.5555555555555556,\"#d8576b\"],[0.6666666666666666,\"#ed7953\"],[0.7777777777777778,\"#fb9f3a\"],[0.8888888888888888,\"#fdca26\"],[1.0,\"#f0f921\"]],\"type\":\"heatmapgl\"}],\"histogram\":[{\"marker\":{\"pattern\":{\"fillmode\":\"overlay\",\"size\":10,\"solidity\":0.2}},\"type\":\"histogram\"}],\"histogram2d\":[{\"colorbar\":{\"outlinewidth\":0,\"ticks\":\"\"},\"colorscale\":[[0.0,\"#0d0887\"],[0.1111111111111111,\"#46039f\"],[0.2222222222222222,\"#7201a8\"],[0.3333333333333333,\"#9c179e\"],[0.4444444444444444,\"#bd3786\"],[0.5555555555555556,\"#d8576b\"],[0.6666666666666666,\"#ed7953\"],[0.7777777777777778,\"#fb9f3a\"],[0.8888888888888888,\"#fdca26\"],[1.0,\"#f0f921\"]],\"type\":\"histogram2d\"}],\"histogram2dcontour\":[{\"colorbar\":{\"outlinewidth\":0,\"ticks\":\"\"},\"colorscale\":[[0.0,\"#0d0887\"],[0.1111111111111111,\"#46039f\"],[0.2222222222222222,\"#7201a8\"],[0.3333333333333333,\"#9c179e\"],[0.4444444444444444,\"#bd3786\"],[0.5555555555555556,\"#d8576b\"],[0.6666666666666666,\"#ed7953\"],[0.7777777777777778,\"#fb9f3a\"],[0.8888888888888888,\"#fdca26\"],[1.0,\"#f0f921\"]],\"type\":\"histogram2dcontour\"}],\"mesh3d\":[{\"colorbar\":{\"outlinewidth\":0,\"ticks\":\"\"},\"type\":\"mesh3d\"}],\"parcoords\":[{\"line\":{\"colorbar\":{\"outlinewidth\":0,\"ticks\":\"\"}},\"type\":\"parcoords\"}],\"pie\":[{\"automargin\":true,\"type\":\"pie\"}],\"scatter\":[{\"marker\":{\"colorbar\":{\"outlinewidth\":0,\"ticks\":\"\"}},\"type\":\"scatter\"}],\"scatter3d\":[{\"line\":{\"colorbar\":{\"outlinewidth\":0,\"ticks\":\"\"}},\"marker\":{\"colorbar\":{\"outlinewidth\":0,\"ticks\":\"\"}},\"type\":\"scatter3d\"}],\"scattercarpet\":[{\"marker\":{\"colorbar\":{\"outlinewidth\":0,\"ticks\":\"\"}},\"type\":\"scattercarpet\"}],\"scattergeo\":[{\"marker\":{\"colorbar\":{\"outlinewidth\":0,\"ticks\":\"\"}},\"type\":\"scattergeo\"}],\"scattergl\":[{\"marker\":{\"colorbar\":{\"outlinewidth\":0,\"ticks\":\"\"}},\"type\":\"scattergl\"}],\"scattermapbox\":[{\"marker\":{\"colorbar\":{\"outlinewidth\":0,\"ticks\":\"\"}},\"type\":\"scattermapbox\"}],\"scatterpolar\":[{\"marker\":{\"colorbar\":{\"outlinewidth\":0,\"ticks\":\"\"}},\"type\":\"scatterpolar\"}],\"scatterpolargl\":[{\"marker\":{\"colorbar\":{\"outlinewidth\":0,\"ticks\":\"\"}},\"type\":\"scatterpolargl\"}],\"scatterternary\":[{\"marker\":{\"colorbar\":{\"outlinewidth\":0,\"ticks\":\"\"}},\"type\":\"scatterternary\"}],\"surface\":[{\"colorbar\":{\"outlinewidth\":0,\"ticks\":\"\"},\"colorscale\":[[0.0,\"#0d0887\"],[0.1111111111111111,\"#46039f\"],[0.2222222222222222,\"#7201a8\"],[0.3333333333333333,\"#9c179e\"],[0.4444444444444444,\"#bd3786\"],[0.5555555555555556,\"#d8576b\"],[0.6666666666666666,\"#ed7953\"],[0.7777777777777778,\"#fb9f3a\"],[0.8888888888888888,\"#fdca26\"],[1.0,\"#f0f921\"]],\"type\":\"surface\"}],\"table\":[{\"cells\":{\"fill\":{\"color\":\"#EBF0F8\"},\"line\":{\"color\":\"white\"}},\"header\":{\"fill\":{\"color\":\"#C8D4E3\"},\"line\":{\"color\":\"white\"}},\"type\":\"table\"}]},\"layout\":{\"annotationdefaults\":{\"arrowcolor\":\"#2a3f5f\",\"arrowhead\":0,\"arrowwidth\":1},\"autotypenumbers\":\"strict\",\"coloraxis\":{\"colorbar\":{\"outlinewidth\":0,\"ticks\":\"\"}},\"colorscale\":{\"diverging\":[[0,\"#8e0152\"],[0.1,\"#c51b7d\"],[0.2,\"#de77ae\"],[0.3,\"#f1b6da\"],[0.4,\"#fde0ef\"],[0.5,\"#f7f7f7\"],[0.6,\"#e6f5d0\"],[0.7,\"#b8e186\"],[0.8,\"#7fbc41\"],[0.9,\"#4d9221\"],[1,\"#276419\"]],\"sequential\":[[0.0,\"#0d0887\"],[0.1111111111111111,\"#46039f\"],[0.2222222222222222,\"#7201a8\"],[0.3333333333333333,\"#9c179e\"],[0.4444444444444444,\"#bd3786\"],[0.5555555555555556,\"#d8576b\"],[0.6666666666666666,\"#ed7953\"],[0.7777777777777778,\"#fb9f3a\"],[0.8888888888888888,\"#fdca26\"],[1.0,\"#f0f921\"]],\"sequentialminus\":[[0.0,\"#0d0887\"],[0.1111111111111111,\"#46039f\"],[0.2222222222222222,\"#7201a8\"],[0.3333333333333333,\"#9c179e\"],[0.4444444444444444,\"#bd3786\"],[0.5555555555555556,\"#d8576b\"],[0.6666666666666666,\"#ed7953\"],[0.7777777777777778,\"#fb9f3a\"],[0.8888888888888888,\"#fdca26\"],[1.0,\"#f0f921\"]]},\"colorway\":[\"#636efa\",\"#EF553B\",\"#00cc96\",\"#ab63fa\",\"#FFA15A\",\"#19d3f3\",\"#FF6692\",\"#B6E880\",\"#FF97FF\",\"#FECB52\"],\"font\":{\"color\":\"#2a3f5f\"},\"geo\":{\"bgcolor\":\"white\",\"lakecolor\":\"white\",\"landcolor\":\"white\",\"showlakes\":true,\"showland\":true,\"subunitcolor\":\"#C8D4E3\"},\"hoverlabel\":{\"align\":\"left\"},\"hovermode\":\"closest\",\"mapbox\":{\"style\":\"light\"},\"paper_bgcolor\":\"white\",\"plot_bgcolor\":\"white\",\"polar\":{\"angularaxis\":{\"gridcolor\":\"#EBF0F8\",\"linecolor\":\"#EBF0F8\",\"ticks\":\"\"},\"bgcolor\":\"white\",\"radialaxis\":{\"gridcolor\":\"#EBF0F8\",\"linecolor\":\"#EBF0F8\",\"ticks\":\"\"}},\"scene\":{\"xaxis\":{\"backgroundcolor\":\"white\",\"gridcolor\":\"#DFE8F3\",\"gridwidth\":2,\"linecolor\":\"#EBF0F8\",\"showbackground\":true,\"ticks\":\"\",\"zerolinecolor\":\"#EBF0F8\"},\"yaxis\":{\"backgroundcolor\":\"white\",\"gridcolor\":\"#DFE8F3\",\"gridwidth\":2,\"linecolor\":\"#EBF0F8\",\"showbackground\":true,\"ticks\":\"\",\"zerolinecolor\":\"#EBF0F8\"},\"zaxis\":{\"backgroundcolor\":\"white\",\"gridcolor\":\"#DFE8F3\",\"gridwidth\":2,\"linecolor\":\"#EBF0F8\",\"showbackground\":true,\"ticks\":\"\",\"zerolinecolor\":\"#EBF0F8\"}},\"shapedefaults\":{\"line\":{\"color\":\"#2a3f5f\"}},\"ternary\":{\"aaxis\":{\"gridcolor\":\"#DFE8F3\",\"linecolor\":\"#A2B1C6\",\"ticks\":\"\"},\"baxis\":{\"gridcolor\":\"#DFE8F3\",\"linecolor\":\"#A2B1C6\",\"ticks\":\"\"},\"bgcolor\":\"white\",\"caxis\":{\"gridcolor\":\"#DFE8F3\",\"linecolor\":\"#A2B1C6\",\"ticks\":\"\"}},\"title\":{\"x\":0.05},\"xaxis\":{\"automargin\":true,\"gridcolor\":\"#EBF0F8\",\"linecolor\":\"#EBF0F8\",\"ticks\":\"\",\"title\":{\"standoff\":15},\"zerolinecolor\":\"#EBF0F8\",\"zerolinewidth\":2},\"yaxis\":{\"automargin\":true,\"gridcolor\":\"#EBF0F8\",\"linecolor\":\"#EBF0F8\",\"ticks\":\"\",\"title\":{\"standoff\":15},\"zerolinecolor\":\"#EBF0F8\",\"zerolinewidth\":2}}},\"title\":{\"text\":\"[2021-08-02 12:52:47 PM] Episode: 2/2 Step: 51/200\"},\"xaxis\":{\"anchor\":\"y\",\"domain\":[0.0,1.0],\"gridcolor\":\"Gainsboro\",\"linecolor\":\"Grey\",\"matches\":\"x4\",\"rangeslider\":{\"visible\":false},\"showticklabels\":false,\"title\":{\"font\":{\"size\":12},\"standoff\":7,\"text\":\"Price\"}},\"xaxis2\":{\"anchor\":\"y2\",\"domain\":[0.0,1.0],\"gridcolor\":\"Gainsboro\",\"linecolor\":\"Grey\",\"matches\":\"x4\",\"showticklabels\":false,\"title\":{\"font\":{\"size\":12},\"standoff\":7,\"text\":\"Volume\"}},\"xaxis3\":{\"anchor\":\"y3\",\"domain\":[0.0,1.0],\"gridcolor\":\"Gainsboro\",\"linecolor\":\"Grey\",\"matches\":\"x4\",\"showticklabels\":false,\"title\":{\"font\":{\"size\":12},\"standoff\":7,\"text\":\"Performance\"}},\"xaxis4\":{\"anchor\":\"y4\",\"domain\":[0.0,1.0],\"gridcolor\":\"Gainsboro\",\"linecolor\":\"Grey\",\"title\":{\"font\":{\"size\":12},\"standoff\":7,\"text\":\"Net Worth\"}},\"yaxis\":{\"anchor\":\"x\",\"domain\":[0.49950000000000006,1.0],\"gridcolor\":\"Gainsboro\",\"linecolor\":\"Grey\"},\"yaxis2\":{\"anchor\":\"x2\",\"domain\":[0.333,0.46950000000000003],\"gridcolor\":\"Gainsboro\",\"linecolor\":\"Grey\"},\"yaxis3\":{\"anchor\":\"x3\",\"domain\":[0.1665,0.30300000000000005],\"gridcolor\":\"Gainsboro\",\"linecolor\":\"Grey\"},\"yaxis4\":{\"anchor\":\"x4\",\"domain\":[0.0,0.1365],\"gridcolor\":\"Gainsboro\",\"linecolor\":\"Grey\"}},                        {\"responsive\": true}                    ).then(function(){\n",
              "                            \n",
              "var gd = document.getElementById('b33b81df-25c3-4af1-9103-3d5faff7d2bf');\n",
              "var x = new MutationObserver(function (mutations, observer) {{\n",
              "        var display = window.getComputedStyle(gd).display;\n",
              "        if (!display || display === 'none') {{\n",
              "            console.log([gd, 'removed!']);\n",
              "            Plotly.purge(gd);\n",
              "            observer.disconnect();\n",
              "        }}\n",
              "}});\n",
              "\n",
              "// Listen for the removal of the full notebook cells\n",
              "var notebookContainer = gd.closest('#notebook-container');\n",
              "if (notebookContainer) {{\n",
              "    x.observe(notebookContainer, {childList: true});\n",
              "}}\n",
              "\n",
              "// Listen for the clearing of the current output cell\n",
              "var outputEl = gd.closest('.output');\n",
              "if (outputEl) {{\n",
              "    x.observe(outputEl, {childList: true});\n",
              "}}\n",
              "\n",
              "                        })                };                            </script>        </div>\n",
              "</body>\n",
              "</html>"
            ]
          },
          "metadata": {
            "tags": []
          }
        },
        {
          "output_type": "display_data",
          "data": {
            "application/vnd.jupyter.widget-view+json": {
              "model_id": "4cd16ecb078d4abf824ff3e438e930c5",
              "version_minor": 0,
              "version_major": 2
            },
            "text/plain": [
              "FigureWidget({\n",
              "    'data': [{'close': array([8740.99, 8739.  , 8728.49, 8708.32, 8795.9 , 8760.  , 8760.  , 87…"
            ]
          },
          "metadata": {
            "tags": []
          }
        },
        {
          "output_type": "display_data",
          "data": {
            "text/html": [
              "<html>\n",
              "<head><meta charset=\"utf-8\" /></head>\n",
              "<body>\n",
              "    <div>            <script src=\"https://cdnjs.cloudflare.com/ajax/libs/mathjax/2.7.5/MathJax.js?config=TeX-AMS-MML_SVG\"></script><script type=\"text/javascript\">if (window.MathJax) {MathJax.Hub.Config({SVG: {font: \"STIX-Web\"}});}</script>                <script type=\"text/javascript\">window.PlotlyConfig = {MathJaxConfig: 'local'};</script>\n",
              "        <script src=\"https://cdn.plot.ly/plotly-2.2.0.min.js\"></script>                <div id=\"4f7fd029-82ac-4413-a9ad-0f4b015dc25c\" class=\"plotly-graph-div\" style=\"height:525px; width:100%;\"></div>            <script type=\"text/javascript\">                                    window.PLOTLYENV=window.PLOTLYENV || {};                                    if (document.getElementById(\"4f7fd029-82ac-4413-a9ad-0f4b015dc25c\")) {                    Plotly.newPlot(                        \"4f7fd029-82ac-4413-a9ad-0f4b015dc25c\",                        [{\"close\":[8740.99,8739.0,8728.49,8708.32,8795.9,8760.0,8760.0,8759.23,8517.77,8520.3,8535.23,8546.34,8526.65,8555.6,8512.1,8492.28,8460.0,8474.99,8455.92,8326.28,8133.43,8164.79,8229.38,8220.4,8238.8,8232.99,8207.48,8243.45,8371.13,8373.0,8365.08,8179.99,8225.0,8285.8,8273.4,8297.4,8279.89,8252.72,8302.18,8295.85,8277.25,8346.59,8358.3,8375.1,8368.62,8366.72,8314.77,8363.7,8344.16,8247.4,8277.4,8291.67,8307.89,8298.9,8269.47,8300.98,8318.49,8306.39,8276.43,8257.69,8166.0,8176.33,8200.7,8155.41,8080.0,8067.03,7958.08,7974.25,7998.5,7991.99,8022.7,8042.97,7965.67,8088.95,8122.19,8107.99,8137.73,8115.0,8107.0,8094.4,8080.01,8117.09,8126.99,8110.95,8215.39,8231.42,8240.13,8235.0,8219.9,8248.87,8213.5,8200.99,8200.0,8237.3,8228.13,8240.83,8214.9,8170.07,8229.87,8205.87,8252.56],\"high\":[8796.68,8766.0,8750.27,8754.4,8865.0,8821.19,8798.6,8771.02,8761.7,8553.67,8589.1,8579.48,8555.51,8583.6,8569.92,8555.54,8557.51,8505.0,8505.33,8478.29,8339.81,8217.44,8252.72,8248.63,8267.12,8255.0,8261.24,8263.93,8455.66,8439.44,8399.1,8381.73,8229.91,8377.29,8329.1,8350.0,8346.95,8377.29,8311.35,8319.96,8398.24,8372.58,8399.99,8386.53,8400.0,8500.0,8381.0,8371.3,8382.41,8351.0,8292.99,8325.8,8318.99,8324.9,8335.56,8309.4,8377.29,8330.41,8328.23,8284.36,8274.83,8200.0,8232.14,8213.97,8155.41,8108.28,8068.92,8019.9,8026.66,8025.0,8104.69,8061.39,8045.99,8170.71,8144.16,8139.99,8152.99,8137.73,8143.72,8129.99,8106.76,8139.0,8152.04,8146.99,8232.14,8275.1,8256.12,8274.1,8255.8,8253.97,8261.09,8235.76,8227.0,8273.36,8264.21,8250.0,8250.86,8235.77,8232.12,8232.14,8252.72],\"low\":[8707.28,8721.11,8660.53,8701.35,8695.11,8740.54,8741.52,8700.0,8467.42,8477.89,8500.78,8500.0,8400.0,8451.05,8461.38,8481.24,8420.37,8450.0,8430.94,8275.02,8100.01,8122.56,8157.01,8166.25,8176.91,8213.79,8200.0,8207.48,8237.1,8370.0,8356.4,8145.1,8173.6,8211.8,8201.0,8250.9,8266.46,8252.72,8232.14,8268.37,8277.25,8277.25,8314.78,8314.77,8350.07,8331.39,8314.77,8275.45,8335.49,8191.14,8227.7,8264.13,8249.93,8269.52,8219.44,8262.68,8286.65,8289.87,8232.14,8232.14,8110.02,8154.95,8168.6,8151.0,7980.0,8005.95,7929.53,7931.03,7950.0,7980.58,7991.99,7992.75,7953.4,7965.67,8085.94,8078.48,8092.9,8049.22,8079.46,8062.12,8043.96,8063.1,8088.46,8094.43,8088.46,8191.14,8212.0,8224.5,8211.0,8211.01,8210.03,8158.27,8177.65,8179.41,8221.92,8217.32,8213.52,8141.08,8146.1,8186.03,8197.09],\"name\":\"Price\",\"open\":[8733.86,8740.99,8739.0,8728.49,8708.32,8795.9,8760.0,8760.0,8759.23,8517.77,8520.3,8535.23,8546.34,8526.65,8555.6,8512.1,8492.28,8460.0,8474.99,8455.92,8326.28,8133.43,8164.79,8229.38,8220.4,8238.8,8232.99,8207.48,8243.45,8371.13,8373.0,8365.08,8179.99,8225.0,8285.8,8273.4,8297.4,8279.89,8252.72,8302.18,8295.85,8277.25,8346.59,8358.3,8375.1,8368.62,8366.72,8314.77,8363.7,8344.16,8247.4,8277.4,8291.67,8307.89,8298.9,8269.47,8300.98,8318.49,8306.39,8276.43,8257.69,8166.0,8176.33,8200.7,8155.41,8080.0,8067.03,7958.08,7974.25,7998.5,7991.99,8022.7,8042.97,7965.67,8088.95,8122.19,8107.99,8137.73,8115.0,8107.0,8094.4,8080.01,8117.09,8126.99,8110.95,8215.39,8231.42,8240.13,8235.0,8219.9,8248.87,8213.5,8200.99,8200.0,8237.3,8228.13,8240.83,8214.9,8170.07,8229.87,8205.87],\"showlegend\":false,\"type\":\"candlestick\",\"uid\":\"b074e35e-1d88-471d-a273-05cdd3adfb9e\",\"xaxis\":\"x\",\"yaxis\":\"y\"},{\"marker\":{\"color\":\"DodgerBlue\"},\"name\":\"Volume\",\"showlegend\":false,\"type\":\"bar\",\"uid\":\"6310725c-c48d-4e23-81c1-e6eff15be8f1\",\"xaxis\":\"x2\",\"y\":[559.93,273.58,917.79,182.62,1260.69,324.11,324.2,730.67,1341.75,792.07,385.69,475.08,877.26,670.49,610.97,168.99,305.92,136.05,154.26,1070.93,1710.2,492.8,630.72,620.93,586.34,304.52,450.97,182.36,915.32,319.29,362.01,1046.38,357.91,561.2,322.53,1073.71,237.21,251.2,359.73,117.23,363.17,214.18,171.64,258.58,299.52,718.98,119.7,405.25,210.77,714.82,215.97,164.2,201.55,203.41,886.82,95.49,499.67,172.77,355.39,255.27,591.06,133.1,149.13,87.55,1061.54,286.94,524.42,316.0,441.43,189.7,844.94,155.34,257.56,610.69,217.97,173.18,218.06,372.97,484.39,248.1,162.35,303.42,290.69,160.93,369.4,487.27,93.35,96.68,72.14,90.22,168.52,203.15,71.42,464.56,57.0,89.42,49.47,200.05,254.37,65.05,118.19],\"yaxis\":\"y2\"},{\"mode\":\"lines\",\"name\":\"bitstamp:/USD-BTC\",\"type\":\"scatter\",\"uid\":\"e1821495-f603-4c3b-adf2-36bec84f46ac\",\"xaxis\":\"x3\",\"y\":[8740.99,8739.0,8728.49,8708.32,8795.9,8760.0,8760.0,8759.23,8517.77,8520.3,8535.23,8546.34,8526.65,8555.6,8512.1,8492.28,8460.0,8474.99,8455.92,8326.28,8133.43,8164.79,8229.38,8220.4,8238.8,8232.99,8207.48,8243.45,8371.13,8373.0,8365.08,8179.99,8225.0,8285.8,8273.4,8297.4,8279.89,8252.72,8302.18,8295.85,8277.25,8346.59,8358.3,8375.1,8368.62,8366.72,8314.77,8363.7,8344.16,8247.4,8277.4,8291.67,8307.89,8298.9,8269.47,8300.98,8318.49,8306.39,8276.43,8257.69,8166.0,8176.33,8200.7,8155.41,8080.0,8067.03,7958.08,7974.25,7998.5,7991.99,8022.7,8042.97,7965.67,8088.95,8122.19,8107.99,8137.73,8115.0,8107.0,8094.4,8080.01,8117.09,8126.99,8110.95,8215.39,8231.42,8240.13,8235.0,8219.9,8248.87,8213.5,8200.99,8200.0,8237.3,8228.13,8240.83,8214.9,8170.07,8229.87,8205.87,8252.56],\"yaxis\":\"y3\"},{\"mode\":\"lines\",\"name\":\"bitstamp:/USD:/free\",\"type\":\"scatter\",\"uid\":\"cfc8cb6d-4832-4bd2-93fc-72c2481ca6b4\",\"xaxis\":\"x3\",\"y\":[10000.0,10000.0,10000.0,10000.0,10000.0,2000.0,2000.0,2000.0,2000.0,2000.0,2000.0,2000.0,2000.0,2000.0,2000.0,0.0,0.0,0.0,0.0,0.0,1944.62,9297.78,7438.22,5206.75,5206.75,5206.75,5206.75,5206.75,3124.05,7275.49,7275.49,2182.65,0.0,0.0,0.0,0.0,0.0,0.0,0.0,0.0,0.0,0.0,0.0,0.0,0.0,0.0,0.0,0.0,0.0,0.0,0.0,0.0,0.0,0.0,0.0,0.0,0.0,0.0,0.0,0.0,0.0,0.0,0.0,0.0,0.0,0.0,0.0,6926.73,6926.73,6926.73,6926.73,6926.73,6926.73,6926.73,6926.73,6926.73,6926.73,6926.73,6926.73,6926.73,6926.73,6926.73,6926.73,6926.73,6926.73,6926.73,6926.73,6926.73,6926.73,6926.73,6926.73,6926.73,6926.73,6926.73,6926.73,6926.73,6926.73,2078.02,2078.02,2078.02,2078.02],\"yaxis\":\"y3\"},{\"mode\":\"lines\",\"name\":\"bitstamp:/USD:/locked\",\"type\":\"scatter\",\"uid\":\"4fe50199-bde9-4951-810d-2de89e11cb6f\",\"xaxis\":\"x3\",\"y\":[0.0,0.0,0.0,0.0,0.0,0.0,0.0,0.0,0.0,0.0,0.0,0.0,0.0,0.0,0.0,0.0,0.0,0.0,0.0,0.0,0.0,0.0,0.0,0.0,0.0,0.0,0.0,0.0,0.0,0.0,0.0,0.0,0.0,0.0,0.0,0.0,0.0,0.0,0.0,0.0,0.0,0.0,0.0,0.0,0.0,0.0,0.0,0.0,0.0,0.0,0.0,0.0,0.0,0.0,0.0,0.0,0.0,0.0,0.0,0.0,0.0,0.0,0.0,0.0,0.0,0.0,0.0,0.0,0.0,0.0,0.0,0.0,0.0,0.0,0.0,0.0,0.0,0.0,0.0,0.0,0.0,0.0,0.0,0.0,0.0,0.0,0.0,0.0,0.0,0.0,0.0,0.0,0.0,0.0,0.0,0.0,0.0,0.0,0.0,0.0,0.0],\"yaxis\":\"y3\"},{\"mode\":\"lines\",\"name\":\"bitstamp:/USD:/total\",\"type\":\"scatter\",\"uid\":\"fb7d08c2-3958-4ce9-84d7-48e04e03b6a2\",\"xaxis\":\"x3\",\"y\":[10000.0,10000.0,10000.0,10000.0,10000.0,2000.0,2000.0,2000.0,2000.0,2000.0,2000.0,2000.0,2000.0,2000.0,2000.0,0.0,0.0,0.0,0.0,0.0,1944.62,9297.78,7438.22,5206.75,5206.75,5206.75,5206.75,5206.75,3124.05,7275.49,7275.49,2182.65,0.0,0.0,0.0,0.0,0.0,0.0,0.0,0.0,0.0,0.0,0.0,0.0,0.0,0.0,0.0,0.0,0.0,0.0,0.0,0.0,0.0,0.0,0.0,0.0,0.0,0.0,0.0,0.0,0.0,0.0,0.0,0.0,0.0,0.0,0.0,6926.73,6926.73,6926.73,6926.73,6926.73,6926.73,6926.73,6926.73,6926.73,6926.73,6926.73,6926.73,6926.73,6926.73,6926.73,6926.73,6926.73,6926.73,6926.73,6926.73,6926.73,6926.73,6926.73,6926.73,6926.73,6926.73,6926.73,6926.73,6926.73,6926.73,2078.02,2078.02,2078.02,2078.02],\"yaxis\":\"y3\"},{\"mode\":\"lines\",\"name\":\"bitstamp:/BTC:/free\",\"type\":\"scatter\",\"uid\":\"4e8f59db-2d21-45cc-9a7f-cd3f89b13613\",\"xaxis\":\"x3\",\"y\":[10.0,10.0,10.0,10.0,10.0,10.0,10.0,10.0,10.0,10.0,10.0,10.0,10.0,10.0,10.0,10.0,10.0,10.0,10.0,10.0,10.0,10.0,10.0,10.0,10.0,10.0,10.0,10.0,10.0,10.0,10.0,10.0,10.0,10.0,10.0,10.0,10.0,10.0,10.0,10.0,10.0,10.0,10.0,10.0,10.0,10.0,10.0,10.0,10.0,10.0,10.0,10.0,10.0,10.0,10.0,10.0,10.0,10.0,10.0,10.0,10.0,10.0,10.0,10.0,10.0,10.0,10.0,10.0,10.0,10.0,10.0,10.0,10.0,10.0,10.0,10.0,10.0,10.0,10.0,10.0,10.0,10.0,10.0,10.0,10.0,10.0,10.0,10.0,10.0,10.0,10.0,10.0,10.0,10.0,10.0,10.0,10.0,10.0,10.0,10.0,10.0],\"yaxis\":\"y3\"},{\"mode\":\"lines\",\"name\":\"bitstamp:/BTC:/locked\",\"type\":\"scatter\",\"uid\":\"394cf790-ae62-4be8-9a6d-fa0eed31b647\",\"xaxis\":\"x3\",\"y\":[0.0,0.0,0.0,0.0,0.0,0.90678612,0.90678612,0.90678612,0.90678612,0.90678612,0.90678612,0.90678612,0.90678612,0.90678612,0.90678612,1.14104089,1.14104089,1.14104089,1.14104089,1.14104089,0.90678612,0.0,0.22707014,0.49741614,0.49741614,0.49741614,0.49741614,0.49741614,0.74930704,0.2518909,0.2518909,0.85888569,1.12491291,1.12491291,1.12491291,1.12491291,1.12491291,1.12491291,1.12491291,1.12491291,1.12491291,1.12491291,1.12491291,1.12491291,1.12491291,1.12491291,1.12491291,1.12491291,1.12491291,1.12491291,1.12491291,1.12491291,1.12491291,1.12491291,1.12491291,1.12491291,1.12491291,1.12491291,1.12491291,1.12491291,1.12491291,1.12491291,1.12491291,1.12491291,1.12491291,1.12491291,1.12491291,0.2518909,0.2518909,0.2518909,0.2518909,0.2518909,0.2518909,0.2518909,0.2518909,0.2518909,0.2518909,0.2518909,0.2518909,0.2518909,0.2518909,0.2518909,0.2518909,0.2518909,0.2518909,0.2518909,0.2518909,0.2518909,0.2518909,0.2518909,0.2518909,0.2518909,0.2518909,0.2518909,0.2518909,0.2518909,0.2518909,0.84035333,0.84035333,0.84035333,0.84035333],\"yaxis\":\"y3\"},{\"mode\":\"lines\",\"name\":\"bitstamp:/BTC:/total\",\"type\":\"scatter\",\"uid\":\"97092c0a-1181-41cb-b6ff-814c735c5002\",\"xaxis\":\"x3\",\"y\":[10.0,10.0,10.0,10.0,10.0,10.90678612,10.90678612,10.90678612,10.90678612,10.90678612,10.90678612,10.90678612,10.90678612,10.90678612,10.90678612,11.14104089,11.14104089,11.14104089,11.14104089,11.14104089,10.90678612,10.0,10.22707014,10.49741614,10.49741614,10.49741614,10.49741614,10.49741614,10.74930704,10.2518909,10.2518909,10.85888569,11.12491291,11.12491291,11.12491291,11.12491291,11.12491291,11.12491291,11.12491291,11.12491291,11.12491291,11.12491291,11.12491291,11.12491291,11.12491291,11.12491291,11.12491291,11.12491291,11.12491291,11.12491291,11.12491291,11.12491291,11.12491291,11.12491291,11.12491291,11.12491291,11.12491291,11.12491291,11.12491291,11.12491291,11.12491291,11.12491291,11.12491291,11.12491291,11.12491291,11.12491291,11.12491291,10.2518909,10.2518909,10.2518909,10.2518909,10.2518909,10.2518909,10.2518909,10.2518909,10.2518909,10.2518909,10.2518909,10.2518909,10.2518909,10.2518909,10.2518909,10.2518909,10.2518909,10.2518909,10.2518909,10.2518909,10.2518909,10.2518909,10.2518909,10.2518909,10.2518909,10.2518909,10.2518909,10.2518909,10.2518909,10.2518909,10.84035333,10.84035333,10.84035333,10.84035333],\"yaxis\":\"y3\"},{\"mode\":\"lines\",\"name\":\"bitstamp:/BTC:/worth\",\"type\":\"scatter\",\"uid\":\"ad9504a4-7747-4a51-b140-9ddac3c900c1\",\"xaxis\":\"x3\",\"y\":[87409.9,87390.0,87284.9,87083.2,87959.0,95543.4464112,95543.4464112,95535.04818588759,92901.4956093524,92929.08977823598,93091.92809500759,93213.1024888008,92998.34787009799,93314.099328272,92839.654132052,94612.8387293292,94253.20592939999,94420.21013234109,94207.7504825688,92763.4259415892,88709.5814319916,81647.9,84162.4464687132,86292.959637256,86486.112094232,86425.1221064586,86157.3330207272,86534.92507928301,89983.84664175518,85839.08250569999,85757.887529772,88825.57635534309,91502.40868475,92178.803389678,92040.854469594,92307.852379434,92113.0551543799,91810.7912706152,92361.02946314382,92290.60876442351,92083.68538429751,92855.08684547691,92985.359575653,93172.258112541,93100.16867688422,93079.0313423552,92501.09211668071,93045.43410536702,92828.05330710561,91751.60673393401,92085.354121234,92244.1066284597,92424.5527158599,92324.539748799,91997.1335618577,92347.67956765181,92542.4767927059,92407.8653464949,92074.56295571131,91866.08208777792,90846.03882306001,90960.95917342031,91232.07330103702,90728.2259953431,89889.29631280001,89745.00619235731,88532.9469308128,81751.141009325,81999.74936365,81933.009553891,82247.84512342999,82455.650951973,81663.179785403,82927.03289555499,83267.80574907099,83122.228898291,83427.120133657,83194.0946535,83112.07952629999,82982.90570096,82835.38099090899,83215.52110548099,83317.01482539099,83152.57449535499,84223.28198095098,84387.619792078,84476.91376181699,84424.3215615,84269.51800890999,84566.515288283,84203.90590715,84075.654751991,84065.50537999999,84447.90091056998,84353.89107101699,84484.090085447,84218.25855440999,88566.4455308331,89214.6986599671,88954.5301800471,89460.6662770248],\"yaxis\":\"y3\"},{\"mode\":\"lines\",\"name\":\"net_worth\",\"type\":\"scatter\",\"uid\":\"860ec2ed-9bc8-4908-a89c-1ff2e3aef539\",\"xaxis\":\"x3\",\"y\":[97409.9,97390.0,97284.9,97083.2,97959.0,97543.4464112,97543.4464112,97535.04818588759,94901.4956093524,94929.08977823598,95091.92809500759,95213.1024888008,94998.34787009799,95314.099328272,94839.654132052,94612.8387293292,94253.20592939999,94420.21013234109,94207.7504825688,92763.4259415892,90654.20143199159,90945.68,91600.6664687132,91499.709637256,91692.862094232,91631.8721064586,91364.0830207272,91741.67507928301,93107.89664175519,93114.5725057,93033.377529772,91008.22635534308,91502.40868475,92178.803389678,92040.854469594,92307.852379434,92113.0551543799,91810.7912706152,92361.02946314382,92290.60876442351,92083.68538429751,92855.08684547691,92985.359575653,93172.258112541,93100.16867688422,93079.0313423552,92501.09211668071,93045.43410536702,92828.05330710561,91751.60673393401,92085.354121234,92244.1066284597,92424.5527158599,92324.539748799,91997.1335618577,92347.67956765181,92542.4767927059,92407.8653464949,92074.56295571131,91866.08208777792,90846.03882306001,90960.95917342031,91232.07330103702,90728.2259953431,89889.29631280001,89745.00619235731,88532.9469308128,88677.871009325,88926.47936365,88859.73955389099,89174.57512342998,89382.380951973,88589.909785403,89853.76289555499,90194.53574907099,90048.95889829099,90353.85013365699,90120.82465349999,90038.80952629999,89909.63570095999,89762.11099090899,90142.25110548099,90243.74482539098,90079.30449535498,91150.01198095098,91314.34979207799,91403.64376181699,91351.05156149999,91196.24800890998,91493.245288283,91130.63590714999,91002.38475199099,90992.23537999998,91374.63091056998,91280.62107101698,91410.82008544699,91144.98855440998,90644.4655308331,91292.71865996711,91032.55018004711,91538.6862770248],\"yaxis\":\"y3\"},{\"marker\":{\"color\":\"DarkGreen\"},\"mode\":\"lines\",\"name\":\"Net Worth\",\"type\":\"scatter\",\"uid\":\"76ab2fe2-a80c-488c-a9e4-75f0f9adbd7f\",\"xaxis\":\"x4\",\"y\":[97409.9,97390.0,97284.9,97083.2,97959.0,97543.4464112,97543.4464112,97535.04818588759,94901.4956093524,94929.08977823598,95091.92809500759,95213.1024888008,94998.34787009799,95314.099328272,94839.654132052,94612.8387293292,94253.20592939999,94420.21013234109,94207.7504825688,92763.4259415892,90654.20143199159,90945.68,91600.6664687132,91499.709637256,91692.862094232,91631.8721064586,91364.0830207272,91741.67507928301,93107.89664175519,93114.5725057,93033.377529772,91008.22635534308,91502.40868475,92178.803389678,92040.854469594,92307.852379434,92113.0551543799,91810.7912706152,92361.02946314382,92290.60876442351,92083.68538429751,92855.08684547691,92985.359575653,93172.258112541,93100.16867688422,93079.0313423552,92501.09211668071,93045.43410536702,92828.05330710561,91751.60673393401,92085.354121234,92244.1066284597,92424.5527158599,92324.539748799,91997.1335618577,92347.67956765181,92542.4767927059,92407.8653464949,92074.56295571131,91866.08208777792,90846.03882306001,90960.95917342031,91232.07330103702,90728.2259953431,89889.29631280001,89745.00619235731,88532.9469308128,88677.871009325,88926.47936365,88859.73955389099,89174.57512342998,89382.380951973,88589.909785403,89853.76289555499,90194.53574907099,90048.95889829099,90353.85013365699,90120.82465349999,90038.80952629999,89909.63570095999,89762.11099090899,90142.25110548099,90243.74482539098,90079.30449535498,91150.01198095098,91314.34979207799,91403.64376181699,91351.05156149999,91196.24800890998,91493.245288283,91130.63590714999,91002.38475199099,90992.23537999998,91374.63091056998,91280.62107101698,91410.82008544699,91144.98855440998,90644.4655308331,91292.71865996711,91032.55018004711,91538.6862770248],\"yaxis\":\"y4\"}],                        {\"annotations\":[{\"arrowcolor\":\"DarkGreen\",\"arrowhead\":2,\"arrowsize\":0.8,\"arrowwidth\":4,\"ax\":0,\"ay\":15,\"hoverlabel\":{\"bgcolor\":\"DarkGreen\"},\"hovertext\":\"Step 32 [2018-05-16 13:00:00]<br>BUY 0.26602722 BTC @ 8179.99 USD MARKET<br>Total: 2176.1 USD - Comm.: 6.55 USD\",\"opacity\":0.6,\"showarrow\":true,\"x\":31,\"xref\":\"x\",\"y\":8179.99,\"yref\":\"y\"},{\"arrowcolor\":\"DarkGreen\",\"arrowhead\":2,\"arrowsize\":0.8,\"arrowwidth\":4,\"ax\":0,\"ay\":15,\"hoverlabel\":{\"bgcolor\":\"DarkGreen\"},\"hovertext\":\"Step 31 [2018-05-16 12:00:00]<br>BUY 0.60699479 BTC @ 8365.08 USD MARKET<br>Total: 5077.56 USD - Comm.: 15.28 USD\",\"opacity\":0.6,\"showarrow\":true,\"x\":30,\"xref\":\"x\",\"y\":8365.08,\"yref\":\"y\"},{\"arrowcolor\":\"FireBrick\",\"arrowhead\":2,\"arrowsize\":0.8,\"arrowwidth\":4,\"ax\":0,\"ay\":-15,\"hoverlabel\":{\"bgcolor\":\"FireBrick\"},\"hovertext\":\"Step 29 [2018-05-16 10:00:00]<br>SELL 0.26953496 BTC @ 8371.13 USD MARKET<br>Total: 2256.31 USD - Comm.: 0.00081104 BTC\",\"opacity\":0.6,\"showarrow\":true,\"x\":28,\"xref\":\"x\",\"y\":8371.13,\"yref\":\"y\"},{\"arrowcolor\":\"FireBrick\",\"arrowhead\":2,\"arrowsize\":0.8,\"arrowwidth\":4,\"ax\":0,\"ay\":-15,\"hoverlabel\":{\"bgcolor\":\"FireBrick\"},\"hovertext\":\"Step 29 [2018-05-16 10:00:00]<br>SELL 0.22638893 BTC @ 8371.13 USD MARKET<br>Total: 1895.13 USD - Comm.: 0.00068121 BTC\",\"opacity\":0.6,\"showarrow\":true,\"x\":28,\"xref\":\"x\",\"y\":8371.13,\"yref\":\"y\"},{\"arrowcolor\":\"DarkGreen\",\"arrowhead\":2,\"arrowsize\":0.8,\"arrowwidth\":4,\"ax\":0,\"ay\":15,\"hoverlabel\":{\"bgcolor\":\"DarkGreen\"},\"hovertext\":\"Step 28 [2018-05-16 09:00:00]<br>BUY 0.2518909 BTC @ 8243.45 USD MARKET<br>Total: 2076.45 USD - Comm.: 6.25 USD\",\"opacity\":0.6,\"showarrow\":true,\"x\":27,\"xref\":\"x\",\"y\":8243.45,\"yref\":\"y\"},{\"arrowcolor\":\"DarkGreen\",\"arrowhead\":2,\"arrowsize\":0.8,\"arrowwidth\":4,\"ax\":0,\"ay\":15,\"hoverlabel\":{\"bgcolor\":\"DarkGreen\"},\"hovertext\":\"Step 23 [2018-05-16 04:00:00]<br>BUY 0.270346 BTC @ 8229.38 USD MARKET<br>Total: 2224.78 USD - Comm.: 6.69 USD\",\"opacity\":0.6,\"showarrow\":true,\"x\":22,\"xref\":\"x\",\"y\":8229.38,\"yref\":\"y\"},{\"arrowcolor\":\"DarkGreen\",\"arrowhead\":2,\"arrowsize\":0.8,\"arrowwidth\":4,\"ax\":0,\"ay\":15,\"hoverlabel\":{\"bgcolor\":\"DarkGreen\"},\"hovertext\":\"Step 22 [2018-05-16 03:00:00]<br>BUY 0.22707014 BTC @ 8164.79 USD MARKET<br>Total: 1853.98 USD - Comm.: 5.58 USD\",\"opacity\":0.6,\"showarrow\":true,\"x\":21,\"xref\":\"x\",\"y\":8164.79,\"yref\":\"y\"},{\"arrowcolor\":\"FireBrick\",\"arrowhead\":2,\"arrowsize\":0.8,\"arrowwidth\":4,\"ax\":0,\"ay\":-15,\"hoverlabel\":{\"bgcolor\":\"FireBrick\"},\"hovertext\":\"Step 21 [2018-05-16 02:00:00]<br>SELL 0.90406576 BTC @ 8133.43 USD MARKET<br>Total: 7353.16 USD - Comm.: 0.00272036 BTC\",\"opacity\":0.6,\"showarrow\":true,\"x\":20,\"xref\":\"x\",\"y\":8133.43,\"yref\":\"y\"},{\"arrowcolor\":\"FireBrick\",\"arrowhead\":2,\"arrowsize\":0.8,\"arrowwidth\":4,\"ax\":0,\"ay\":-15,\"hoverlabel\":{\"bgcolor\":\"FireBrick\"},\"hovertext\":\"Step 20 [2018-05-16 01:00:00]<br>SELL 0.23355201 BTC @ 8326.28 USD MARKET<br>Total: 1944.62 USD - Comm.: 0.00070276 BTC\",\"opacity\":0.6,\"showarrow\":true,\"x\":19,\"xref\":\"x\",\"y\":8326.28,\"yref\":\"y\"},{\"arrowcolor\":\"DarkGreen\",\"arrowhead\":2,\"arrowsize\":0.8,\"arrowwidth\":4,\"ax\":0,\"ay\":15,\"hoverlabel\":{\"bgcolor\":\"DarkGreen\"},\"hovertext\":\"Step 15 [2018-05-15 20:00:00]<br>BUY 0.23425477 BTC @ 8512.1 USD MARKET<br>Total: 1994.0 USD - Comm.: 6.00 USD\",\"opacity\":0.6,\"showarrow\":true,\"x\":14,\"xref\":\"x\",\"y\":8512.1,\"yref\":\"y\"},{\"arrowcolor\":\"DarkGreen\",\"arrowhead\":2,\"arrowsize\":0.8,\"arrowwidth\":4,\"ax\":0,\"ay\":15,\"hoverlabel\":{\"bgcolor\":\"DarkGreen\"},\"hovertext\":\"Step 5 [2018-05-15 10:00:00]<br>BUY 0.90678612 BTC @ 8795.9 USD MARKET<br>Total: 7976.0 USD - Comm.: 24.00 USD\",\"opacity\":0.6,\"showarrow\":true,\"x\":4,\"xref\":\"x\",\"y\":8795.9,\"yref\":\"y\"},{\"arrowcolor\":\"DarkGreen\",\"arrowhead\":2,\"arrowsize\":0.8,\"arrowwidth\":4,\"ax\":0,\"ay\":15,\"hoverlabel\":{\"bgcolor\":\"DarkGreen\"},\"hovertext\":\"Step 97 [2018-05-19 06:00:00]<br>BUY 0.58846243 BTC @ 8214.9 USD MARKET<br>Total: 4834.16 USD - Comm.: 14.55 USD\",\"opacity\":0.6,\"showarrow\":true,\"x\":96,\"xref\":\"x\",\"y\":8214.9,\"yref\":\"y\"},{\"arrowcolor\":\"FireBrick\",\"arrowhead\":2,\"arrowsize\":0.8,\"arrowwidth\":4,\"ax\":0,\"ay\":-15,\"hoverlabel\":{\"bgcolor\":\"FireBrick\"},\"hovertext\":\"Step 67 [2018-05-18 00:00:00]<br>SELL 0.26522914 BTC @ 7958.08 USD MARKET<br>Total: 2110.71 USD - Comm.: 0.00079808 BTC\",\"opacity\":0.6,\"showarrow\":true,\"x\":66,\"xref\":\"x\",\"y\":7958.08,\"yref\":\"y\"},{\"arrowcolor\":\"FireBrick\",\"arrowhead\":2,\"arrowsize\":0.8,\"arrowwidth\":4,\"ax\":0,\"ay\":-15,\"hoverlabel\":{\"bgcolor\":\"FireBrick\"},\"hovertext\":\"Step 67 [2018-05-18 00:00:00]<br>SELL 0.60517381 BTC @ 7958.08 USD MARKET<br>Total: 4816.02 USD - Comm.: 0.00182098 BTC\",\"opacity\":0.6,\"showarrow\":true,\"x\":66,\"xref\":\"x\",\"y\":7958.08,\"yref\":\"y\"}],\"margin\":{\"t\":50},\"template\":{\"data\":{\"bar\":[{\"error_x\":{\"color\":\"#2a3f5f\"},\"error_y\":{\"color\":\"#2a3f5f\"},\"marker\":{\"line\":{\"color\":\"white\",\"width\":0.5},\"pattern\":{\"fillmode\":\"overlay\",\"size\":10,\"solidity\":0.2}},\"type\":\"bar\"}],\"barpolar\":[{\"marker\":{\"line\":{\"color\":\"white\",\"width\":0.5},\"pattern\":{\"fillmode\":\"overlay\",\"size\":10,\"solidity\":0.2}},\"type\":\"barpolar\"}],\"carpet\":[{\"aaxis\":{\"endlinecolor\":\"#2a3f5f\",\"gridcolor\":\"#C8D4E3\",\"linecolor\":\"#C8D4E3\",\"minorgridcolor\":\"#C8D4E3\",\"startlinecolor\":\"#2a3f5f\"},\"baxis\":{\"endlinecolor\":\"#2a3f5f\",\"gridcolor\":\"#C8D4E3\",\"linecolor\":\"#C8D4E3\",\"minorgridcolor\":\"#C8D4E3\",\"startlinecolor\":\"#2a3f5f\"},\"type\":\"carpet\"}],\"choropleth\":[{\"colorbar\":{\"outlinewidth\":0,\"ticks\":\"\"},\"type\":\"choropleth\"}],\"contour\":[{\"colorbar\":{\"outlinewidth\":0,\"ticks\":\"\"},\"colorscale\":[[0.0,\"#0d0887\"],[0.1111111111111111,\"#46039f\"],[0.2222222222222222,\"#7201a8\"],[0.3333333333333333,\"#9c179e\"],[0.4444444444444444,\"#bd3786\"],[0.5555555555555556,\"#d8576b\"],[0.6666666666666666,\"#ed7953\"],[0.7777777777777778,\"#fb9f3a\"],[0.8888888888888888,\"#fdca26\"],[1.0,\"#f0f921\"]],\"type\":\"contour\"}],\"contourcarpet\":[{\"colorbar\":{\"outlinewidth\":0,\"ticks\":\"\"},\"type\":\"contourcarpet\"}],\"heatmap\":[{\"colorbar\":{\"outlinewidth\":0,\"ticks\":\"\"},\"colorscale\":[[0.0,\"#0d0887\"],[0.1111111111111111,\"#46039f\"],[0.2222222222222222,\"#7201a8\"],[0.3333333333333333,\"#9c179e\"],[0.4444444444444444,\"#bd3786\"],[0.5555555555555556,\"#d8576b\"],[0.6666666666666666,\"#ed7953\"],[0.7777777777777778,\"#fb9f3a\"],[0.8888888888888888,\"#fdca26\"],[1.0,\"#f0f921\"]],\"type\":\"heatmap\"}],\"heatmapgl\":[{\"colorbar\":{\"outlinewidth\":0,\"ticks\":\"\"},\"colorscale\":[[0.0,\"#0d0887\"],[0.1111111111111111,\"#46039f\"],[0.2222222222222222,\"#7201a8\"],[0.3333333333333333,\"#9c179e\"],[0.4444444444444444,\"#bd3786\"],[0.5555555555555556,\"#d8576b\"],[0.6666666666666666,\"#ed7953\"],[0.7777777777777778,\"#fb9f3a\"],[0.8888888888888888,\"#fdca26\"],[1.0,\"#f0f921\"]],\"type\":\"heatmapgl\"}],\"histogram\":[{\"marker\":{\"pattern\":{\"fillmode\":\"overlay\",\"size\":10,\"solidity\":0.2}},\"type\":\"histogram\"}],\"histogram2d\":[{\"colorbar\":{\"outlinewidth\":0,\"ticks\":\"\"},\"colorscale\":[[0.0,\"#0d0887\"],[0.1111111111111111,\"#46039f\"],[0.2222222222222222,\"#7201a8\"],[0.3333333333333333,\"#9c179e\"],[0.4444444444444444,\"#bd3786\"],[0.5555555555555556,\"#d8576b\"],[0.6666666666666666,\"#ed7953\"],[0.7777777777777778,\"#fb9f3a\"],[0.8888888888888888,\"#fdca26\"],[1.0,\"#f0f921\"]],\"type\":\"histogram2d\"}],\"histogram2dcontour\":[{\"colorbar\":{\"outlinewidth\":0,\"ticks\":\"\"},\"colorscale\":[[0.0,\"#0d0887\"],[0.1111111111111111,\"#46039f\"],[0.2222222222222222,\"#7201a8\"],[0.3333333333333333,\"#9c179e\"],[0.4444444444444444,\"#bd3786\"],[0.5555555555555556,\"#d8576b\"],[0.6666666666666666,\"#ed7953\"],[0.7777777777777778,\"#fb9f3a\"],[0.8888888888888888,\"#fdca26\"],[1.0,\"#f0f921\"]],\"type\":\"histogram2dcontour\"}],\"mesh3d\":[{\"colorbar\":{\"outlinewidth\":0,\"ticks\":\"\"},\"type\":\"mesh3d\"}],\"parcoords\":[{\"line\":{\"colorbar\":{\"outlinewidth\":0,\"ticks\":\"\"}},\"type\":\"parcoords\"}],\"pie\":[{\"automargin\":true,\"type\":\"pie\"}],\"scatter\":[{\"marker\":{\"colorbar\":{\"outlinewidth\":0,\"ticks\":\"\"}},\"type\":\"scatter\"}],\"scatter3d\":[{\"line\":{\"colorbar\":{\"outlinewidth\":0,\"ticks\":\"\"}},\"marker\":{\"colorbar\":{\"outlinewidth\":0,\"ticks\":\"\"}},\"type\":\"scatter3d\"}],\"scattercarpet\":[{\"marker\":{\"colorbar\":{\"outlinewidth\":0,\"ticks\":\"\"}},\"type\":\"scattercarpet\"}],\"scattergeo\":[{\"marker\":{\"colorbar\":{\"outlinewidth\":0,\"ticks\":\"\"}},\"type\":\"scattergeo\"}],\"scattergl\":[{\"marker\":{\"colorbar\":{\"outlinewidth\":0,\"ticks\":\"\"}},\"type\":\"scattergl\"}],\"scattermapbox\":[{\"marker\":{\"colorbar\":{\"outlinewidth\":0,\"ticks\":\"\"}},\"type\":\"scattermapbox\"}],\"scatterpolar\":[{\"marker\":{\"colorbar\":{\"outlinewidth\":0,\"ticks\":\"\"}},\"type\":\"scatterpolar\"}],\"scatterpolargl\":[{\"marker\":{\"colorbar\":{\"outlinewidth\":0,\"ticks\":\"\"}},\"type\":\"scatterpolargl\"}],\"scatterternary\":[{\"marker\":{\"colorbar\":{\"outlinewidth\":0,\"ticks\":\"\"}},\"type\":\"scatterternary\"}],\"surface\":[{\"colorbar\":{\"outlinewidth\":0,\"ticks\":\"\"},\"colorscale\":[[0.0,\"#0d0887\"],[0.1111111111111111,\"#46039f\"],[0.2222222222222222,\"#7201a8\"],[0.3333333333333333,\"#9c179e\"],[0.4444444444444444,\"#bd3786\"],[0.5555555555555556,\"#d8576b\"],[0.6666666666666666,\"#ed7953\"],[0.7777777777777778,\"#fb9f3a\"],[0.8888888888888888,\"#fdca26\"],[1.0,\"#f0f921\"]],\"type\":\"surface\"}],\"table\":[{\"cells\":{\"fill\":{\"color\":\"#EBF0F8\"},\"line\":{\"color\":\"white\"}},\"header\":{\"fill\":{\"color\":\"#C8D4E3\"},\"line\":{\"color\":\"white\"}},\"type\":\"table\"}]},\"layout\":{\"annotationdefaults\":{\"arrowcolor\":\"#2a3f5f\",\"arrowhead\":0,\"arrowwidth\":1},\"autotypenumbers\":\"strict\",\"coloraxis\":{\"colorbar\":{\"outlinewidth\":0,\"ticks\":\"\"}},\"colorscale\":{\"diverging\":[[0,\"#8e0152\"],[0.1,\"#c51b7d\"],[0.2,\"#de77ae\"],[0.3,\"#f1b6da\"],[0.4,\"#fde0ef\"],[0.5,\"#f7f7f7\"],[0.6,\"#e6f5d0\"],[0.7,\"#b8e186\"],[0.8,\"#7fbc41\"],[0.9,\"#4d9221\"],[1,\"#276419\"]],\"sequential\":[[0.0,\"#0d0887\"],[0.1111111111111111,\"#46039f\"],[0.2222222222222222,\"#7201a8\"],[0.3333333333333333,\"#9c179e\"],[0.4444444444444444,\"#bd3786\"],[0.5555555555555556,\"#d8576b\"],[0.6666666666666666,\"#ed7953\"],[0.7777777777777778,\"#fb9f3a\"],[0.8888888888888888,\"#fdca26\"],[1.0,\"#f0f921\"]],\"sequentialminus\":[[0.0,\"#0d0887\"],[0.1111111111111111,\"#46039f\"],[0.2222222222222222,\"#7201a8\"],[0.3333333333333333,\"#9c179e\"],[0.4444444444444444,\"#bd3786\"],[0.5555555555555556,\"#d8576b\"],[0.6666666666666666,\"#ed7953\"],[0.7777777777777778,\"#fb9f3a\"],[0.8888888888888888,\"#fdca26\"],[1.0,\"#f0f921\"]]},\"colorway\":[\"#636efa\",\"#EF553B\",\"#00cc96\",\"#ab63fa\",\"#FFA15A\",\"#19d3f3\",\"#FF6692\",\"#B6E880\",\"#FF97FF\",\"#FECB52\"],\"font\":{\"color\":\"#2a3f5f\"},\"geo\":{\"bgcolor\":\"white\",\"lakecolor\":\"white\",\"landcolor\":\"white\",\"showlakes\":true,\"showland\":true,\"subunitcolor\":\"#C8D4E3\"},\"hoverlabel\":{\"align\":\"left\"},\"hovermode\":\"closest\",\"mapbox\":{\"style\":\"light\"},\"paper_bgcolor\":\"white\",\"plot_bgcolor\":\"white\",\"polar\":{\"angularaxis\":{\"gridcolor\":\"#EBF0F8\",\"linecolor\":\"#EBF0F8\",\"ticks\":\"\"},\"bgcolor\":\"white\",\"radialaxis\":{\"gridcolor\":\"#EBF0F8\",\"linecolor\":\"#EBF0F8\",\"ticks\":\"\"}},\"scene\":{\"xaxis\":{\"backgroundcolor\":\"white\",\"gridcolor\":\"#DFE8F3\",\"gridwidth\":2,\"linecolor\":\"#EBF0F8\",\"showbackground\":true,\"ticks\":\"\",\"zerolinecolor\":\"#EBF0F8\"},\"yaxis\":{\"backgroundcolor\":\"white\",\"gridcolor\":\"#DFE8F3\",\"gridwidth\":2,\"linecolor\":\"#EBF0F8\",\"showbackground\":true,\"ticks\":\"\",\"zerolinecolor\":\"#EBF0F8\"},\"zaxis\":{\"backgroundcolor\":\"white\",\"gridcolor\":\"#DFE8F3\",\"gridwidth\":2,\"linecolor\":\"#EBF0F8\",\"showbackground\":true,\"ticks\":\"\",\"zerolinecolor\":\"#EBF0F8\"}},\"shapedefaults\":{\"line\":{\"color\":\"#2a3f5f\"}},\"ternary\":{\"aaxis\":{\"gridcolor\":\"#DFE8F3\",\"linecolor\":\"#A2B1C6\",\"ticks\":\"\"},\"baxis\":{\"gridcolor\":\"#DFE8F3\",\"linecolor\":\"#A2B1C6\",\"ticks\":\"\"},\"bgcolor\":\"white\",\"caxis\":{\"gridcolor\":\"#DFE8F3\",\"linecolor\":\"#A2B1C6\",\"ticks\":\"\"}},\"title\":{\"x\":0.05},\"xaxis\":{\"automargin\":true,\"gridcolor\":\"#EBF0F8\",\"linecolor\":\"#EBF0F8\",\"ticks\":\"\",\"title\":{\"standoff\":15},\"zerolinecolor\":\"#EBF0F8\",\"zerolinewidth\":2},\"yaxis\":{\"automargin\":true,\"gridcolor\":\"#EBF0F8\",\"linecolor\":\"#EBF0F8\",\"ticks\":\"\",\"title\":{\"standoff\":15},\"zerolinecolor\":\"#EBF0F8\",\"zerolinewidth\":2}}},\"title\":{\"text\":\"[2021-08-02 12:52:50 PM] Episode: 2/2 Step: 101/200\"},\"xaxis\":{\"anchor\":\"y\",\"domain\":[0.0,1.0],\"gridcolor\":\"Gainsboro\",\"linecolor\":\"Grey\",\"matches\":\"x4\",\"rangeslider\":{\"visible\":false},\"showticklabels\":false,\"title\":{\"font\":{\"size\":12},\"standoff\":7,\"text\":\"Price\"}},\"xaxis2\":{\"anchor\":\"y2\",\"domain\":[0.0,1.0],\"gridcolor\":\"Gainsboro\",\"linecolor\":\"Grey\",\"matches\":\"x4\",\"showticklabels\":false,\"title\":{\"font\":{\"size\":12},\"standoff\":7,\"text\":\"Volume\"}},\"xaxis3\":{\"anchor\":\"y3\",\"domain\":[0.0,1.0],\"gridcolor\":\"Gainsboro\",\"linecolor\":\"Grey\",\"matches\":\"x4\",\"showticklabels\":false,\"title\":{\"font\":{\"size\":12},\"standoff\":7,\"text\":\"Performance\"}},\"xaxis4\":{\"anchor\":\"y4\",\"domain\":[0.0,1.0],\"gridcolor\":\"Gainsboro\",\"linecolor\":\"Grey\",\"title\":{\"font\":{\"size\":12},\"standoff\":7,\"text\":\"Net Worth\"}},\"yaxis\":{\"anchor\":\"x\",\"domain\":[0.49950000000000006,1.0],\"gridcolor\":\"Gainsboro\",\"linecolor\":\"Grey\"},\"yaxis2\":{\"anchor\":\"x2\",\"domain\":[0.333,0.46950000000000003],\"gridcolor\":\"Gainsboro\",\"linecolor\":\"Grey\"},\"yaxis3\":{\"anchor\":\"x3\",\"domain\":[0.1665,0.30300000000000005],\"gridcolor\":\"Gainsboro\",\"linecolor\":\"Grey\"},\"yaxis4\":{\"anchor\":\"x4\",\"domain\":[0.0,0.1365],\"gridcolor\":\"Gainsboro\",\"linecolor\":\"Grey\"}},                        {\"responsive\": true}                    ).then(function(){\n",
              "                            \n",
              "var gd = document.getElementById('4f7fd029-82ac-4413-a9ad-0f4b015dc25c');\n",
              "var x = new MutationObserver(function (mutations, observer) {{\n",
              "        var display = window.getComputedStyle(gd).display;\n",
              "        if (!display || display === 'none') {{\n",
              "            console.log([gd, 'removed!']);\n",
              "            Plotly.purge(gd);\n",
              "            observer.disconnect();\n",
              "        }}\n",
              "}});\n",
              "\n",
              "// Listen for the removal of the full notebook cells\n",
              "var notebookContainer = gd.closest('#notebook-container');\n",
              "if (notebookContainer) {{\n",
              "    x.observe(notebookContainer, {childList: true});\n",
              "}}\n",
              "\n",
              "// Listen for the clearing of the current output cell\n",
              "var outputEl = gd.closest('.output');\n",
              "if (outputEl) {{\n",
              "    x.observe(outputEl, {childList: true});\n",
              "}}\n",
              "\n",
              "                        })                };                            </script>        </div>\n",
              "</body>\n",
              "</html>"
            ]
          },
          "metadata": {
            "tags": []
          }
        },
        {
          "output_type": "display_data",
          "data": {
            "application/vnd.jupyter.widget-view+json": {
              "model_id": "4cd16ecb078d4abf824ff3e438e930c5",
              "version_minor": 0,
              "version_major": 2
            },
            "text/plain": [
              "FigureWidget({\n",
              "    'data': [{'close': array([8740.99, 8739.  , 8728.49, 8708.32, 8795.9 , 8760.  , 8760.  , 87…"
            ]
          },
          "metadata": {
            "tags": []
          }
        },
        {
          "output_type": "display_data",
          "data": {
            "text/html": [
              "<html>\n",
              "<head><meta charset=\"utf-8\" /></head>\n",
              "<body>\n",
              "    <div>            <script src=\"https://cdnjs.cloudflare.com/ajax/libs/mathjax/2.7.5/MathJax.js?config=TeX-AMS-MML_SVG\"></script><script type=\"text/javascript\">if (window.MathJax) {MathJax.Hub.Config({SVG: {font: \"STIX-Web\"}});}</script>                <script type=\"text/javascript\">window.PlotlyConfig = {MathJaxConfig: 'local'};</script>\n",
              "        <script src=\"https://cdn.plot.ly/plotly-2.2.0.min.js\"></script>                <div id=\"95537754-67d9-47f9-ae5a-b98b17446e96\" class=\"plotly-graph-div\" style=\"height:525px; width:100%;\"></div>            <script type=\"text/javascript\">                                    window.PLOTLYENV=window.PLOTLYENV || {};                                    if (document.getElementById(\"95537754-67d9-47f9-ae5a-b98b17446e96\")) {                    Plotly.newPlot(                        \"95537754-67d9-47f9-ae5a-b98b17446e96\",                        [{\"close\":[8740.99,8739.0,8728.49,8708.32,8795.9,8760.0,8760.0,8759.23,8517.77,8520.3,8535.23,8546.34,8526.65,8555.6,8512.1,8492.28,8460.0,8474.99,8455.92,8326.28,8133.43,8164.79,8229.38,8220.4,8238.8,8232.99,8207.48,8243.45,8371.13,8373.0,8365.08,8179.99,8225.0,8285.8,8273.4,8297.4,8279.89,8252.72,8302.18,8295.85,8277.25,8346.59,8358.3,8375.1,8368.62,8366.72,8314.77,8363.7,8344.16,8247.4,8277.4,8291.67,8307.89,8298.9,8269.47,8300.98,8318.49,8306.39,8276.43,8257.69,8166.0,8176.33,8200.7,8155.41,8080.0,8067.03,7958.08,7974.25,7998.5,7991.99,8022.7,8042.97,7965.67,8088.95,8122.19,8107.99,8137.73,8115.0,8107.0,8094.4,8080.01,8117.09,8126.99,8110.95,8215.39,8231.42,8240.13,8235.0,8219.9,8248.87,8213.5,8200.99,8200.0,8237.3,8228.13,8240.83,8214.9,8170.07,8229.87,8205.87,8252.56,8365.0,8348.65,8303.99,8310.48,8310.0,8289.87,8304.99,8301.35,8313.12,8240.07,8199.99,8226.98,8231.2,8198.89,8215.85,8279.99,8255.08,8270.4,8244.24,8239.12,8267.14,8282.27,8350.62,8336.6,8336.91,8311.21,8312.09,8345.19,8377.2,8481.11,8516.36,8524.0,8517.04,8558.5,8521.99,8484.93,8518.48,8488.99,8466.72,8492.55,8494.28,8510.95,8498.64,8551.1,8524.22,8510.11,8475.62,8476.58,8467.13,8499.84],\"high\":[8796.68,8766.0,8750.27,8754.4,8865.0,8821.19,8798.6,8771.02,8761.7,8553.67,8589.1,8579.48,8555.51,8583.6,8569.92,8555.54,8557.51,8505.0,8505.33,8478.29,8339.81,8217.44,8252.72,8248.63,8267.12,8255.0,8261.24,8263.93,8455.66,8439.44,8399.1,8381.73,8229.91,8377.29,8329.1,8350.0,8346.95,8377.29,8311.35,8319.96,8398.24,8372.58,8399.99,8386.53,8400.0,8500.0,8381.0,8371.3,8382.41,8351.0,8292.99,8325.8,8318.99,8324.9,8335.56,8309.4,8377.29,8330.41,8328.23,8284.36,8274.83,8200.0,8232.14,8213.97,8155.41,8108.28,8068.92,8019.9,8026.66,8025.0,8104.69,8061.39,8045.99,8170.71,8144.16,8139.99,8152.99,8137.73,8143.72,8129.99,8106.76,8139.0,8152.04,8146.99,8232.14,8275.1,8256.12,8274.1,8255.8,8253.97,8261.09,8235.76,8227.0,8273.36,8264.21,8250.0,8250.86,8235.77,8232.12,8232.14,8252.72,8370.0,8395.0,8374.48,8331.0,8319.43,8323.4,8314.55,8330.62,8314.8,8323.99,8263.03,8247.78,8253.75,8237.89,8235.0,8279.99,8290.0,8278.71,8275.34,8279.31,8279.98,8294.04,8356.4,8374.94,8354.83,8360.45,8337.14,8351.97,8377.29,8549.0,8531.9,8551.79,8529.9,8590.0,8576.1,8549.89,8531.89,8550.0,8493.29,8522.98,8517.0,8537.29,8524.51,8589.1,8589.07,8536.92,8524.03,8497.8,8498.0,8513.5],\"low\":[8707.28,8721.11,8660.53,8701.35,8695.11,8740.54,8741.52,8700.0,8467.42,8477.89,8500.78,8500.0,8400.0,8451.05,8461.38,8481.24,8420.37,8450.0,8430.94,8275.02,8100.01,8122.56,8157.01,8166.25,8176.91,8213.79,8200.0,8207.48,8237.1,8370.0,8356.4,8145.1,8173.6,8211.8,8201.0,8250.9,8266.46,8252.72,8232.14,8268.37,8277.25,8277.25,8314.78,8314.77,8350.07,8331.39,8314.77,8275.45,8335.49,8191.14,8227.7,8264.13,8249.93,8269.52,8219.44,8262.68,8286.65,8289.87,8232.14,8232.14,8110.02,8154.95,8168.6,8151.0,7980.0,8005.95,7929.53,7931.03,7950.0,7980.58,7991.99,7992.75,7953.4,7965.67,8085.94,8078.48,8092.9,8049.22,8079.46,8062.12,8043.96,8063.1,8088.46,8094.43,8088.46,8191.14,8212.0,8224.5,8211.0,8211.01,8210.03,8158.27,8177.65,8179.41,8221.92,8217.32,8213.52,8141.08,8146.1,8186.03,8197.09,8231.21,8323.82,8296.0,8296.31,8282.65,8280.0,8273.36,8290.08,8277.93,8240.07,8191.14,8178.0,8193.7,8180.0,8170.71,8215.53,8240.02,8237.17,8237.17,8239.12,8227.79,8247.57,8274.24,8326.1,8320.61,8281.31,8269.85,8311.16,8336.11,8369.86,8471.51,8511.0,8476.66,8507.68,8509.24,8482.53,8484.93,8450.0,8434.47,8461.1,8481.0,8480.0,8488.1,8471.09,8509.2,8482.64,8469.0,8440.4,8440.52,8461.8],\"name\":\"Price\",\"open\":[8733.86,8740.99,8739.0,8728.49,8708.32,8795.9,8760.0,8760.0,8759.23,8517.77,8520.3,8535.23,8546.34,8526.65,8555.6,8512.1,8492.28,8460.0,8474.99,8455.92,8326.28,8133.43,8164.79,8229.38,8220.4,8238.8,8232.99,8207.48,8243.45,8371.13,8373.0,8365.08,8179.99,8225.0,8285.8,8273.4,8297.4,8279.89,8252.72,8302.18,8295.85,8277.25,8346.59,8358.3,8375.1,8368.62,8366.72,8314.77,8363.7,8344.16,8247.4,8277.4,8291.67,8307.89,8298.9,8269.47,8300.98,8318.49,8306.39,8276.43,8257.69,8166.0,8176.33,8200.7,8155.41,8080.0,8067.03,7958.08,7974.25,7998.5,7991.99,8022.7,8042.97,7965.67,8088.95,8122.19,8107.99,8137.73,8115.0,8107.0,8094.4,8080.01,8117.09,8126.99,8110.95,8215.39,8231.42,8240.13,8235.0,8219.9,8248.87,8213.5,8200.99,8200.0,8237.3,8228.13,8240.83,8214.9,8170.07,8229.87,8205.87,8252.56,8365.0,8348.65,8303.99,8310.48,8310.0,8289.87,8304.99,8301.35,8313.12,8240.07,8199.99,8226.98,8231.2,8198.89,8215.85,8279.99,8255.08,8270.4,8244.24,8239.12,8267.14,8282.27,8350.62,8336.6,8336.91,8311.21,8312.09,8345.19,8377.2,8481.11,8516.36,8524.0,8517.04,8558.5,8521.99,8484.93,8518.48,8488.99,8466.72,8492.55,8494.28,8510.95,8498.64,8551.1,8524.22,8510.11,8475.62,8476.58,8467.13],\"showlegend\":false,\"type\":\"candlestick\",\"uid\":\"b074e35e-1d88-471d-a273-05cdd3adfb9e\",\"xaxis\":\"x\",\"yaxis\":\"y\"},{\"marker\":{\"color\":\"DodgerBlue\"},\"name\":\"Volume\",\"showlegend\":false,\"type\":\"bar\",\"uid\":\"6310725c-c48d-4e23-81c1-e6eff15be8f1\",\"xaxis\":\"x2\",\"y\":[559.93,273.58,917.79,182.62,1260.69,324.11,324.2,730.67,1341.75,792.07,385.69,475.08,877.26,670.49,610.97,168.99,305.92,136.05,154.26,1070.93,1710.2,492.8,630.72,620.93,586.34,304.52,450.97,182.36,915.32,319.29,362.01,1046.38,357.91,561.2,322.53,1073.71,237.21,251.2,359.73,117.23,363.17,214.18,171.64,258.58,299.52,718.98,119.7,405.25,210.77,714.82,215.97,164.2,201.55,203.41,886.82,95.49,499.67,172.77,355.39,255.27,591.06,133.1,149.13,87.55,1061.54,286.94,524.42,316.0,441.43,189.7,844.94,155.34,257.56,610.69,217.97,173.18,218.06,372.97,484.39,248.1,162.35,303.42,290.69,160.93,369.4,487.27,93.35,96.68,72.14,90.22,168.52,203.15,71.42,464.56,57.0,89.42,49.47,200.05,254.37,65.05,118.19,452.4,181.03,288.04,145.78,110.14,55.48,80.87,67.01,59.16,121.26,244.37,156.87,80.48,139.32,93.52,200.23,97.4,68.08,47.0,36.65,28.75,182.85,400.18,288.1,182.94,777.81,493.59,118.63,174.37,901.75,222.45,113.8,84.2,261.44,168.78,111.07,122.12,267.32,210.39,211.36,146.22,93.39,89.04,307.59,307.2,164.24,151.21,399.77,362.01,260.85],\"yaxis\":\"y2\"},{\"mode\":\"lines\",\"name\":\"bitstamp:/USD-BTC\",\"type\":\"scatter\",\"uid\":\"e1821495-f603-4c3b-adf2-36bec84f46ac\",\"xaxis\":\"x3\",\"y\":[8740.99,8739.0,8728.49,8708.32,8795.9,8760.0,8760.0,8759.23,8517.77,8520.3,8535.23,8546.34,8526.65,8555.6,8512.1,8492.28,8460.0,8474.99,8455.92,8326.28,8133.43,8164.79,8229.38,8220.4,8238.8,8232.99,8207.48,8243.45,8371.13,8373.0,8365.08,8179.99,8225.0,8285.8,8273.4,8297.4,8279.89,8252.72,8302.18,8295.85,8277.25,8346.59,8358.3,8375.1,8368.62,8366.72,8314.77,8363.7,8344.16,8247.4,8277.4,8291.67,8307.89,8298.9,8269.47,8300.98,8318.49,8306.39,8276.43,8257.69,8166.0,8176.33,8200.7,8155.41,8080.0,8067.03,7958.08,7974.25,7998.5,7991.99,8022.7,8042.97,7965.67,8088.95,8122.19,8107.99,8137.73,8115.0,8107.0,8094.4,8080.01,8117.09,8126.99,8110.95,8215.39,8231.42,8240.13,8235.0,8219.9,8248.87,8213.5,8200.99,8200.0,8237.3,8228.13,8240.83,8214.9,8170.07,8229.87,8205.87,8252.56,8365.0,8348.65,8303.99,8310.48,8310.0,8289.87,8304.99,8301.35,8313.12,8240.07,8199.99,8226.98,8231.2,8198.89,8215.85,8279.99,8255.08,8270.4,8244.24,8239.12,8267.14,8282.27,8350.62,8336.6,8336.91,8311.21,8312.09,8345.19,8377.2,8481.11,8516.36,8524.0,8517.04,8558.5,8521.99,8484.93,8518.48,8488.99,8466.72,8492.55,8494.28,8510.95,8498.64,8551.1,8524.22,8510.11,8475.62,8476.58,8467.13,8499.84],\"yaxis\":\"y3\"},{\"mode\":\"lines\",\"name\":\"bitstamp:/USD:/free\",\"type\":\"scatter\",\"uid\":\"cfc8cb6d-4832-4bd2-93fc-72c2481ca6b4\",\"xaxis\":\"x3\",\"y\":[10000.0,10000.0,10000.0,10000.0,10000.0,2000.0,2000.0,2000.0,2000.0,2000.0,2000.0,2000.0,2000.0,2000.0,2000.0,0.0,0.0,0.0,0.0,0.0,1944.62,9297.78,7438.22,5206.75,5206.75,5206.75,5206.75,5206.75,3124.05,7275.49,7275.49,2182.65,0.0,0.0,0.0,0.0,0.0,0.0,0.0,0.0,0.0,0.0,0.0,0.0,0.0,0.0,0.0,0.0,0.0,0.0,0.0,0.0,0.0,0.0,0.0,0.0,0.0,0.0,0.0,0.0,0.0,0.0,0.0,0.0,0.0,0.0,0.0,6926.73,6926.73,6926.73,6926.73,6926.73,6926.73,6926.73,6926.73,6926.73,6926.73,6926.73,6926.73,6926.73,6926.73,6926.73,6926.73,6926.73,6926.73,6926.73,6926.73,6926.73,6926.73,6926.73,6926.73,6926.73,6926.73,6926.73,6926.73,6926.73,6926.73,2078.02,2078.02,2078.02,2078.02,2078.02,6985.74,6985.74,4890.02,4890.02,4890.02,4890.02,4890.02,4890.02,4890.02,4890.02,4890.02,4890.02,4890.02,4890.02,4890.02,4890.02,4890.02,4890.02,4890.02,4890.02,4890.02,4890.02,4890.02,4890.02,4890.02,4890.02,4890.02,4890.02,4890.02,9147.52,9147.52,9147.52,9147.52,9147.52,9147.52,9147.52,9147.52,9147.52,9147.52,9147.52,9147.52,9147.52,9147.52,9147.52,5488.51,5488.51,548.85,548.85,548.85],\"yaxis\":\"y3\"},{\"mode\":\"lines\",\"name\":\"bitstamp:/USD:/locked\",\"type\":\"scatter\",\"uid\":\"4fe50199-bde9-4951-810d-2de89e11cb6f\",\"xaxis\":\"x3\",\"y\":[0.0,0.0,0.0,0.0,0.0,0.0,0.0,0.0,0.0,0.0,0.0,0.0,0.0,0.0,0.0,0.0,0.0,0.0,0.0,0.0,0.0,0.0,0.0,0.0,0.0,0.0,0.0,0.0,0.0,0.0,0.0,0.0,0.0,0.0,0.0,0.0,0.0,0.0,0.0,0.0,0.0,0.0,0.0,0.0,0.0,0.0,0.0,0.0,0.0,0.0,0.0,0.0,0.0,0.0,0.0,0.0,0.0,0.0,0.0,0.0,0.0,0.0,0.0,0.0,0.0,0.0,0.0,0.0,0.0,0.0,0.0,0.0,0.0,0.0,0.0,0.0,0.0,0.0,0.0,0.0,0.0,0.0,0.0,0.0,0.0,0.0,0.0,0.0,0.0,0.0,0.0,0.0,0.0,0.0,0.0,0.0,0.0,0.0,0.0,0.0,0.0,0.0,0.0,0.0,0.0,0.0,0.0,0.0,0.0,0.0,0.0,0.0,0.0,0.0,0.0,0.0,0.0,0.0,0.0,0.0,0.0,0.0,0.0,0.0,0.0,0.0,0.0,0.0,0.0,0.0,0.0,0.0,0.0,0.0,0.0,0.0,0.0,0.0,0.0,0.0,0.0,0.0,0.0,0.0,0.0,0.0,0.0,0.0,0.0,0.0,0.0],\"yaxis\":\"y3\"},{\"mode\":\"lines\",\"name\":\"bitstamp:/USD:/total\",\"type\":\"scatter\",\"uid\":\"fb7d08c2-3958-4ce9-84d7-48e04e03b6a2\",\"xaxis\":\"x3\",\"y\":[10000.0,10000.0,10000.0,10000.0,10000.0,2000.0,2000.0,2000.0,2000.0,2000.0,2000.0,2000.0,2000.0,2000.0,2000.0,0.0,0.0,0.0,0.0,0.0,1944.62,9297.78,7438.22,5206.75,5206.75,5206.75,5206.75,5206.75,3124.05,7275.49,7275.49,2182.65,0.0,0.0,0.0,0.0,0.0,0.0,0.0,0.0,0.0,0.0,0.0,0.0,0.0,0.0,0.0,0.0,0.0,0.0,0.0,0.0,0.0,0.0,0.0,0.0,0.0,0.0,0.0,0.0,0.0,0.0,0.0,0.0,0.0,0.0,0.0,6926.73,6926.73,6926.73,6926.73,6926.73,6926.73,6926.73,6926.73,6926.73,6926.73,6926.73,6926.73,6926.73,6926.73,6926.73,6926.73,6926.73,6926.73,6926.73,6926.73,6926.73,6926.73,6926.73,6926.73,6926.73,6926.73,6926.73,6926.73,6926.73,6926.73,2078.02,2078.02,2078.02,2078.02,2078.02,6985.74,6985.74,4890.02,4890.02,4890.02,4890.02,4890.02,4890.02,4890.02,4890.02,4890.02,4890.02,4890.02,4890.02,4890.02,4890.02,4890.02,4890.02,4890.02,4890.02,4890.02,4890.02,4890.02,4890.02,4890.02,4890.02,4890.02,4890.02,4890.02,9147.52,9147.52,9147.52,9147.52,9147.52,9147.52,9147.52,9147.52,9147.52,9147.52,9147.52,9147.52,9147.52,9147.52,9147.52,5488.51,5488.51,548.85,548.85,548.85],\"yaxis\":\"y3\"},{\"mode\":\"lines\",\"name\":\"bitstamp:/BTC:/free\",\"type\":\"scatter\",\"uid\":\"4e8f59db-2d21-45cc-9a7f-cd3f89b13613\",\"xaxis\":\"x3\",\"y\":[10.0,10.0,10.0,10.0,10.0,10.0,10.0,10.0,10.0,10.0,10.0,10.0,10.0,10.0,10.0,10.0,10.0,10.0,10.0,10.0,10.0,10.0,10.0,10.0,10.0,10.0,10.0,10.0,10.0,10.0,10.0,10.0,10.0,10.0,10.0,10.0,10.0,10.0,10.0,10.0,10.0,10.0,10.0,10.0,10.0,10.0,10.0,10.0,10.0,10.0,10.0,10.0,10.0,10.0,10.0,10.0,10.0,10.0,10.0,10.0,10.0,10.0,10.0,10.0,10.0,10.0,10.0,10.0,10.0,10.0,10.0,10.0,10.0,10.0,10.0,10.0,10.0,10.0,10.0,10.0,10.0,10.0,10.0,10.0,10.0,10.0,10.0,10.0,10.0,10.0,10.0,10.0,10.0,10.0,10.0,10.0,10.0,10.0,10.0,10.0,10.0,10.0,10.0,10.0,10.0,10.0,10.0,10.0,10.0,10.0,10.0,10.0,10.0,10.0,10.0,10.0,10.0,10.0,10.0,10.0,10.0,10.0,10.0,10.0,10.0,10.0,10.0,10.0,10.0,10.0,10.0,10.0,10.0,10.0,10.0,10.0,10.0,10.0,10.0,10.0,10.0,10.0,10.0,10.0,10.0,10.0,10.0,10.0,10.0,10.0,10.0],\"yaxis\":\"y3\"},{\"mode\":\"lines\",\"name\":\"bitstamp:/BTC:/locked\",\"type\":\"scatter\",\"uid\":\"394cf790-ae62-4be8-9a6d-fa0eed31b647\",\"xaxis\":\"x3\",\"y\":[0.0,0.0,0.0,0.0,0.0,0.90678612,0.90678612,0.90678612,0.90678612,0.90678612,0.90678612,0.90678612,0.90678612,0.90678612,0.90678612,1.14104089,1.14104089,1.14104089,1.14104089,1.14104089,0.90678612,0.0,0.22707014,0.49741614,0.49741614,0.49741614,0.49741614,0.49741614,0.74930704,0.2518909,0.2518909,0.85888569,1.12491291,1.12491291,1.12491291,1.12491291,1.12491291,1.12491291,1.12491291,1.12491291,1.12491291,1.12491291,1.12491291,1.12491291,1.12491291,1.12491291,1.12491291,1.12491291,1.12491291,1.12491291,1.12491291,1.12491291,1.12491291,1.12491291,1.12491291,1.12491291,1.12491291,1.12491291,1.12491291,1.12491291,1.12491291,1.12491291,1.12491291,1.12491291,1.12491291,1.12491291,1.12491291,0.2518909,0.2518909,0.2518909,0.2518909,0.2518909,0.2518909,0.2518909,0.2518909,0.2518909,0.2518909,0.2518909,0.2518909,0.2518909,0.2518909,0.2518909,0.2518909,0.2518909,0.2518909,0.2518909,0.2518909,0.2518909,0.2518909,0.2518909,0.2518909,0.2518909,0.2518909,0.2518909,0.2518909,0.2518909,0.2518909,0.84035333,0.84035333,0.84035333,0.84035333,0.84035333,0.2518909,0.2518909,0.5035085,0.5035085,0.5035085,0.5035085,0.5035085,0.5035085,0.5035085,0.5035085,0.5035085,0.5035085,0.5035085,0.5035085,0.5035085,0.5035085,0.5035085,0.5035085,0.5035085,0.5035085,0.5035085,0.5035085,0.5035085,0.5035085,0.5035085,0.5035085,0.5035085,0.5035085,0.5035085,0.0,0.0,0.0,0.0,0.0,0.0,0.0,0.0,0.0,0.0,0.0,0.0,0.0,0.0,0.0,0.42796056,0.42796056,1.00902012,1.00902012,1.00902012],\"yaxis\":\"y3\"},{\"mode\":\"lines\",\"name\":\"bitstamp:/BTC:/total\",\"type\":\"scatter\",\"uid\":\"97092c0a-1181-41cb-b6ff-814c735c5002\",\"xaxis\":\"x3\",\"y\":[10.0,10.0,10.0,10.0,10.0,10.90678612,10.90678612,10.90678612,10.90678612,10.90678612,10.90678612,10.90678612,10.90678612,10.90678612,10.90678612,11.14104089,11.14104089,11.14104089,11.14104089,11.14104089,10.90678612,10.0,10.22707014,10.49741614,10.49741614,10.49741614,10.49741614,10.49741614,10.74930704,10.2518909,10.2518909,10.85888569,11.12491291,11.12491291,11.12491291,11.12491291,11.12491291,11.12491291,11.12491291,11.12491291,11.12491291,11.12491291,11.12491291,11.12491291,11.12491291,11.12491291,11.12491291,11.12491291,11.12491291,11.12491291,11.12491291,11.12491291,11.12491291,11.12491291,11.12491291,11.12491291,11.12491291,11.12491291,11.12491291,11.12491291,11.12491291,11.12491291,11.12491291,11.12491291,11.12491291,11.12491291,11.12491291,10.2518909,10.2518909,10.2518909,10.2518909,10.2518909,10.2518909,10.2518909,10.2518909,10.2518909,10.2518909,10.2518909,10.2518909,10.2518909,10.2518909,10.2518909,10.2518909,10.2518909,10.2518909,10.2518909,10.2518909,10.2518909,10.2518909,10.2518909,10.2518909,10.2518909,10.2518909,10.2518909,10.2518909,10.2518909,10.2518909,10.84035333,10.84035333,10.84035333,10.84035333,10.84035333,10.2518909,10.2518909,10.5035085,10.5035085,10.5035085,10.5035085,10.5035085,10.5035085,10.5035085,10.5035085,10.5035085,10.5035085,10.5035085,10.5035085,10.5035085,10.5035085,10.5035085,10.5035085,10.5035085,10.5035085,10.5035085,10.5035085,10.5035085,10.5035085,10.5035085,10.5035085,10.5035085,10.5035085,10.5035085,10.0,10.0,10.0,10.0,10.0,10.0,10.0,10.0,10.0,10.0,10.0,10.0,10.0,10.0,10.0,10.42796056,10.42796056,11.00902012,11.00902012,11.00902012],\"yaxis\":\"y3\"},{\"mode\":\"lines\",\"name\":\"bitstamp:/BTC:/worth\",\"type\":\"scatter\",\"uid\":\"ad9504a4-7747-4a51-b140-9ddac3c900c1\",\"xaxis\":\"x3\",\"y\":[87409.9,87390.0,87284.9,87083.2,87959.0,95543.4464112,95543.4464112,95535.04818588759,92901.4956093524,92929.08977823598,93091.92809500759,93213.1024888008,92998.34787009799,93314.099328272,92839.654132052,94612.8387293292,94253.20592939999,94420.21013234109,94207.7504825688,92763.4259415892,88709.5814319916,81647.9,84162.4464687132,86292.959637256,86486.112094232,86425.1221064586,86157.3330207272,86534.92507928301,89983.84664175518,85839.08250569999,85757.887529772,88825.57635534309,91502.40868475,92178.803389678,92040.854469594,92307.852379434,92113.0551543799,91810.7912706152,92361.02946314382,92290.60876442351,92083.68538429751,92855.08684547691,92985.359575653,93172.258112541,93100.16867688422,93079.0313423552,92501.09211668071,93045.43410536702,92828.05330710561,91751.60673393401,92085.354121234,92244.1066284597,92424.5527158599,92324.539748799,91997.1335618577,92347.67956765181,92542.4767927059,92407.8653464949,92074.56295571131,91866.08208777792,90846.03882306001,90960.95917342031,91232.07330103702,90728.2259953431,89889.29631280001,89745.00619235731,88532.9469308128,81751.141009325,81999.74936365,81933.009553891,82247.84512342999,82455.650951973,81663.179785403,82927.03289555499,83267.80574907099,83122.228898291,83427.120133657,83194.0946535,83112.07952629999,82982.90570096,82835.38099090899,83215.52110548099,83317.01482539099,83152.57449535499,84223.28198095098,84387.619792078,84476.91376181699,84424.3215615,84269.51800890999,84566.515288283,84203.90590715,84075.654751991,84065.50537999999,84447.90091056998,84353.89107101699,84484.090085447,84218.25855440999,88566.4455308331,89214.6986599671,88954.5301800471,89460.6662770248,90679.55560544999,85589.448962285,85131.599514691,87289.19731908,87284.155635,87072.72000889502,87231.533057415,87193.300286475,87316.92658152002,86549.645285595,86128.664664915,86412.15435933,86456.47916520001,86117.110805565,86295.25030972502,86968.945344915,86707.30294818,86868.2166984,86593.44491604,86539.66695252001,86833.97526069,86992.89334429501,87710.80815027001,87563.54896110001,87566.805048735,87296.864880285,87306.10796776501,87653.774099115,87989.99140620002,89081.41097443501,85163.6,85240.0,85170.40000000001,85585.0,85219.9,84849.3,85184.79999999999,84889.9,84667.2,84925.5,84942.8,85109.5,84986.4,85511.0,85242.2,88743.09144126161,88383.43108154721,93318.8397687896,93214.8045286556,93574.9095767808],\"yaxis\":\"y3\"},{\"mode\":\"lines\",\"name\":\"net_worth\",\"type\":\"scatter\",\"uid\":\"860ec2ed-9bc8-4908-a89c-1ff2e3aef539\",\"xaxis\":\"x3\",\"y\":[97409.9,97390.0,97284.9,97083.2,97959.0,97543.4464112,97543.4464112,97535.04818588759,94901.4956093524,94929.08977823598,95091.92809500759,95213.1024888008,94998.34787009799,95314.099328272,94839.654132052,94612.8387293292,94253.20592939999,94420.21013234109,94207.7504825688,92763.4259415892,90654.20143199159,90945.68,91600.6664687132,91499.709637256,91692.862094232,91631.8721064586,91364.0830207272,91741.67507928301,93107.89664175519,93114.5725057,93033.377529772,91008.22635534308,91502.40868475,92178.803389678,92040.854469594,92307.852379434,92113.0551543799,91810.7912706152,92361.02946314382,92290.60876442351,92083.68538429751,92855.08684547691,92985.359575653,93172.258112541,93100.16867688422,93079.0313423552,92501.09211668071,93045.43410536702,92828.05330710561,91751.60673393401,92085.354121234,92244.1066284597,92424.5527158599,92324.539748799,91997.1335618577,92347.67956765181,92542.4767927059,92407.8653464949,92074.56295571131,91866.08208777792,90846.03882306001,90960.95917342031,91232.07330103702,90728.2259953431,89889.29631280001,89745.00619235731,88532.9469308128,88677.871009325,88926.47936365,88859.73955389099,89174.57512342998,89382.380951973,88589.909785403,89853.76289555499,90194.53574907099,90048.95889829099,90353.85013365699,90120.82465349999,90038.80952629999,89909.63570095999,89762.11099090899,90142.25110548099,90243.74482539098,90079.30449535498,91150.01198095098,91314.34979207799,91403.64376181699,91351.05156149999,91196.24800890998,91493.245288283,91130.63590714999,91002.38475199099,90992.23537999998,91374.63091056998,91280.62107101698,91410.82008544699,91144.98855440998,90644.4655308331,91292.71865996711,91032.55018004711,91538.6862770248,92757.57560545,92575.188962285,92117.339514691,92179.21731908001,92174.175635,91962.74000889502,92121.553057415,92083.320286475,92206.94658152002,91439.66528559501,91018.68466491501,91302.17435933,91346.49916520002,91007.130805565,91185.27030972502,91858.965344915,91597.32294818001,91758.23669840001,91483.46491604,91429.68695252002,91723.99526069,91882.91334429501,92600.82815027001,92453.56896110001,92456.825048735,92186.884880285,92196.12796776502,92543.79409911501,92880.01140620002,93971.43097443502,94311.12000000001,94387.52,94317.92000000001,94732.52,94367.42,93996.82,94332.31999999999,94037.42,93814.72,94073.02,94090.32,94257.02,94133.92,94658.52,94389.72,94231.6014412616,93871.94108154721,93867.68976878961,93763.6545286556,94123.75957678081],\"yaxis\":\"y3\"},{\"marker\":{\"color\":\"DarkGreen\"},\"mode\":\"lines\",\"name\":\"Net Worth\",\"type\":\"scatter\",\"uid\":\"76ab2fe2-a80c-488c-a9e4-75f0f9adbd7f\",\"xaxis\":\"x4\",\"y\":[97409.9,97390.0,97284.9,97083.2,97959.0,97543.4464112,97543.4464112,97535.04818588759,94901.4956093524,94929.08977823598,95091.92809500759,95213.1024888008,94998.34787009799,95314.099328272,94839.654132052,94612.8387293292,94253.20592939999,94420.21013234109,94207.7504825688,92763.4259415892,90654.20143199159,90945.68,91600.6664687132,91499.709637256,91692.862094232,91631.8721064586,91364.0830207272,91741.67507928301,93107.89664175519,93114.5725057,93033.377529772,91008.22635534308,91502.40868475,92178.803389678,92040.854469594,92307.852379434,92113.0551543799,91810.7912706152,92361.02946314382,92290.60876442351,92083.68538429751,92855.08684547691,92985.359575653,93172.258112541,93100.16867688422,93079.0313423552,92501.09211668071,93045.43410536702,92828.05330710561,91751.60673393401,92085.354121234,92244.1066284597,92424.5527158599,92324.539748799,91997.1335618577,92347.67956765181,92542.4767927059,92407.8653464949,92074.56295571131,91866.08208777792,90846.03882306001,90960.95917342031,91232.07330103702,90728.2259953431,89889.29631280001,89745.00619235731,88532.9469308128,88677.871009325,88926.47936365,88859.73955389099,89174.57512342998,89382.380951973,88589.909785403,89853.76289555499,90194.53574907099,90048.95889829099,90353.85013365699,90120.82465349999,90038.80952629999,89909.63570095999,89762.11099090899,90142.25110548099,90243.74482539098,90079.30449535498,91150.01198095098,91314.34979207799,91403.64376181699,91351.05156149999,91196.24800890998,91493.245288283,91130.63590714999,91002.38475199099,90992.23537999998,91374.63091056998,91280.62107101698,91410.82008544699,91144.98855440998,90644.4655308331,91292.71865996711,91032.55018004711,91538.6862770248,92757.57560545,92575.188962285,92117.339514691,92179.21731908001,92174.175635,91962.74000889502,92121.553057415,92083.320286475,92206.94658152002,91439.66528559501,91018.68466491501,91302.17435933,91346.49916520002,91007.130805565,91185.27030972502,91858.965344915,91597.32294818001,91758.23669840001,91483.46491604,91429.68695252002,91723.99526069,91882.91334429501,92600.82815027001,92453.56896110001,92456.825048735,92186.884880285,92196.12796776502,92543.79409911501,92880.01140620002,93971.43097443502,94311.12000000001,94387.52,94317.92000000001,94732.52,94367.42,93996.82,94332.31999999999,94037.42,93814.72,94073.02,94090.32,94257.02,94133.92,94658.52,94389.72,94231.6014412616,93871.94108154721,93867.68976878961,93763.6545286556,94123.75957678081],\"yaxis\":\"y4\"}],                        {\"annotations\":[{\"arrowcolor\":\"DarkGreen\",\"arrowhead\":2,\"arrowsize\":0.8,\"arrowwidth\":4,\"ax\":0,\"ay\":15,\"hoverlabel\":{\"bgcolor\":\"DarkGreen\"},\"hovertext\":\"Step 32 [2018-05-16 13:00:00]<br>BUY 0.26602722 BTC @ 8179.99 USD MARKET<br>Total: 2176.1 USD - Comm.: 6.55 USD\",\"opacity\":0.6,\"showarrow\":true,\"x\":31,\"xref\":\"x\",\"y\":8179.99,\"yref\":\"y\"},{\"arrowcolor\":\"DarkGreen\",\"arrowhead\":2,\"arrowsize\":0.8,\"arrowwidth\":4,\"ax\":0,\"ay\":15,\"hoverlabel\":{\"bgcolor\":\"DarkGreen\"},\"hovertext\":\"Step 31 [2018-05-16 12:00:00]<br>BUY 0.60699479 BTC @ 8365.08 USD MARKET<br>Total: 5077.56 USD - Comm.: 15.28 USD\",\"opacity\":0.6,\"showarrow\":true,\"x\":30,\"xref\":\"x\",\"y\":8365.08,\"yref\":\"y\"},{\"arrowcolor\":\"FireBrick\",\"arrowhead\":2,\"arrowsize\":0.8,\"arrowwidth\":4,\"ax\":0,\"ay\":-15,\"hoverlabel\":{\"bgcolor\":\"FireBrick\"},\"hovertext\":\"Step 29 [2018-05-16 10:00:00]<br>SELL 0.26953496 BTC @ 8371.13 USD MARKET<br>Total: 2256.31 USD - Comm.: 0.00081104 BTC\",\"opacity\":0.6,\"showarrow\":true,\"x\":28,\"xref\":\"x\",\"y\":8371.13,\"yref\":\"y\"},{\"arrowcolor\":\"FireBrick\",\"arrowhead\":2,\"arrowsize\":0.8,\"arrowwidth\":4,\"ax\":0,\"ay\":-15,\"hoverlabel\":{\"bgcolor\":\"FireBrick\"},\"hovertext\":\"Step 29 [2018-05-16 10:00:00]<br>SELL 0.22638893 BTC @ 8371.13 USD MARKET<br>Total: 1895.13 USD - Comm.: 0.00068121 BTC\",\"opacity\":0.6,\"showarrow\":true,\"x\":28,\"xref\":\"x\",\"y\":8371.13,\"yref\":\"y\"},{\"arrowcolor\":\"DarkGreen\",\"arrowhead\":2,\"arrowsize\":0.8,\"arrowwidth\":4,\"ax\":0,\"ay\":15,\"hoverlabel\":{\"bgcolor\":\"DarkGreen\"},\"hovertext\":\"Step 28 [2018-05-16 09:00:00]<br>BUY 0.2518909 BTC @ 8243.45 USD MARKET<br>Total: 2076.45 USD - Comm.: 6.25 USD\",\"opacity\":0.6,\"showarrow\":true,\"x\":27,\"xref\":\"x\",\"y\":8243.45,\"yref\":\"y\"},{\"arrowcolor\":\"DarkGreen\",\"arrowhead\":2,\"arrowsize\":0.8,\"arrowwidth\":4,\"ax\":0,\"ay\":15,\"hoverlabel\":{\"bgcolor\":\"DarkGreen\"},\"hovertext\":\"Step 23 [2018-05-16 04:00:00]<br>BUY 0.270346 BTC @ 8229.38 USD MARKET<br>Total: 2224.78 USD - Comm.: 6.69 USD\",\"opacity\":0.6,\"showarrow\":true,\"x\":22,\"xref\":\"x\",\"y\":8229.38,\"yref\":\"y\"},{\"arrowcolor\":\"DarkGreen\",\"arrowhead\":2,\"arrowsize\":0.8,\"arrowwidth\":4,\"ax\":0,\"ay\":15,\"hoverlabel\":{\"bgcolor\":\"DarkGreen\"},\"hovertext\":\"Step 22 [2018-05-16 03:00:00]<br>BUY 0.22707014 BTC @ 8164.79 USD MARKET<br>Total: 1853.98 USD - Comm.: 5.58 USD\",\"opacity\":0.6,\"showarrow\":true,\"x\":21,\"xref\":\"x\",\"y\":8164.79,\"yref\":\"y\"},{\"arrowcolor\":\"FireBrick\",\"arrowhead\":2,\"arrowsize\":0.8,\"arrowwidth\":4,\"ax\":0,\"ay\":-15,\"hoverlabel\":{\"bgcolor\":\"FireBrick\"},\"hovertext\":\"Step 21 [2018-05-16 02:00:00]<br>SELL 0.90406576 BTC @ 8133.43 USD MARKET<br>Total: 7353.16 USD - Comm.: 0.00272036 BTC\",\"opacity\":0.6,\"showarrow\":true,\"x\":20,\"xref\":\"x\",\"y\":8133.43,\"yref\":\"y\"},{\"arrowcolor\":\"FireBrick\",\"arrowhead\":2,\"arrowsize\":0.8,\"arrowwidth\":4,\"ax\":0,\"ay\":-15,\"hoverlabel\":{\"bgcolor\":\"FireBrick\"},\"hovertext\":\"Step 20 [2018-05-16 01:00:00]<br>SELL 0.23355201 BTC @ 8326.28 USD MARKET<br>Total: 1944.62 USD - Comm.: 0.00070276 BTC\",\"opacity\":0.6,\"showarrow\":true,\"x\":19,\"xref\":\"x\",\"y\":8326.28,\"yref\":\"y\"},{\"arrowcolor\":\"DarkGreen\",\"arrowhead\":2,\"arrowsize\":0.8,\"arrowwidth\":4,\"ax\":0,\"ay\":15,\"hoverlabel\":{\"bgcolor\":\"DarkGreen\"},\"hovertext\":\"Step 15 [2018-05-15 20:00:00]<br>BUY 0.23425477 BTC @ 8512.1 USD MARKET<br>Total: 1994.0 USD - Comm.: 6.00 USD\",\"opacity\":0.6,\"showarrow\":true,\"x\":14,\"xref\":\"x\",\"y\":8512.1,\"yref\":\"y\"},{\"arrowcolor\":\"DarkGreen\",\"arrowhead\":2,\"arrowsize\":0.8,\"arrowwidth\":4,\"ax\":0,\"ay\":15,\"hoverlabel\":{\"bgcolor\":\"DarkGreen\"},\"hovertext\":\"Step 5 [2018-05-15 10:00:00]<br>BUY 0.90678612 BTC @ 8795.9 USD MARKET<br>Total: 7976.0 USD - Comm.: 24.00 USD\",\"opacity\":0.6,\"showarrow\":true,\"x\":4,\"xref\":\"x\",\"y\":8795.9,\"yref\":\"y\"},{\"arrowcolor\":\"DarkGreen\",\"arrowhead\":2,\"arrowsize\":0.8,\"arrowwidth\":4,\"ax\":0,\"ay\":15,\"hoverlabel\":{\"bgcolor\":\"DarkGreen\"},\"hovertext\":\"Step 97 [2018-05-19 06:00:00]<br>BUY 0.58846243 BTC @ 8214.9 USD MARKET<br>Total: 4834.16 USD - Comm.: 14.55 USD\",\"opacity\":0.6,\"showarrow\":true,\"x\":96,\"xref\":\"x\",\"y\":8214.9,\"yref\":\"y\"},{\"arrowcolor\":\"FireBrick\",\"arrowhead\":2,\"arrowsize\":0.8,\"arrowwidth\":4,\"ax\":0,\"ay\":-15,\"hoverlabel\":{\"bgcolor\":\"FireBrick\"},\"hovertext\":\"Step 67 [2018-05-18 00:00:00]<br>SELL 0.26522914 BTC @ 7958.08 USD MARKET<br>Total: 2110.71 USD - Comm.: 0.00079808 BTC\",\"opacity\":0.6,\"showarrow\":true,\"x\":66,\"xref\":\"x\",\"y\":7958.08,\"yref\":\"y\"},{\"arrowcolor\":\"FireBrick\",\"arrowhead\":2,\"arrowsize\":0.8,\"arrowwidth\":4,\"ax\":0,\"ay\":-15,\"hoverlabel\":{\"bgcolor\":\"FireBrick\"},\"hovertext\":\"Step 67 [2018-05-18 00:00:00]<br>SELL 0.60517381 BTC @ 7958.08 USD MARKET<br>Total: 4816.02 USD - Comm.: 0.00182098 BTC\",\"opacity\":0.6,\"showarrow\":true,\"x\":66,\"xref\":\"x\",\"y\":7958.08,\"yref\":\"y\"},{\"arrowcolor\":\"DarkGreen\",\"arrowhead\":2,\"arrowsize\":0.8,\"arrowwidth\":4,\"ax\":0,\"ay\":15,\"hoverlabel\":{\"bgcolor\":\"DarkGreen\"},\"hovertext\":\"Step 148 [2018-05-21 09:00:00]<br>BUY 0.58105956 BTC @ 8475.62 USD MARKET<br>Total: 4924.84 USD - Comm.: 14.82 USD\",\"opacity\":0.6,\"showarrow\":true,\"x\":147,\"xref\":\"x\",\"y\":8475.62,\"yref\":\"y\"},{\"arrowcolor\":\"DarkGreen\",\"arrowhead\":2,\"arrowsize\":0.8,\"arrowwidth\":4,\"ax\":0,\"ay\":15,\"hoverlabel\":{\"bgcolor\":\"DarkGreen\"},\"hovertext\":\"Step 146 [2018-05-21 07:00:00]<br>BUY 0.42796056 BTC @ 8524.22 USD MARKET<br>Total: 3648.03 USD - Comm.: 10.98 USD\",\"opacity\":0.6,\"showarrow\":true,\"x\":145,\"xref\":\"x\",\"y\":8524.22,\"yref\":\"y\"},{\"arrowcolor\":\"FireBrick\",\"arrowhead\":2,\"arrowsize\":0.8,\"arrowwidth\":4,\"ax\":0,\"ay\":-15,\"hoverlabel\":{\"bgcolor\":\"FireBrick\"},\"hovertext\":\"Step 131 [2018-05-20 16:00:00]<br>SELL 0.25086275 BTC @ 8481.11 USD MARKET<br>Total: 2127.59 USD - Comm.: 0.00075485 BTC\",\"opacity\":0.6,\"showarrow\":true,\"x\":130,\"xref\":\"x\",\"y\":8481.11,\"yref\":\"y\"},{\"arrowcolor\":\"FireBrick\",\"arrowhead\":2,\"arrowsize\":0.8,\"arrowwidth\":4,\"ax\":0,\"ay\":-15,\"hoverlabel\":{\"bgcolor\":\"FireBrick\"},\"hovertext\":\"Step 131 [2018-05-20 16:00:00]<br>SELL 0.25113523 BTC @ 8481.11 USD MARKET<br>Total: 2129.91 USD - Comm.: 0.00075567 BTC\",\"opacity\":0.6,\"showarrow\":true,\"x\":130,\"xref\":\"x\",\"y\":8481.11,\"yref\":\"y\"},{\"arrowcolor\":\"DarkGreen\",\"arrowhead\":2,\"arrowsize\":0.8,\"arrowwidth\":4,\"ax\":0,\"ay\":15,\"hoverlabel\":{\"bgcolor\":\"DarkGreen\"},\"hovertext\":\"Step 104 [2018-05-19 13:00:00]<br>BUY 0.2516176 BTC @ 8303.99 USD MARKET<br>Total: 2089.43 USD - Comm.: 6.29 USD\",\"opacity\":0.6,\"showarrow\":true,\"x\":103,\"xref\":\"x\",\"y\":8303.99,\"yref\":\"y\"},{\"arrowcolor\":\"FireBrick\",\"arrowhead\":2,\"arrowsize\":0.8,\"arrowwidth\":4,\"ax\":0,\"ay\":-15,\"hoverlabel\":{\"bgcolor\":\"FireBrick\"},\"hovertext\":\"Step 102 [2018-05-19 11:00:00]<br>SELL 0.58669704 BTC @ 8365.0 USD MARKET<br>Total: 4907.72 USD - Comm.: 0.00176539 BTC\",\"opacity\":0.6,\"showarrow\":true,\"x\":101,\"xref\":\"x\",\"y\":8365.0,\"yref\":\"y\"}],\"margin\":{\"t\":50},\"template\":{\"data\":{\"bar\":[{\"error_x\":{\"color\":\"#2a3f5f\"},\"error_y\":{\"color\":\"#2a3f5f\"},\"marker\":{\"line\":{\"color\":\"white\",\"width\":0.5},\"pattern\":{\"fillmode\":\"overlay\",\"size\":10,\"solidity\":0.2}},\"type\":\"bar\"}],\"barpolar\":[{\"marker\":{\"line\":{\"color\":\"white\",\"width\":0.5},\"pattern\":{\"fillmode\":\"overlay\",\"size\":10,\"solidity\":0.2}},\"type\":\"barpolar\"}],\"carpet\":[{\"aaxis\":{\"endlinecolor\":\"#2a3f5f\",\"gridcolor\":\"#C8D4E3\",\"linecolor\":\"#C8D4E3\",\"minorgridcolor\":\"#C8D4E3\",\"startlinecolor\":\"#2a3f5f\"},\"baxis\":{\"endlinecolor\":\"#2a3f5f\",\"gridcolor\":\"#C8D4E3\",\"linecolor\":\"#C8D4E3\",\"minorgridcolor\":\"#C8D4E3\",\"startlinecolor\":\"#2a3f5f\"},\"type\":\"carpet\"}],\"choropleth\":[{\"colorbar\":{\"outlinewidth\":0,\"ticks\":\"\"},\"type\":\"choropleth\"}],\"contour\":[{\"colorbar\":{\"outlinewidth\":0,\"ticks\":\"\"},\"colorscale\":[[0.0,\"#0d0887\"],[0.1111111111111111,\"#46039f\"],[0.2222222222222222,\"#7201a8\"],[0.3333333333333333,\"#9c179e\"],[0.4444444444444444,\"#bd3786\"],[0.5555555555555556,\"#d8576b\"],[0.6666666666666666,\"#ed7953\"],[0.7777777777777778,\"#fb9f3a\"],[0.8888888888888888,\"#fdca26\"],[1.0,\"#f0f921\"]],\"type\":\"contour\"}],\"contourcarpet\":[{\"colorbar\":{\"outlinewidth\":0,\"ticks\":\"\"},\"type\":\"contourcarpet\"}],\"heatmap\":[{\"colorbar\":{\"outlinewidth\":0,\"ticks\":\"\"},\"colorscale\":[[0.0,\"#0d0887\"],[0.1111111111111111,\"#46039f\"],[0.2222222222222222,\"#7201a8\"],[0.3333333333333333,\"#9c179e\"],[0.4444444444444444,\"#bd3786\"],[0.5555555555555556,\"#d8576b\"],[0.6666666666666666,\"#ed7953\"],[0.7777777777777778,\"#fb9f3a\"],[0.8888888888888888,\"#fdca26\"],[1.0,\"#f0f921\"]],\"type\":\"heatmap\"}],\"heatmapgl\":[{\"colorbar\":{\"outlinewidth\":0,\"ticks\":\"\"},\"colorscale\":[[0.0,\"#0d0887\"],[0.1111111111111111,\"#46039f\"],[0.2222222222222222,\"#7201a8\"],[0.3333333333333333,\"#9c179e\"],[0.4444444444444444,\"#bd3786\"],[0.5555555555555556,\"#d8576b\"],[0.6666666666666666,\"#ed7953\"],[0.7777777777777778,\"#fb9f3a\"],[0.8888888888888888,\"#fdca26\"],[1.0,\"#f0f921\"]],\"type\":\"heatmapgl\"}],\"histogram\":[{\"marker\":{\"pattern\":{\"fillmode\":\"overlay\",\"size\":10,\"solidity\":0.2}},\"type\":\"histogram\"}],\"histogram2d\":[{\"colorbar\":{\"outlinewidth\":0,\"ticks\":\"\"},\"colorscale\":[[0.0,\"#0d0887\"],[0.1111111111111111,\"#46039f\"],[0.2222222222222222,\"#7201a8\"],[0.3333333333333333,\"#9c179e\"],[0.4444444444444444,\"#bd3786\"],[0.5555555555555556,\"#d8576b\"],[0.6666666666666666,\"#ed7953\"],[0.7777777777777778,\"#fb9f3a\"],[0.8888888888888888,\"#fdca26\"],[1.0,\"#f0f921\"]],\"type\":\"histogram2d\"}],\"histogram2dcontour\":[{\"colorbar\":{\"outlinewidth\":0,\"ticks\":\"\"},\"colorscale\":[[0.0,\"#0d0887\"],[0.1111111111111111,\"#46039f\"],[0.2222222222222222,\"#7201a8\"],[0.3333333333333333,\"#9c179e\"],[0.4444444444444444,\"#bd3786\"],[0.5555555555555556,\"#d8576b\"],[0.6666666666666666,\"#ed7953\"],[0.7777777777777778,\"#fb9f3a\"],[0.8888888888888888,\"#fdca26\"],[1.0,\"#f0f921\"]],\"type\":\"histogram2dcontour\"}],\"mesh3d\":[{\"colorbar\":{\"outlinewidth\":0,\"ticks\":\"\"},\"type\":\"mesh3d\"}],\"parcoords\":[{\"line\":{\"colorbar\":{\"outlinewidth\":0,\"ticks\":\"\"}},\"type\":\"parcoords\"}],\"pie\":[{\"automargin\":true,\"type\":\"pie\"}],\"scatter\":[{\"marker\":{\"colorbar\":{\"outlinewidth\":0,\"ticks\":\"\"}},\"type\":\"scatter\"}],\"scatter3d\":[{\"line\":{\"colorbar\":{\"outlinewidth\":0,\"ticks\":\"\"}},\"marker\":{\"colorbar\":{\"outlinewidth\":0,\"ticks\":\"\"}},\"type\":\"scatter3d\"}],\"scattercarpet\":[{\"marker\":{\"colorbar\":{\"outlinewidth\":0,\"ticks\":\"\"}},\"type\":\"scattercarpet\"}],\"scattergeo\":[{\"marker\":{\"colorbar\":{\"outlinewidth\":0,\"ticks\":\"\"}},\"type\":\"scattergeo\"}],\"scattergl\":[{\"marker\":{\"colorbar\":{\"outlinewidth\":0,\"ticks\":\"\"}},\"type\":\"scattergl\"}],\"scattermapbox\":[{\"marker\":{\"colorbar\":{\"outlinewidth\":0,\"ticks\":\"\"}},\"type\":\"scattermapbox\"}],\"scatterpolar\":[{\"marker\":{\"colorbar\":{\"outlinewidth\":0,\"ticks\":\"\"}},\"type\":\"scatterpolar\"}],\"scatterpolargl\":[{\"marker\":{\"colorbar\":{\"outlinewidth\":0,\"ticks\":\"\"}},\"type\":\"scatterpolargl\"}],\"scatterternary\":[{\"marker\":{\"colorbar\":{\"outlinewidth\":0,\"ticks\":\"\"}},\"type\":\"scatterternary\"}],\"surface\":[{\"colorbar\":{\"outlinewidth\":0,\"ticks\":\"\"},\"colorscale\":[[0.0,\"#0d0887\"],[0.1111111111111111,\"#46039f\"],[0.2222222222222222,\"#7201a8\"],[0.3333333333333333,\"#9c179e\"],[0.4444444444444444,\"#bd3786\"],[0.5555555555555556,\"#d8576b\"],[0.6666666666666666,\"#ed7953\"],[0.7777777777777778,\"#fb9f3a\"],[0.8888888888888888,\"#fdca26\"],[1.0,\"#f0f921\"]],\"type\":\"surface\"}],\"table\":[{\"cells\":{\"fill\":{\"color\":\"#EBF0F8\"},\"line\":{\"color\":\"white\"}},\"header\":{\"fill\":{\"color\":\"#C8D4E3\"},\"line\":{\"color\":\"white\"}},\"type\":\"table\"}]},\"layout\":{\"annotationdefaults\":{\"arrowcolor\":\"#2a3f5f\",\"arrowhead\":0,\"arrowwidth\":1},\"autotypenumbers\":\"strict\",\"coloraxis\":{\"colorbar\":{\"outlinewidth\":0,\"ticks\":\"\"}},\"colorscale\":{\"diverging\":[[0,\"#8e0152\"],[0.1,\"#c51b7d\"],[0.2,\"#de77ae\"],[0.3,\"#f1b6da\"],[0.4,\"#fde0ef\"],[0.5,\"#f7f7f7\"],[0.6,\"#e6f5d0\"],[0.7,\"#b8e186\"],[0.8,\"#7fbc41\"],[0.9,\"#4d9221\"],[1,\"#276419\"]],\"sequential\":[[0.0,\"#0d0887\"],[0.1111111111111111,\"#46039f\"],[0.2222222222222222,\"#7201a8\"],[0.3333333333333333,\"#9c179e\"],[0.4444444444444444,\"#bd3786\"],[0.5555555555555556,\"#d8576b\"],[0.6666666666666666,\"#ed7953\"],[0.7777777777777778,\"#fb9f3a\"],[0.8888888888888888,\"#fdca26\"],[1.0,\"#f0f921\"]],\"sequentialminus\":[[0.0,\"#0d0887\"],[0.1111111111111111,\"#46039f\"],[0.2222222222222222,\"#7201a8\"],[0.3333333333333333,\"#9c179e\"],[0.4444444444444444,\"#bd3786\"],[0.5555555555555556,\"#d8576b\"],[0.6666666666666666,\"#ed7953\"],[0.7777777777777778,\"#fb9f3a\"],[0.8888888888888888,\"#fdca26\"],[1.0,\"#f0f921\"]]},\"colorway\":[\"#636efa\",\"#EF553B\",\"#00cc96\",\"#ab63fa\",\"#FFA15A\",\"#19d3f3\",\"#FF6692\",\"#B6E880\",\"#FF97FF\",\"#FECB52\"],\"font\":{\"color\":\"#2a3f5f\"},\"geo\":{\"bgcolor\":\"white\",\"lakecolor\":\"white\",\"landcolor\":\"white\",\"showlakes\":true,\"showland\":true,\"subunitcolor\":\"#C8D4E3\"},\"hoverlabel\":{\"align\":\"left\"},\"hovermode\":\"closest\",\"mapbox\":{\"style\":\"light\"},\"paper_bgcolor\":\"white\",\"plot_bgcolor\":\"white\",\"polar\":{\"angularaxis\":{\"gridcolor\":\"#EBF0F8\",\"linecolor\":\"#EBF0F8\",\"ticks\":\"\"},\"bgcolor\":\"white\",\"radialaxis\":{\"gridcolor\":\"#EBF0F8\",\"linecolor\":\"#EBF0F8\",\"ticks\":\"\"}},\"scene\":{\"xaxis\":{\"backgroundcolor\":\"white\",\"gridcolor\":\"#DFE8F3\",\"gridwidth\":2,\"linecolor\":\"#EBF0F8\",\"showbackground\":true,\"ticks\":\"\",\"zerolinecolor\":\"#EBF0F8\"},\"yaxis\":{\"backgroundcolor\":\"white\",\"gridcolor\":\"#DFE8F3\",\"gridwidth\":2,\"linecolor\":\"#EBF0F8\",\"showbackground\":true,\"ticks\":\"\",\"zerolinecolor\":\"#EBF0F8\"},\"zaxis\":{\"backgroundcolor\":\"white\",\"gridcolor\":\"#DFE8F3\",\"gridwidth\":2,\"linecolor\":\"#EBF0F8\",\"showbackground\":true,\"ticks\":\"\",\"zerolinecolor\":\"#EBF0F8\"}},\"shapedefaults\":{\"line\":{\"color\":\"#2a3f5f\"}},\"ternary\":{\"aaxis\":{\"gridcolor\":\"#DFE8F3\",\"linecolor\":\"#A2B1C6\",\"ticks\":\"\"},\"baxis\":{\"gridcolor\":\"#DFE8F3\",\"linecolor\":\"#A2B1C6\",\"ticks\":\"\"},\"bgcolor\":\"white\",\"caxis\":{\"gridcolor\":\"#DFE8F3\",\"linecolor\":\"#A2B1C6\",\"ticks\":\"\"}},\"title\":{\"x\":0.05},\"xaxis\":{\"automargin\":true,\"gridcolor\":\"#EBF0F8\",\"linecolor\":\"#EBF0F8\",\"ticks\":\"\",\"title\":{\"standoff\":15},\"zerolinecolor\":\"#EBF0F8\",\"zerolinewidth\":2},\"yaxis\":{\"automargin\":true,\"gridcolor\":\"#EBF0F8\",\"linecolor\":\"#EBF0F8\",\"ticks\":\"\",\"title\":{\"standoff\":15},\"zerolinecolor\":\"#EBF0F8\",\"zerolinewidth\":2}}},\"title\":{\"text\":\"[2021-08-02 12:52:53 PM] Episode: 2/2 Step: 151/200\"},\"xaxis\":{\"anchor\":\"y\",\"domain\":[0.0,1.0],\"gridcolor\":\"Gainsboro\",\"linecolor\":\"Grey\",\"matches\":\"x4\",\"rangeslider\":{\"visible\":false},\"showticklabels\":false,\"title\":{\"font\":{\"size\":12},\"standoff\":7,\"text\":\"Price\"}},\"xaxis2\":{\"anchor\":\"y2\",\"domain\":[0.0,1.0],\"gridcolor\":\"Gainsboro\",\"linecolor\":\"Grey\",\"matches\":\"x4\",\"showticklabels\":false,\"title\":{\"font\":{\"size\":12},\"standoff\":7,\"text\":\"Volume\"}},\"xaxis3\":{\"anchor\":\"y3\",\"domain\":[0.0,1.0],\"gridcolor\":\"Gainsboro\",\"linecolor\":\"Grey\",\"matches\":\"x4\",\"showticklabels\":false,\"title\":{\"font\":{\"size\":12},\"standoff\":7,\"text\":\"Performance\"}},\"xaxis4\":{\"anchor\":\"y4\",\"domain\":[0.0,1.0],\"gridcolor\":\"Gainsboro\",\"linecolor\":\"Grey\",\"title\":{\"font\":{\"size\":12},\"standoff\":7,\"text\":\"Net Worth\"}},\"yaxis\":{\"anchor\":\"x\",\"domain\":[0.49950000000000006,1.0],\"gridcolor\":\"Gainsboro\",\"linecolor\":\"Grey\"},\"yaxis2\":{\"anchor\":\"x2\",\"domain\":[0.333,0.46950000000000003],\"gridcolor\":\"Gainsboro\",\"linecolor\":\"Grey\"},\"yaxis3\":{\"anchor\":\"x3\",\"domain\":[0.1665,0.30300000000000005],\"gridcolor\":\"Gainsboro\",\"linecolor\":\"Grey\"},\"yaxis4\":{\"anchor\":\"x4\",\"domain\":[0.0,0.1365],\"gridcolor\":\"Gainsboro\",\"linecolor\":\"Grey\"}},                        {\"responsive\": true}                    ).then(function(){\n",
              "                            \n",
              "var gd = document.getElementById('95537754-67d9-47f9-ae5a-b98b17446e96');\n",
              "var x = new MutationObserver(function (mutations, observer) {{\n",
              "        var display = window.getComputedStyle(gd).display;\n",
              "        if (!display || display === 'none') {{\n",
              "            console.log([gd, 'removed!']);\n",
              "            Plotly.purge(gd);\n",
              "            observer.disconnect();\n",
              "        }}\n",
              "}});\n",
              "\n",
              "// Listen for the removal of the full notebook cells\n",
              "var notebookContainer = gd.closest('#notebook-container');\n",
              "if (notebookContainer) {{\n",
              "    x.observe(notebookContainer, {childList: true});\n",
              "}}\n",
              "\n",
              "// Listen for the clearing of the current output cell\n",
              "var outputEl = gd.closest('.output');\n",
              "if (outputEl) {{\n",
              "    x.observe(outputEl, {childList: true});\n",
              "}}\n",
              "\n",
              "                        })                };                            </script>        </div>\n",
              "</body>\n",
              "</html>"
            ]
          },
          "metadata": {
            "tags": []
          }
        },
        {
          "output_type": "display_data",
          "data": {
            "application/vnd.jupyter.widget-view+json": {
              "model_id": "4cd16ecb078d4abf824ff3e438e930c5",
              "version_minor": 0,
              "version_major": 2
            },
            "text/plain": [
              "FigureWidget({\n",
              "    'data': [{'close': array([8740.99, 8739.  , 8728.49, 8708.32, 8795.9 , 8760.  , 8760.  , 87…"
            ]
          },
          "metadata": {
            "tags": []
          }
        },
        {
          "output_type": "display_data",
          "data": {
            "text/html": [
              "<html>\n",
              "<head><meta charset=\"utf-8\" /></head>\n",
              "<body>\n",
              "    <div>            <script src=\"https://cdnjs.cloudflare.com/ajax/libs/mathjax/2.7.5/MathJax.js?config=TeX-AMS-MML_SVG\"></script><script type=\"text/javascript\">if (window.MathJax) {MathJax.Hub.Config({SVG: {font: \"STIX-Web\"}});}</script>                <script type=\"text/javascript\">window.PlotlyConfig = {MathJaxConfig: 'local'};</script>\n",
              "        <script src=\"https://cdn.plot.ly/plotly-2.2.0.min.js\"></script>                <div id=\"267d54d7-0d49-4af5-8ed6-cf7a499f5127\" class=\"plotly-graph-div\" style=\"height:525px; width:100%;\"></div>            <script type=\"text/javascript\">                                    window.PLOTLYENV=window.PLOTLYENV || {};                                    if (document.getElementById(\"267d54d7-0d49-4af5-8ed6-cf7a499f5127\")) {                    Plotly.newPlot(                        \"267d54d7-0d49-4af5-8ed6-cf7a499f5127\",                        [{\"close\":[8740.99,8739.0,8728.49,8708.32,8795.9,8760.0,8760.0,8759.23,8517.77,8520.3,8535.23,8546.34,8526.65,8555.6,8512.1,8492.28,8460.0,8474.99,8455.92,8326.28,8133.43,8164.79,8229.38,8220.4,8238.8,8232.99,8207.48,8243.45,8371.13,8373.0,8365.08,8179.99,8225.0,8285.8,8273.4,8297.4,8279.89,8252.72,8302.18,8295.85,8277.25,8346.59,8358.3,8375.1,8368.62,8366.72,8314.77,8363.7,8344.16,8247.4,8277.4,8291.67,8307.89,8298.9,8269.47,8300.98,8318.49,8306.39,8276.43,8257.69,8166.0,8176.33,8200.7,8155.41,8080.0,8067.03,7958.08,7974.25,7998.5,7991.99,8022.7,8042.97,7965.67,8088.95,8122.19,8107.99,8137.73,8115.0,8107.0,8094.4,8080.01,8117.09,8126.99,8110.95,8215.39,8231.42,8240.13,8235.0,8219.9,8248.87,8213.5,8200.99,8200.0,8237.3,8228.13,8240.83,8214.9,8170.07,8229.87,8205.87,8252.56,8365.0,8348.65,8303.99,8310.48,8310.0,8289.87,8304.99,8301.35,8313.12,8240.07,8199.99,8226.98,8231.2,8198.89,8215.85,8279.99,8255.08,8270.4,8244.24,8239.12,8267.14,8282.27,8350.62,8336.6,8336.91,8311.21,8312.09,8345.19,8377.2,8481.11,8516.36,8524.0,8517.04,8558.5,8521.99,8484.93,8518.48,8488.99,8466.72,8492.55,8494.28,8510.95,8498.64,8551.1,8524.22,8510.11,8475.62,8476.58,8467.13,8499.84,8490.42,8407.09,8409.42,8400.96,8383.14,8350.0,8373.01,8412.8,8385.57,8408.53,8391.76,8367.36,8280.24,8297.91,8333.99,8285.29,8280.0,8317.02,8320.16,8295.9,8245.47,8264.98,8200.0,8170.0,8217.0,8231.63,8232.8,8225.38,8200.01,8219.98,8187.98,8100.32,8076.99,7964.73,7984.08,7949.35,7900.61,7895.5,7960.0,7900.0,7921.99,7943.07,7856.37,7848.3,7852.68,7847.1,7849.31,7911.83,7901.01,7887.0],\"high\":[8796.68,8766.0,8750.27,8754.4,8865.0,8821.19,8798.6,8771.02,8761.7,8553.67,8589.1,8579.48,8555.51,8583.6,8569.92,8555.54,8557.51,8505.0,8505.33,8478.29,8339.81,8217.44,8252.72,8248.63,8267.12,8255.0,8261.24,8263.93,8455.66,8439.44,8399.1,8381.73,8229.91,8377.29,8329.1,8350.0,8346.95,8377.29,8311.35,8319.96,8398.24,8372.58,8399.99,8386.53,8400.0,8500.0,8381.0,8371.3,8382.41,8351.0,8292.99,8325.8,8318.99,8324.9,8335.56,8309.4,8377.29,8330.41,8328.23,8284.36,8274.83,8200.0,8232.14,8213.97,8155.41,8108.28,8068.92,8019.9,8026.66,8025.0,8104.69,8061.39,8045.99,8170.71,8144.16,8139.99,8152.99,8137.73,8143.72,8129.99,8106.76,8139.0,8152.04,8146.99,8232.14,8275.1,8256.12,8274.1,8255.8,8253.97,8261.09,8235.76,8227.0,8273.36,8264.21,8250.0,8250.86,8235.77,8232.12,8232.14,8252.72,8370.0,8395.0,8374.48,8331.0,8319.43,8323.4,8314.55,8330.62,8314.8,8323.99,8263.03,8247.78,8253.75,8237.89,8235.0,8279.99,8290.0,8278.71,8275.34,8279.31,8279.98,8294.04,8356.4,8374.94,8354.83,8360.45,8337.14,8351.97,8377.29,8549.0,8531.9,8551.79,8529.9,8590.0,8576.1,8549.89,8531.89,8550.0,8493.29,8522.98,8517.0,8537.29,8524.51,8589.1,8589.07,8536.92,8524.03,8497.8,8498.0,8513.5,8510.0,8494.7,8427.29,8419.03,8415.47,8389.99,8397.57,8455.0,8429.66,8412.61,8424.0,8417.65,8369.7,8326.5,8336.65,8333.99,8314.32,8355.97,8333.49,8325.6,8296.01,8264.98,8271.31,8200.0,8232.14,8246.0,8248.94,8259.95,8242.49,8232.04,8230.9,8205.0,8118.98,8103.07,8040.95,8032.01,7960.25,7920.0,7960.0,7960.0,7935.0,7960.99,7951.38,7888.92,7870.0,7909.75,7882.27,7949.27,7944.73,7916.48],\"low\":[8707.28,8721.11,8660.53,8701.35,8695.11,8740.54,8741.52,8700.0,8467.42,8477.89,8500.78,8500.0,8400.0,8451.05,8461.38,8481.24,8420.37,8450.0,8430.94,8275.02,8100.01,8122.56,8157.01,8166.25,8176.91,8213.79,8200.0,8207.48,8237.1,8370.0,8356.4,8145.1,8173.6,8211.8,8201.0,8250.9,8266.46,8252.72,8232.14,8268.37,8277.25,8277.25,8314.78,8314.77,8350.07,8331.39,8314.77,8275.45,8335.49,8191.14,8227.7,8264.13,8249.93,8269.52,8219.44,8262.68,8286.65,8289.87,8232.14,8232.14,8110.02,8154.95,8168.6,8151.0,7980.0,8005.95,7929.53,7931.03,7950.0,7980.58,7991.99,7992.75,7953.4,7965.67,8085.94,8078.48,8092.9,8049.22,8079.46,8062.12,8043.96,8063.1,8088.46,8094.43,8088.46,8191.14,8212.0,8224.5,8211.0,8211.01,8210.03,8158.27,8177.65,8179.41,8221.92,8217.32,8213.52,8141.08,8146.1,8186.03,8197.09,8231.21,8323.82,8296.0,8296.31,8282.65,8280.0,8273.36,8290.08,8277.93,8240.07,8191.14,8178.0,8193.7,8180.0,8170.71,8215.53,8240.02,8237.17,8237.17,8239.12,8227.79,8247.57,8274.24,8326.1,8320.61,8281.31,8269.85,8311.16,8336.11,8369.86,8471.51,8511.0,8476.66,8507.68,8509.24,8482.53,8484.93,8450.0,8434.47,8461.1,8481.0,8480.0,8488.1,8471.09,8509.2,8482.64,8469.0,8440.4,8440.52,8461.8,8480.0,8358.17,8380.73,8370.0,8383.12,8320.0,8349.17,8357.11,8370.58,8367.21,8376.99,8335.6,8252.72,8264.49,8282.59,8271.09,8261.52,8280.0,8297.0,8290.0,8220.0,8230.45,8180.0,8119.38,8170.0,8189.84,8210.76,8212.68,8200.0,8186.0,8161.77,8063.15,8050.01,7951.41,7964.73,7949.35,7861.32,7865.0,7886.48,7870.35,7885.2,7896.41,7811.62,7808.05,7808.0,7836.79,7801.02,7847.36,7883.0,7850.72],\"name\":\"Price\",\"open\":[8733.86,8740.99,8739.0,8728.49,8708.32,8795.9,8760.0,8760.0,8759.23,8517.77,8520.3,8535.23,8546.34,8526.65,8555.6,8512.1,8492.28,8460.0,8474.99,8455.92,8326.28,8133.43,8164.79,8229.38,8220.4,8238.8,8232.99,8207.48,8243.45,8371.13,8373.0,8365.08,8179.99,8225.0,8285.8,8273.4,8297.4,8279.89,8252.72,8302.18,8295.85,8277.25,8346.59,8358.3,8375.1,8368.62,8366.72,8314.77,8363.7,8344.16,8247.4,8277.4,8291.67,8307.89,8298.9,8269.47,8300.98,8318.49,8306.39,8276.43,8257.69,8166.0,8176.33,8200.7,8155.41,8080.0,8067.03,7958.08,7974.25,7998.5,7991.99,8022.7,8042.97,7965.67,8088.95,8122.19,8107.99,8137.73,8115.0,8107.0,8094.4,8080.01,8117.09,8126.99,8110.95,8215.39,8231.42,8240.13,8235.0,8219.9,8248.87,8213.5,8200.99,8200.0,8237.3,8228.13,8240.83,8214.9,8170.07,8229.87,8205.87,8252.56,8365.0,8348.65,8303.99,8310.48,8310.0,8289.87,8304.99,8301.35,8313.12,8240.07,8199.99,8226.98,8231.2,8198.89,8215.85,8279.99,8255.08,8270.4,8244.24,8239.12,8267.14,8282.27,8350.62,8336.6,8336.91,8311.21,8312.09,8345.19,8377.2,8481.11,8516.36,8524.0,8517.04,8558.5,8521.99,8484.93,8518.48,8488.99,8466.72,8492.55,8494.28,8510.95,8498.64,8551.1,8524.22,8510.11,8475.62,8476.58,8467.13,8499.84,8490.42,8407.09,8409.42,8400.96,8383.14,8350.0,8373.01,8412.8,8385.57,8408.53,8391.76,8367.36,8280.24,8297.91,8333.99,8285.29,8280.0,8317.02,8320.16,8295.9,8245.47,8264.98,8200.0,8170.0,8217.0,8231.63,8232.8,8225.38,8200.01,8219.98,8187.98,8100.32,8076.99,7964.73,7984.08,7949.35,7900.61,7895.5,7960.0,7900.0,7921.99,7943.07,7856.37,7848.3,7852.68,7847.1,7849.31,7911.83,7901.01],\"showlegend\":false,\"type\":\"candlestick\",\"uid\":\"b074e35e-1d88-471d-a273-05cdd3adfb9e\",\"xaxis\":\"x\",\"yaxis\":\"y\"},{\"marker\":{\"color\":\"DodgerBlue\"},\"name\":\"Volume\",\"showlegend\":false,\"type\":\"bar\",\"uid\":\"6310725c-c48d-4e23-81c1-e6eff15be8f1\",\"xaxis\":\"x2\",\"y\":[559.93,273.58,917.79,182.62,1260.69,324.11,324.2,730.67,1341.75,792.07,385.69,475.08,877.26,670.49,610.97,168.99,305.92,136.05,154.26,1070.93,1710.2,492.8,630.72,620.93,586.34,304.52,450.97,182.36,915.32,319.29,362.01,1046.38,357.91,561.2,322.53,1073.71,237.21,251.2,359.73,117.23,363.17,214.18,171.64,258.58,299.52,718.98,119.7,405.25,210.77,714.82,215.97,164.2,201.55,203.41,886.82,95.49,499.67,172.77,355.39,255.27,591.06,133.1,149.13,87.55,1061.54,286.94,524.42,316.0,441.43,189.7,844.94,155.34,257.56,610.69,217.97,173.18,218.06,372.97,484.39,248.1,162.35,303.42,290.69,160.93,369.4,487.27,93.35,96.68,72.14,90.22,168.52,203.15,71.42,464.56,57.0,89.42,49.47,200.05,254.37,65.05,118.19,452.4,181.03,288.04,145.78,110.14,55.48,80.87,67.01,59.16,121.26,244.37,156.87,80.48,139.32,93.52,200.23,97.4,68.08,47.0,36.65,28.75,182.85,400.18,288.1,182.94,777.81,493.59,118.63,174.37,901.75,222.45,113.8,84.2,261.44,168.78,111.07,122.12,267.32,210.39,211.36,146.22,93.39,89.04,307.59,307.2,164.24,151.21,399.77,362.01,260.85,232.32,1109.45,348.5,210.57,274.92,277.83,99.57,273.12,129.47,113.05,87.6,159.37,433.28,133.29,200.57,210.33,206.4,357.53,107.43,116.54,479.07,290.38,812.96,1542.87,430.36,312.54,132.75,333.64,205.86,120.33,263.1,457.64,451.55,962.22,381.04,386.95,905.87,453.48,542.31,476.48,341.79,654.23,769.1,719.94,523.05,409.37,255.12,551.86,340.62,488.69],\"yaxis\":\"y2\"},{\"mode\":\"lines\",\"name\":\"bitstamp:/USD-BTC\",\"type\":\"scatter\",\"uid\":\"e1821495-f603-4c3b-adf2-36bec84f46ac\",\"xaxis\":\"x3\",\"y\":[8740.99,8739.0,8728.49,8708.32,8795.9,8760.0,8760.0,8759.23,8517.77,8520.3,8535.23,8546.34,8526.65,8555.6,8512.1,8492.28,8460.0,8474.99,8455.92,8326.28,8133.43,8164.79,8229.38,8220.4,8238.8,8232.99,8207.48,8243.45,8371.13,8373.0,8365.08,8179.99,8225.0,8285.8,8273.4,8297.4,8279.89,8252.72,8302.18,8295.85,8277.25,8346.59,8358.3,8375.1,8368.62,8366.72,8314.77,8363.7,8344.16,8247.4,8277.4,8291.67,8307.89,8298.9,8269.47,8300.98,8318.49,8306.39,8276.43,8257.69,8166.0,8176.33,8200.7,8155.41,8080.0,8067.03,7958.08,7974.25,7998.5,7991.99,8022.7,8042.97,7965.67,8088.95,8122.19,8107.99,8137.73,8115.0,8107.0,8094.4,8080.01,8117.09,8126.99,8110.95,8215.39,8231.42,8240.13,8235.0,8219.9,8248.87,8213.5,8200.99,8200.0,8237.3,8228.13,8240.83,8214.9,8170.07,8229.87,8205.87,8252.56,8365.0,8348.65,8303.99,8310.48,8310.0,8289.87,8304.99,8301.35,8313.12,8240.07,8199.99,8226.98,8231.2,8198.89,8215.85,8279.99,8255.08,8270.4,8244.24,8239.12,8267.14,8282.27,8350.62,8336.6,8336.91,8311.21,8312.09,8345.19,8377.2,8481.11,8516.36,8524.0,8517.04,8558.5,8521.99,8484.93,8518.48,8488.99,8466.72,8492.55,8494.28,8510.95,8498.64,8551.1,8524.22,8510.11,8475.62,8476.58,8467.13,8499.84,8490.42,8407.09,8409.42,8400.96,8383.14,8350.0,8373.01,8412.8,8385.57,8408.53,8391.76,8367.36,8280.24,8297.91,8333.99,8285.29,8280.0,8317.02,8320.16,8295.9,8245.47,8264.98,8200.0,8170.0,8217.0,8231.63,8232.8,8225.38,8200.01,8219.98,8187.98,8100.32,8076.99,7964.73,7984.08,7949.35,7900.61,7895.5,7960.0,7900.0,7921.99,7943.07,7856.37,7848.3,7852.68,7847.1,7849.31,7911.83,7901.01,7887.0],\"yaxis\":\"y3\"},{\"mode\":\"lines\",\"name\":\"bitstamp:/USD:/free\",\"type\":\"scatter\",\"uid\":\"cfc8cb6d-4832-4bd2-93fc-72c2481ca6b4\",\"xaxis\":\"x3\",\"y\":[10000.0,10000.0,10000.0,10000.0,10000.0,2000.0,2000.0,2000.0,2000.0,2000.0,2000.0,2000.0,2000.0,2000.0,2000.0,0.0,0.0,0.0,0.0,0.0,1944.62,9297.78,7438.22,5206.75,5206.75,5206.75,5206.75,5206.75,3124.05,7275.49,7275.49,2182.65,0.0,0.0,0.0,0.0,0.0,0.0,0.0,0.0,0.0,0.0,0.0,0.0,0.0,0.0,0.0,0.0,0.0,0.0,0.0,0.0,0.0,0.0,0.0,0.0,0.0,0.0,0.0,0.0,0.0,0.0,0.0,0.0,0.0,0.0,0.0,6926.73,6926.73,6926.73,6926.73,6926.73,6926.73,6926.73,6926.73,6926.73,6926.73,6926.73,6926.73,6926.73,6926.73,6926.73,6926.73,6926.73,6926.73,6926.73,6926.73,6926.73,6926.73,6926.73,6926.73,6926.73,6926.73,6926.73,6926.73,6926.73,6926.73,2078.02,2078.02,2078.02,2078.02,2078.02,6985.74,6985.74,4890.02,4890.02,4890.02,4890.02,4890.02,4890.02,4890.02,4890.02,4890.02,4890.02,4890.02,4890.02,4890.02,4890.02,4890.02,4890.02,4890.02,4890.02,4890.02,4890.02,4890.02,4890.02,4890.02,4890.02,4890.02,4890.02,4890.02,9147.52,9147.52,9147.52,9147.52,9147.52,9147.52,9147.52,9147.52,9147.52,9147.52,9147.52,9147.52,9147.52,9147.52,9147.52,5488.51,5488.51,548.85,548.85,548.85,548.85,548.85,548.85,548.85,548.85,548.85,4111.6,4111.6,4111.6,4111.6,4111.6,4111.6,4111.6,4111.6,4111.6,4111.6,4111.6,4111.6,4111.6,4111.6,4111.6,4111.6,4111.6,4111.6,4111.6,4111.6,4111.6,4111.6,4111.6,4111.6,4111.6,4111.6,4111.6,4111.6,8725.7,8725.7,8725.7,8725.7,8725.7,8725.7,8725.7,8725.7,8725.7,8725.7,8725.7,8725.7,8725.7,8725.7,8725.7,8725.7],\"yaxis\":\"y3\"},{\"mode\":\"lines\",\"name\":\"bitstamp:/USD:/locked\",\"type\":\"scatter\",\"uid\":\"4fe50199-bde9-4951-810d-2de89e11cb6f\",\"xaxis\":\"x3\",\"y\":[0.0,0.0,0.0,0.0,0.0,0.0,0.0,0.0,0.0,0.0,0.0,0.0,0.0,0.0,0.0,0.0,0.0,0.0,0.0,0.0,0.0,0.0,0.0,0.0,0.0,0.0,0.0,0.0,0.0,0.0,0.0,0.0,0.0,0.0,0.0,0.0,0.0,0.0,0.0,0.0,0.0,0.0,0.0,0.0,0.0,0.0,0.0,0.0,0.0,0.0,0.0,0.0,0.0,0.0,0.0,0.0,0.0,0.0,0.0,0.0,0.0,0.0,0.0,0.0,0.0,0.0,0.0,0.0,0.0,0.0,0.0,0.0,0.0,0.0,0.0,0.0,0.0,0.0,0.0,0.0,0.0,0.0,0.0,0.0,0.0,0.0,0.0,0.0,0.0,0.0,0.0,0.0,0.0,0.0,0.0,0.0,0.0,0.0,0.0,0.0,0.0,0.0,0.0,0.0,0.0,0.0,0.0,0.0,0.0,0.0,0.0,0.0,0.0,0.0,0.0,0.0,0.0,0.0,0.0,0.0,0.0,0.0,0.0,0.0,0.0,0.0,0.0,0.0,0.0,0.0,0.0,0.0,0.0,0.0,0.0,0.0,0.0,0.0,0.0,0.0,0.0,0.0,0.0,0.0,0.0,0.0,0.0,0.0,0.0,0.0,0.0,0.0,0.0,0.0,0.0,0.0,0.0,0.0,0.0,0.0,0.0,0.0,0.0,0.0,0.0,0.0,0.0,0.0,0.0,0.0,0.0,0.0,0.0,0.0,0.0,0.0,0.0,0.0,0.0,0.0,0.0,0.0,0.0,0.0,0.0,0.0,0.0,0.0,0.0,0.0,0.0,0.0,0.0,0.0,0.0,0.0,0.0,0.0,0.0,0.0,0.0],\"yaxis\":\"y3\"},{\"mode\":\"lines\",\"name\":\"bitstamp:/USD:/total\",\"type\":\"scatter\",\"uid\":\"fb7d08c2-3958-4ce9-84d7-48e04e03b6a2\",\"xaxis\":\"x3\",\"y\":[10000.0,10000.0,10000.0,10000.0,10000.0,2000.0,2000.0,2000.0,2000.0,2000.0,2000.0,2000.0,2000.0,2000.0,2000.0,0.0,0.0,0.0,0.0,0.0,1944.62,9297.78,7438.22,5206.75,5206.75,5206.75,5206.75,5206.75,3124.05,7275.49,7275.49,2182.65,0.0,0.0,0.0,0.0,0.0,0.0,0.0,0.0,0.0,0.0,0.0,0.0,0.0,0.0,0.0,0.0,0.0,0.0,0.0,0.0,0.0,0.0,0.0,0.0,0.0,0.0,0.0,0.0,0.0,0.0,0.0,0.0,0.0,0.0,0.0,6926.73,6926.73,6926.73,6926.73,6926.73,6926.73,6926.73,6926.73,6926.73,6926.73,6926.73,6926.73,6926.73,6926.73,6926.73,6926.73,6926.73,6926.73,6926.73,6926.73,6926.73,6926.73,6926.73,6926.73,6926.73,6926.73,6926.73,6926.73,6926.73,6926.73,2078.02,2078.02,2078.02,2078.02,2078.02,6985.74,6985.74,4890.02,4890.02,4890.02,4890.02,4890.02,4890.02,4890.02,4890.02,4890.02,4890.02,4890.02,4890.02,4890.02,4890.02,4890.02,4890.02,4890.02,4890.02,4890.02,4890.02,4890.02,4890.02,4890.02,4890.02,4890.02,4890.02,4890.02,9147.52,9147.52,9147.52,9147.52,9147.52,9147.52,9147.52,9147.52,9147.52,9147.52,9147.52,9147.52,9147.52,9147.52,9147.52,5488.51,5488.51,548.85,548.85,548.85,548.85,548.85,548.85,548.85,548.85,548.85,4111.6,4111.6,4111.6,4111.6,4111.6,4111.6,4111.6,4111.6,4111.6,4111.6,4111.6,4111.6,4111.6,4111.6,4111.6,4111.6,4111.6,4111.6,4111.6,4111.6,4111.6,4111.6,4111.6,4111.6,4111.6,4111.6,4111.6,4111.6,8725.7,8725.7,8725.7,8725.7,8725.7,8725.7,8725.7,8725.7,8725.7,8725.7,8725.7,8725.7,8725.7,8725.7,8725.7,8725.7],\"yaxis\":\"y3\"},{\"mode\":\"lines\",\"name\":\"bitstamp:/BTC:/free\",\"type\":\"scatter\",\"uid\":\"4e8f59db-2d21-45cc-9a7f-cd3f89b13613\",\"xaxis\":\"x3\",\"y\":[10.0,10.0,10.0,10.0,10.0,10.0,10.0,10.0,10.0,10.0,10.0,10.0,10.0,10.0,10.0,10.0,10.0,10.0,10.0,10.0,10.0,10.0,10.0,10.0,10.0,10.0,10.0,10.0,10.0,10.0,10.0,10.0,10.0,10.0,10.0,10.0,10.0,10.0,10.0,10.0,10.0,10.0,10.0,10.0,10.0,10.0,10.0,10.0,10.0,10.0,10.0,10.0,10.0,10.0,10.0,10.0,10.0,10.0,10.0,10.0,10.0,10.0,10.0,10.0,10.0,10.0,10.0,10.0,10.0,10.0,10.0,10.0,10.0,10.0,10.0,10.0,10.0,10.0,10.0,10.0,10.0,10.0,10.0,10.0,10.0,10.0,10.0,10.0,10.0,10.0,10.0,10.0,10.0,10.0,10.0,10.0,10.0,10.0,10.0,10.0,10.0,10.0,10.0,10.0,10.0,10.0,10.0,10.0,10.0,10.0,10.0,10.0,10.0,10.0,10.0,10.0,10.0,10.0,10.0,10.0,10.0,10.0,10.0,10.0,10.0,10.0,10.0,10.0,10.0,10.0,10.0,10.0,10.0,10.0,10.0,10.0,10.0,10.0,10.0,10.0,10.0,10.0,10.0,10.0,10.0,10.0,10.0,10.0,10.0,10.0,10.0,10.0,10.0,10.0,10.0,10.0,10.0,10.0,10.0,10.0,10.0,10.0,10.0,10.0,10.0,10.0,10.0,10.0,10.0,10.0,10.0,10.0,10.0,10.0,10.0,10.0,10.0,10.0,10.0,10.0,10.0,10.0,10.0,10.0,10.0,10.0,10.0,10.0,10.0,10.0,10.0,10.0,10.0,10.0,10.0,10.0,10.0,10.0,10.0,10.0,10.0],\"yaxis\":\"y3\"},{\"mode\":\"lines\",\"name\":\"bitstamp:/BTC:/locked\",\"type\":\"scatter\",\"uid\":\"394cf790-ae62-4be8-9a6d-fa0eed31b647\",\"xaxis\":\"x3\",\"y\":[0.0,0.0,0.0,0.0,0.0,0.90678612,0.90678612,0.90678612,0.90678612,0.90678612,0.90678612,0.90678612,0.90678612,0.90678612,0.90678612,1.14104089,1.14104089,1.14104089,1.14104089,1.14104089,0.90678612,0.0,0.22707014,0.49741614,0.49741614,0.49741614,0.49741614,0.49741614,0.74930704,0.2518909,0.2518909,0.85888569,1.12491291,1.12491291,1.12491291,1.12491291,1.12491291,1.12491291,1.12491291,1.12491291,1.12491291,1.12491291,1.12491291,1.12491291,1.12491291,1.12491291,1.12491291,1.12491291,1.12491291,1.12491291,1.12491291,1.12491291,1.12491291,1.12491291,1.12491291,1.12491291,1.12491291,1.12491291,1.12491291,1.12491291,1.12491291,1.12491291,1.12491291,1.12491291,1.12491291,1.12491291,1.12491291,0.2518909,0.2518909,0.2518909,0.2518909,0.2518909,0.2518909,0.2518909,0.2518909,0.2518909,0.2518909,0.2518909,0.2518909,0.2518909,0.2518909,0.2518909,0.2518909,0.2518909,0.2518909,0.2518909,0.2518909,0.2518909,0.2518909,0.2518909,0.2518909,0.2518909,0.2518909,0.2518909,0.2518909,0.2518909,0.2518909,0.84035333,0.84035333,0.84035333,0.84035333,0.84035333,0.2518909,0.2518909,0.5035085,0.5035085,0.5035085,0.5035085,0.5035085,0.5035085,0.5035085,0.5035085,0.5035085,0.5035085,0.5035085,0.5035085,0.5035085,0.5035085,0.5035085,0.5035085,0.5035085,0.5035085,0.5035085,0.5035085,0.5035085,0.5035085,0.5035085,0.5035085,0.5035085,0.5035085,0.5035085,0.0,0.0,0.0,0.0,0.0,0.0,0.0,0.0,0.0,0.0,0.0,0.0,0.0,0.0,0.0,0.42796056,0.42796056,1.00902012,1.00902012,1.00902012,1.00902012,1.00902012,1.00902012,1.00902012,1.00902012,1.00902012,0.58105956,0.58105956,0.58105956,0.58105956,0.58105956,0.58105956,0.58105956,0.58105956,0.58105956,0.58105956,0.58105956,0.58105956,0.58105956,0.58105956,0.58105956,0.58105956,0.58105956,0.58105956,0.58105956,0.58105956,0.58105956,0.58105956,0.58105956,0.58105956,0.58105956,0.58105956,0.58105956,0.58105956,0.0,0.0,0.0,0.0,0.0,0.0,0.0,0.0,0.0,0.0,0.0,0.0,0.0,0.0,0.0,0.0],\"yaxis\":\"y3\"},{\"mode\":\"lines\",\"name\":\"bitstamp:/BTC:/total\",\"type\":\"scatter\",\"uid\":\"97092c0a-1181-41cb-b6ff-814c735c5002\",\"xaxis\":\"x3\",\"y\":[10.0,10.0,10.0,10.0,10.0,10.90678612,10.90678612,10.90678612,10.90678612,10.90678612,10.90678612,10.90678612,10.90678612,10.90678612,10.90678612,11.14104089,11.14104089,11.14104089,11.14104089,11.14104089,10.90678612,10.0,10.22707014,10.49741614,10.49741614,10.49741614,10.49741614,10.49741614,10.74930704,10.2518909,10.2518909,10.85888569,11.12491291,11.12491291,11.12491291,11.12491291,11.12491291,11.12491291,11.12491291,11.12491291,11.12491291,11.12491291,11.12491291,11.12491291,11.12491291,11.12491291,11.12491291,11.12491291,11.12491291,11.12491291,11.12491291,11.12491291,11.12491291,11.12491291,11.12491291,11.12491291,11.12491291,11.12491291,11.12491291,11.12491291,11.12491291,11.12491291,11.12491291,11.12491291,11.12491291,11.12491291,11.12491291,10.2518909,10.2518909,10.2518909,10.2518909,10.2518909,10.2518909,10.2518909,10.2518909,10.2518909,10.2518909,10.2518909,10.2518909,10.2518909,10.2518909,10.2518909,10.2518909,10.2518909,10.2518909,10.2518909,10.2518909,10.2518909,10.2518909,10.2518909,10.2518909,10.2518909,10.2518909,10.2518909,10.2518909,10.2518909,10.2518909,10.84035333,10.84035333,10.84035333,10.84035333,10.84035333,10.2518909,10.2518909,10.5035085,10.5035085,10.5035085,10.5035085,10.5035085,10.5035085,10.5035085,10.5035085,10.5035085,10.5035085,10.5035085,10.5035085,10.5035085,10.5035085,10.5035085,10.5035085,10.5035085,10.5035085,10.5035085,10.5035085,10.5035085,10.5035085,10.5035085,10.5035085,10.5035085,10.5035085,10.5035085,10.0,10.0,10.0,10.0,10.0,10.0,10.0,10.0,10.0,10.0,10.0,10.0,10.0,10.0,10.0,10.42796056,10.42796056,11.00902012,11.00902012,11.00902012,11.00902012,11.00902012,11.00902012,11.00902012,11.00902012,11.00902012,10.58105956,10.58105956,10.58105956,10.58105956,10.58105956,10.58105956,10.58105956,10.58105956,10.58105956,10.58105956,10.58105956,10.58105956,10.58105956,10.58105956,10.58105956,10.58105956,10.58105956,10.58105956,10.58105956,10.58105956,10.58105956,10.58105956,10.58105956,10.58105956,10.58105956,10.58105956,10.58105956,10.58105956,10.0,10.0,10.0,10.0,10.0,10.0,10.0,10.0,10.0,10.0,10.0,10.0,10.0,10.0,10.0,10.0],\"yaxis\":\"y3\"},{\"mode\":\"lines\",\"name\":\"bitstamp:/BTC:/worth\",\"type\":\"scatter\",\"uid\":\"ad9504a4-7747-4a51-b140-9ddac3c900c1\",\"xaxis\":\"x3\",\"y\":[87409.9,87390.0,87284.9,87083.2,87959.0,95543.4464112,95543.4464112,95535.04818588759,92901.4956093524,92929.08977823598,93091.92809500759,93213.1024888008,92998.34787009799,93314.099328272,92839.654132052,94612.8387293292,94253.20592939999,94420.21013234109,94207.7504825688,92763.4259415892,88709.5814319916,81647.9,84162.4464687132,86292.959637256,86486.112094232,86425.1221064586,86157.3330207272,86534.92507928301,89983.84664175518,85839.08250569999,85757.887529772,88825.57635534309,91502.40868475,92178.803389678,92040.854469594,92307.852379434,92113.0551543799,91810.7912706152,92361.02946314382,92290.60876442351,92083.68538429751,92855.08684547691,92985.359575653,93172.258112541,93100.16867688422,93079.0313423552,92501.09211668071,93045.43410536702,92828.05330710561,91751.60673393401,92085.354121234,92244.1066284597,92424.5527158599,92324.539748799,91997.1335618577,92347.67956765181,92542.4767927059,92407.8653464949,92074.56295571131,91866.08208777792,90846.03882306001,90960.95917342031,91232.07330103702,90728.2259953431,89889.29631280001,89745.00619235731,88532.9469308128,81751.141009325,81999.74936365,81933.009553891,82247.84512342999,82455.650951973,81663.179785403,82927.03289555499,83267.80574907099,83122.228898291,83427.120133657,83194.0946535,83112.07952629999,82982.90570096,82835.38099090899,83215.52110548099,83317.01482539099,83152.57449535499,84223.28198095098,84387.619792078,84476.91376181699,84424.3215615,84269.51800890999,84566.515288283,84203.90590715,84075.654751991,84065.50537999999,84447.90091056998,84353.89107101699,84484.090085447,84218.25855440999,88566.4455308331,89214.6986599671,88954.5301800471,89460.6662770248,90679.55560544999,85589.448962285,85131.599514691,87289.19731908,87284.155635,87072.72000889502,87231.533057415,87193.300286475,87316.92658152002,86549.645285595,86128.664664915,86412.15435933,86456.47916520001,86117.110805565,86295.25030972502,86968.945344915,86707.30294818,86868.2166984,86593.44491604,86539.66695252001,86833.97526069,86992.89334429501,87710.80815027001,87563.54896110001,87566.805048735,87296.864880285,87306.10796776501,87653.774099115,87989.99140620002,89081.41097443501,85163.6,85240.0,85170.40000000001,85585.0,85219.9,84849.3,85184.79999999999,84889.9,84667.2,84925.5,84942.8,85109.5,84986.4,85511.0,85242.2,88743.09144126161,88383.43108154721,93318.8397687896,93214.8045286556,93574.9095767808,93471.2046072504,92553.82296065081,92579.4739775304,92486.3376673152,92290.15692877679,91925.318002,88595.3175064756,89016.33786636799,88728.21561454919,88971.1567420468,88793.7123732256,88535.5345199616,87613.7126110944,87800.6799335196,88182.44456244439,87667.14696187241,87611.1731568,88002.8839817112,88036.1085087296,87779.412003804,87245.8091701932,87452.2456422088,86764.688392,86447.2566052,86944.56640452,87099.36730588278,87111.74714556799,87033.2356836328,86764.7942025956,86976.09796200879,86637.5040560888,85709.9683750592,85463.1122555244,84275.2825093188,79840.8,79493.5,79006.09999999999,78955.0,79600.0,79000.0,79219.9,79430.7,78563.7,78483.0,78526.8,78471.0,78493.1,79118.3,79010.1,78870.0],\"yaxis\":\"y3\"},{\"mode\":\"lines\",\"name\":\"net_worth\",\"type\":\"scatter\",\"uid\":\"860ec2ed-9bc8-4908-a89c-1ff2e3aef539\",\"xaxis\":\"x3\",\"y\":[97409.9,97390.0,97284.9,97083.2,97959.0,97543.4464112,97543.4464112,97535.04818588759,94901.4956093524,94929.08977823598,95091.92809500759,95213.1024888008,94998.34787009799,95314.099328272,94839.654132052,94612.8387293292,94253.20592939999,94420.21013234109,94207.7504825688,92763.4259415892,90654.20143199159,90945.68,91600.6664687132,91499.709637256,91692.862094232,91631.8721064586,91364.0830207272,91741.67507928301,93107.89664175519,93114.5725057,93033.377529772,91008.22635534308,91502.40868475,92178.803389678,92040.854469594,92307.852379434,92113.0551543799,91810.7912706152,92361.02946314382,92290.60876442351,92083.68538429751,92855.08684547691,92985.359575653,93172.258112541,93100.16867688422,93079.0313423552,92501.09211668071,93045.43410536702,92828.05330710561,91751.60673393401,92085.354121234,92244.1066284597,92424.5527158599,92324.539748799,91997.1335618577,92347.67956765181,92542.4767927059,92407.8653464949,92074.56295571131,91866.08208777792,90846.03882306001,90960.95917342031,91232.07330103702,90728.2259953431,89889.29631280001,89745.00619235731,88532.9469308128,88677.871009325,88926.47936365,88859.73955389099,89174.57512342998,89382.380951973,88589.909785403,89853.76289555499,90194.53574907099,90048.95889829099,90353.85013365699,90120.82465349999,90038.80952629999,89909.63570095999,89762.11099090899,90142.25110548099,90243.74482539098,90079.30449535498,91150.01198095098,91314.34979207799,91403.64376181699,91351.05156149999,91196.24800890998,91493.245288283,91130.63590714999,91002.38475199099,90992.23537999998,91374.63091056998,91280.62107101698,91410.82008544699,91144.98855440998,90644.4655308331,91292.71865996711,91032.55018004711,91538.6862770248,92757.57560545,92575.188962285,92117.339514691,92179.21731908001,92174.175635,91962.74000889502,92121.553057415,92083.320286475,92206.94658152002,91439.66528559501,91018.68466491501,91302.17435933,91346.49916520002,91007.130805565,91185.27030972502,91858.965344915,91597.32294818001,91758.23669840001,91483.46491604,91429.68695252002,91723.99526069,91882.91334429501,92600.82815027001,92453.56896110001,92456.825048735,92186.884880285,92196.12796776502,92543.79409911501,92880.01140620002,93971.43097443502,94311.12000000001,94387.52,94317.92000000001,94732.52,94367.42,93996.82,94332.31999999999,94037.42,93814.72,94073.02,94090.32,94257.02,94133.92,94658.52,94389.72,94231.6014412616,93871.94108154721,93867.68976878961,93763.6545286556,94123.75957678081,94020.05460725041,93102.67296065082,93128.32397753041,93035.1876673152,92839.0069287768,92474.168002,92706.91750647561,93127.937866368,92839.8156145492,93082.75674204681,92905.3123732256,92647.1345199616,91725.3126110944,91912.2799335196,92294.0445624444,91778.74696187241,91722.7731568,92114.48398171121,92147.7085087296,91891.012003804,91357.4091701932,91563.8456422088,90876.288392,90558.85660520001,91056.16640452,91210.96730588279,91223.347145568,91144.8356836328,90876.3942025956,91087.6979620088,90749.1040560888,89821.5683750592,89574.7122555244,88386.8825093188,88566.5,88219.2,87731.79999999999,87680.7,88325.7,87725.7,87945.59999999999,88156.4,87289.4,87208.7,87252.5,87196.7,87218.8,87844.0,87735.8,87595.7],\"yaxis\":\"y3\"},{\"marker\":{\"color\":\"DarkGreen\"},\"mode\":\"lines\",\"name\":\"Net Worth\",\"type\":\"scatter\",\"uid\":\"76ab2fe2-a80c-488c-a9e4-75f0f9adbd7f\",\"xaxis\":\"x4\",\"y\":[97409.9,97390.0,97284.9,97083.2,97959.0,97543.4464112,97543.4464112,97535.04818588759,94901.4956093524,94929.08977823598,95091.92809500759,95213.1024888008,94998.34787009799,95314.099328272,94839.654132052,94612.8387293292,94253.20592939999,94420.21013234109,94207.7504825688,92763.4259415892,90654.20143199159,90945.68,91600.6664687132,91499.709637256,91692.862094232,91631.8721064586,91364.0830207272,91741.67507928301,93107.89664175519,93114.5725057,93033.377529772,91008.22635534308,91502.40868475,92178.803389678,92040.854469594,92307.852379434,92113.0551543799,91810.7912706152,92361.02946314382,92290.60876442351,92083.68538429751,92855.08684547691,92985.359575653,93172.258112541,93100.16867688422,93079.0313423552,92501.09211668071,93045.43410536702,92828.05330710561,91751.60673393401,92085.354121234,92244.1066284597,92424.5527158599,92324.539748799,91997.1335618577,92347.67956765181,92542.4767927059,92407.8653464949,92074.56295571131,91866.08208777792,90846.03882306001,90960.95917342031,91232.07330103702,90728.2259953431,89889.29631280001,89745.00619235731,88532.9469308128,88677.871009325,88926.47936365,88859.73955389099,89174.57512342998,89382.380951973,88589.909785403,89853.76289555499,90194.53574907099,90048.95889829099,90353.85013365699,90120.82465349999,90038.80952629999,89909.63570095999,89762.11099090899,90142.25110548099,90243.74482539098,90079.30449535498,91150.01198095098,91314.34979207799,91403.64376181699,91351.05156149999,91196.24800890998,91493.245288283,91130.63590714999,91002.38475199099,90992.23537999998,91374.63091056998,91280.62107101698,91410.82008544699,91144.98855440998,90644.4655308331,91292.71865996711,91032.55018004711,91538.6862770248,92757.57560545,92575.188962285,92117.339514691,92179.21731908001,92174.175635,91962.74000889502,92121.553057415,92083.320286475,92206.94658152002,91439.66528559501,91018.68466491501,91302.17435933,91346.49916520002,91007.130805565,91185.27030972502,91858.965344915,91597.32294818001,91758.23669840001,91483.46491604,91429.68695252002,91723.99526069,91882.91334429501,92600.82815027001,92453.56896110001,92456.825048735,92186.884880285,92196.12796776502,92543.79409911501,92880.01140620002,93971.43097443502,94311.12000000001,94387.52,94317.92000000001,94732.52,94367.42,93996.82,94332.31999999999,94037.42,93814.72,94073.02,94090.32,94257.02,94133.92,94658.52,94389.72,94231.6014412616,93871.94108154721,93867.68976878961,93763.6545286556,94123.75957678081,94020.05460725041,93102.67296065082,93128.32397753041,93035.1876673152,92839.0069287768,92474.168002,92706.91750647561,93127.937866368,92839.8156145492,93082.75674204681,92905.3123732256,92647.1345199616,91725.3126110944,91912.2799335196,92294.0445624444,91778.74696187241,91722.7731568,92114.48398171121,92147.7085087296,91891.012003804,91357.4091701932,91563.8456422088,90876.288392,90558.85660520001,91056.16640452,91210.96730588279,91223.347145568,91144.8356836328,90876.3942025956,91087.6979620088,90749.1040560888,89821.5683750592,89574.7122555244,88386.8825093188,88566.5,88219.2,87731.79999999999,87680.7,88325.7,87725.7,87945.59999999999,88156.4,87289.4,87208.7,87252.5,87196.7,87218.8,87844.0,87735.8,87595.7],\"yaxis\":\"y4\"}],                        {\"annotations\":[{\"arrowcolor\":\"DarkGreen\",\"arrowhead\":2,\"arrowsize\":0.8,\"arrowwidth\":4,\"ax\":0,\"ay\":15,\"hoverlabel\":{\"bgcolor\":\"DarkGreen\"},\"hovertext\":\"Step 32 [2018-05-16 13:00:00]<br>BUY 0.26602722 BTC @ 8179.99 USD MARKET<br>Total: 2176.1 USD - Comm.: 6.55 USD\",\"opacity\":0.6,\"showarrow\":true,\"x\":31,\"xref\":\"x\",\"y\":8179.99,\"yref\":\"y\"},{\"arrowcolor\":\"DarkGreen\",\"arrowhead\":2,\"arrowsize\":0.8,\"arrowwidth\":4,\"ax\":0,\"ay\":15,\"hoverlabel\":{\"bgcolor\":\"DarkGreen\"},\"hovertext\":\"Step 31 [2018-05-16 12:00:00]<br>BUY 0.60699479 BTC @ 8365.08 USD MARKET<br>Total: 5077.56 USD - Comm.: 15.28 USD\",\"opacity\":0.6,\"showarrow\":true,\"x\":30,\"xref\":\"x\",\"y\":8365.08,\"yref\":\"y\"},{\"arrowcolor\":\"FireBrick\",\"arrowhead\":2,\"arrowsize\":0.8,\"arrowwidth\":4,\"ax\":0,\"ay\":-15,\"hoverlabel\":{\"bgcolor\":\"FireBrick\"},\"hovertext\":\"Step 29 [2018-05-16 10:00:00]<br>SELL 0.26953496 BTC @ 8371.13 USD MARKET<br>Total: 2256.31 USD - Comm.: 0.00081104 BTC\",\"opacity\":0.6,\"showarrow\":true,\"x\":28,\"xref\":\"x\",\"y\":8371.13,\"yref\":\"y\"},{\"arrowcolor\":\"FireBrick\",\"arrowhead\":2,\"arrowsize\":0.8,\"arrowwidth\":4,\"ax\":0,\"ay\":-15,\"hoverlabel\":{\"bgcolor\":\"FireBrick\"},\"hovertext\":\"Step 29 [2018-05-16 10:00:00]<br>SELL 0.22638893 BTC @ 8371.13 USD MARKET<br>Total: 1895.13 USD - Comm.: 0.00068121 BTC\",\"opacity\":0.6,\"showarrow\":true,\"x\":28,\"xref\":\"x\",\"y\":8371.13,\"yref\":\"y\"},{\"arrowcolor\":\"DarkGreen\",\"arrowhead\":2,\"arrowsize\":0.8,\"arrowwidth\":4,\"ax\":0,\"ay\":15,\"hoverlabel\":{\"bgcolor\":\"DarkGreen\"},\"hovertext\":\"Step 28 [2018-05-16 09:00:00]<br>BUY 0.2518909 BTC @ 8243.45 USD MARKET<br>Total: 2076.45 USD - Comm.: 6.25 USD\",\"opacity\":0.6,\"showarrow\":true,\"x\":27,\"xref\":\"x\",\"y\":8243.45,\"yref\":\"y\"},{\"arrowcolor\":\"DarkGreen\",\"arrowhead\":2,\"arrowsize\":0.8,\"arrowwidth\":4,\"ax\":0,\"ay\":15,\"hoverlabel\":{\"bgcolor\":\"DarkGreen\"},\"hovertext\":\"Step 23 [2018-05-16 04:00:00]<br>BUY 0.270346 BTC @ 8229.38 USD MARKET<br>Total: 2224.78 USD - Comm.: 6.69 USD\",\"opacity\":0.6,\"showarrow\":true,\"x\":22,\"xref\":\"x\",\"y\":8229.38,\"yref\":\"y\"},{\"arrowcolor\":\"DarkGreen\",\"arrowhead\":2,\"arrowsize\":0.8,\"arrowwidth\":4,\"ax\":0,\"ay\":15,\"hoverlabel\":{\"bgcolor\":\"DarkGreen\"},\"hovertext\":\"Step 22 [2018-05-16 03:00:00]<br>BUY 0.22707014 BTC @ 8164.79 USD MARKET<br>Total: 1853.98 USD - Comm.: 5.58 USD\",\"opacity\":0.6,\"showarrow\":true,\"x\":21,\"xref\":\"x\",\"y\":8164.79,\"yref\":\"y\"},{\"arrowcolor\":\"FireBrick\",\"arrowhead\":2,\"arrowsize\":0.8,\"arrowwidth\":4,\"ax\":0,\"ay\":-15,\"hoverlabel\":{\"bgcolor\":\"FireBrick\"},\"hovertext\":\"Step 21 [2018-05-16 02:00:00]<br>SELL 0.90406576 BTC @ 8133.43 USD MARKET<br>Total: 7353.16 USD - Comm.: 0.00272036 BTC\",\"opacity\":0.6,\"showarrow\":true,\"x\":20,\"xref\":\"x\",\"y\":8133.43,\"yref\":\"y\"},{\"arrowcolor\":\"FireBrick\",\"arrowhead\":2,\"arrowsize\":0.8,\"arrowwidth\":4,\"ax\":0,\"ay\":-15,\"hoverlabel\":{\"bgcolor\":\"FireBrick\"},\"hovertext\":\"Step 20 [2018-05-16 01:00:00]<br>SELL 0.23355201 BTC @ 8326.28 USD MARKET<br>Total: 1944.62 USD - Comm.: 0.00070276 BTC\",\"opacity\":0.6,\"showarrow\":true,\"x\":19,\"xref\":\"x\",\"y\":8326.28,\"yref\":\"y\"},{\"arrowcolor\":\"DarkGreen\",\"arrowhead\":2,\"arrowsize\":0.8,\"arrowwidth\":4,\"ax\":0,\"ay\":15,\"hoverlabel\":{\"bgcolor\":\"DarkGreen\"},\"hovertext\":\"Step 15 [2018-05-15 20:00:00]<br>BUY 0.23425477 BTC @ 8512.1 USD MARKET<br>Total: 1994.0 USD - Comm.: 6.00 USD\",\"opacity\":0.6,\"showarrow\":true,\"x\":14,\"xref\":\"x\",\"y\":8512.1,\"yref\":\"y\"},{\"arrowcolor\":\"DarkGreen\",\"arrowhead\":2,\"arrowsize\":0.8,\"arrowwidth\":4,\"ax\":0,\"ay\":15,\"hoverlabel\":{\"bgcolor\":\"DarkGreen\"},\"hovertext\":\"Step 5 [2018-05-15 10:00:00]<br>BUY 0.90678612 BTC @ 8795.9 USD MARKET<br>Total: 7976.0 USD - Comm.: 24.00 USD\",\"opacity\":0.6,\"showarrow\":true,\"x\":4,\"xref\":\"x\",\"y\":8795.9,\"yref\":\"y\"},{\"arrowcolor\":\"DarkGreen\",\"arrowhead\":2,\"arrowsize\":0.8,\"arrowwidth\":4,\"ax\":0,\"ay\":15,\"hoverlabel\":{\"bgcolor\":\"DarkGreen\"},\"hovertext\":\"Step 97 [2018-05-19 06:00:00]<br>BUY 0.58846243 BTC @ 8214.9 USD MARKET<br>Total: 4834.16 USD - Comm.: 14.55 USD\",\"opacity\":0.6,\"showarrow\":true,\"x\":96,\"xref\":\"x\",\"y\":8214.9,\"yref\":\"y\"},{\"arrowcolor\":\"FireBrick\",\"arrowhead\":2,\"arrowsize\":0.8,\"arrowwidth\":4,\"ax\":0,\"ay\":-15,\"hoverlabel\":{\"bgcolor\":\"FireBrick\"},\"hovertext\":\"Step 67 [2018-05-18 00:00:00]<br>SELL 0.26522914 BTC @ 7958.08 USD MARKET<br>Total: 2110.71 USD - Comm.: 0.00079808 BTC\",\"opacity\":0.6,\"showarrow\":true,\"x\":66,\"xref\":\"x\",\"y\":7958.08,\"yref\":\"y\"},{\"arrowcolor\":\"FireBrick\",\"arrowhead\":2,\"arrowsize\":0.8,\"arrowwidth\":4,\"ax\":0,\"ay\":-15,\"hoverlabel\":{\"bgcolor\":\"FireBrick\"},\"hovertext\":\"Step 67 [2018-05-18 00:00:00]<br>SELL 0.60517381 BTC @ 7958.08 USD MARKET<br>Total: 4816.02 USD - Comm.: 0.00182098 BTC\",\"opacity\":0.6,\"showarrow\":true,\"x\":66,\"xref\":\"x\",\"y\":7958.08,\"yref\":\"y\"},{\"arrowcolor\":\"DarkGreen\",\"arrowhead\":2,\"arrowsize\":0.8,\"arrowwidth\":4,\"ax\":0,\"ay\":15,\"hoverlabel\":{\"bgcolor\":\"DarkGreen\"},\"hovertext\":\"Step 148 [2018-05-21 09:00:00]<br>BUY 0.58105956 BTC @ 8475.62 USD MARKET<br>Total: 4924.84 USD - Comm.: 14.82 USD\",\"opacity\":0.6,\"showarrow\":true,\"x\":147,\"xref\":\"x\",\"y\":8475.62,\"yref\":\"y\"},{\"arrowcolor\":\"DarkGreen\",\"arrowhead\":2,\"arrowsize\":0.8,\"arrowwidth\":4,\"ax\":0,\"ay\":15,\"hoverlabel\":{\"bgcolor\":\"DarkGreen\"},\"hovertext\":\"Step 146 [2018-05-21 07:00:00]<br>BUY 0.42796056 BTC @ 8524.22 USD MARKET<br>Total: 3648.03 USD - Comm.: 10.98 USD\",\"opacity\":0.6,\"showarrow\":true,\"x\":145,\"xref\":\"x\",\"y\":8524.22,\"yref\":\"y\"},{\"arrowcolor\":\"FireBrick\",\"arrowhead\":2,\"arrowsize\":0.8,\"arrowwidth\":4,\"ax\":0,\"ay\":-15,\"hoverlabel\":{\"bgcolor\":\"FireBrick\"},\"hovertext\":\"Step 131 [2018-05-20 16:00:00]<br>SELL 0.25086275 BTC @ 8481.11 USD MARKET<br>Total: 2127.59 USD - Comm.: 0.00075485 BTC\",\"opacity\":0.6,\"showarrow\":true,\"x\":130,\"xref\":\"x\",\"y\":8481.11,\"yref\":\"y\"},{\"arrowcolor\":\"FireBrick\",\"arrowhead\":2,\"arrowsize\":0.8,\"arrowwidth\":4,\"ax\":0,\"ay\":-15,\"hoverlabel\":{\"bgcolor\":\"FireBrick\"},\"hovertext\":\"Step 131 [2018-05-20 16:00:00]<br>SELL 0.25113523 BTC @ 8481.11 USD MARKET<br>Total: 2129.91 USD - Comm.: 0.00075567 BTC\",\"opacity\":0.6,\"showarrow\":true,\"x\":130,\"xref\":\"x\",\"y\":8481.11,\"yref\":\"y\"},{\"arrowcolor\":\"DarkGreen\",\"arrowhead\":2,\"arrowsize\":0.8,\"arrowwidth\":4,\"ax\":0,\"ay\":15,\"hoverlabel\":{\"bgcolor\":\"DarkGreen\"},\"hovertext\":\"Step 104 [2018-05-19 13:00:00]<br>BUY 0.2516176 BTC @ 8303.99 USD MARKET<br>Total: 2089.43 USD - Comm.: 6.29 USD\",\"opacity\":0.6,\"showarrow\":true,\"x\":103,\"xref\":\"x\",\"y\":8303.99,\"yref\":\"y\"},{\"arrowcolor\":\"FireBrick\",\"arrowhead\":2,\"arrowsize\":0.8,\"arrowwidth\":4,\"ax\":0,\"ay\":-15,\"hoverlabel\":{\"bgcolor\":\"FireBrick\"},\"hovertext\":\"Step 102 [2018-05-19 11:00:00]<br>SELL 0.58669704 BTC @ 8365.0 USD MARKET<br>Total: 4907.72 USD - Comm.: 0.00176539 BTC\",\"opacity\":0.6,\"showarrow\":true,\"x\":101,\"xref\":\"x\",\"y\":8365.0,\"yref\":\"y\"},{\"arrowcolor\":\"FireBrick\",\"arrowhead\":2,\"arrowsize\":0.8,\"arrowwidth\":4,\"ax\":0,\"ay\":-15,\"hoverlabel\":{\"bgcolor\":\"FireBrick\"},\"hovertext\":\"Step 185 [2018-05-22 22:00:00]<br>SELL 0.57931638 BTC @ 7964.73 USD MARKET<br>Total: 4614.1 USD - Comm.: 0.00174318 BTC\",\"opacity\":0.6,\"showarrow\":true,\"x\":184,\"xref\":\"x\",\"y\":7964.73,\"yref\":\"y\"},{\"arrowcolor\":\"FireBrick\",\"arrowhead\":2,\"arrowsize\":0.8,\"arrowwidth\":4,\"ax\":0,\"ay\":-15,\"hoverlabel\":{\"bgcolor\":\"FireBrick\"},\"hovertext\":\"Step 157 [2018-05-21 18:00:00]<br>SELL 0.42667668 BTC @ 8350.0 USD MARKET<br>Total: 3562.75 USD - Comm.: 0.00128388 BTC\",\"opacity\":0.6,\"showarrow\":true,\"x\":156,\"xref\":\"x\",\"y\":8350.0,\"yref\":\"y\"}],\"margin\":{\"t\":50},\"template\":{\"data\":{\"bar\":[{\"error_x\":{\"color\":\"#2a3f5f\"},\"error_y\":{\"color\":\"#2a3f5f\"},\"marker\":{\"line\":{\"color\":\"white\",\"width\":0.5},\"pattern\":{\"fillmode\":\"overlay\",\"size\":10,\"solidity\":0.2}},\"type\":\"bar\"}],\"barpolar\":[{\"marker\":{\"line\":{\"color\":\"white\",\"width\":0.5},\"pattern\":{\"fillmode\":\"overlay\",\"size\":10,\"solidity\":0.2}},\"type\":\"barpolar\"}],\"carpet\":[{\"aaxis\":{\"endlinecolor\":\"#2a3f5f\",\"gridcolor\":\"#C8D4E3\",\"linecolor\":\"#C8D4E3\",\"minorgridcolor\":\"#C8D4E3\",\"startlinecolor\":\"#2a3f5f\"},\"baxis\":{\"endlinecolor\":\"#2a3f5f\",\"gridcolor\":\"#C8D4E3\",\"linecolor\":\"#C8D4E3\",\"minorgridcolor\":\"#C8D4E3\",\"startlinecolor\":\"#2a3f5f\"},\"type\":\"carpet\"}],\"choropleth\":[{\"colorbar\":{\"outlinewidth\":0,\"ticks\":\"\"},\"type\":\"choropleth\"}],\"contour\":[{\"colorbar\":{\"outlinewidth\":0,\"ticks\":\"\"},\"colorscale\":[[0.0,\"#0d0887\"],[0.1111111111111111,\"#46039f\"],[0.2222222222222222,\"#7201a8\"],[0.3333333333333333,\"#9c179e\"],[0.4444444444444444,\"#bd3786\"],[0.5555555555555556,\"#d8576b\"],[0.6666666666666666,\"#ed7953\"],[0.7777777777777778,\"#fb9f3a\"],[0.8888888888888888,\"#fdca26\"],[1.0,\"#f0f921\"]],\"type\":\"contour\"}],\"contourcarpet\":[{\"colorbar\":{\"outlinewidth\":0,\"ticks\":\"\"},\"type\":\"contourcarpet\"}],\"heatmap\":[{\"colorbar\":{\"outlinewidth\":0,\"ticks\":\"\"},\"colorscale\":[[0.0,\"#0d0887\"],[0.1111111111111111,\"#46039f\"],[0.2222222222222222,\"#7201a8\"],[0.3333333333333333,\"#9c179e\"],[0.4444444444444444,\"#bd3786\"],[0.5555555555555556,\"#d8576b\"],[0.6666666666666666,\"#ed7953\"],[0.7777777777777778,\"#fb9f3a\"],[0.8888888888888888,\"#fdca26\"],[1.0,\"#f0f921\"]],\"type\":\"heatmap\"}],\"heatmapgl\":[{\"colorbar\":{\"outlinewidth\":0,\"ticks\":\"\"},\"colorscale\":[[0.0,\"#0d0887\"],[0.1111111111111111,\"#46039f\"],[0.2222222222222222,\"#7201a8\"],[0.3333333333333333,\"#9c179e\"],[0.4444444444444444,\"#bd3786\"],[0.5555555555555556,\"#d8576b\"],[0.6666666666666666,\"#ed7953\"],[0.7777777777777778,\"#fb9f3a\"],[0.8888888888888888,\"#fdca26\"],[1.0,\"#f0f921\"]],\"type\":\"heatmapgl\"}],\"histogram\":[{\"marker\":{\"pattern\":{\"fillmode\":\"overlay\",\"size\":10,\"solidity\":0.2}},\"type\":\"histogram\"}],\"histogram2d\":[{\"colorbar\":{\"outlinewidth\":0,\"ticks\":\"\"},\"colorscale\":[[0.0,\"#0d0887\"],[0.1111111111111111,\"#46039f\"],[0.2222222222222222,\"#7201a8\"],[0.3333333333333333,\"#9c179e\"],[0.4444444444444444,\"#bd3786\"],[0.5555555555555556,\"#d8576b\"],[0.6666666666666666,\"#ed7953\"],[0.7777777777777778,\"#fb9f3a\"],[0.8888888888888888,\"#fdca26\"],[1.0,\"#f0f921\"]],\"type\":\"histogram2d\"}],\"histogram2dcontour\":[{\"colorbar\":{\"outlinewidth\":0,\"ticks\":\"\"},\"colorscale\":[[0.0,\"#0d0887\"],[0.1111111111111111,\"#46039f\"],[0.2222222222222222,\"#7201a8\"],[0.3333333333333333,\"#9c179e\"],[0.4444444444444444,\"#bd3786\"],[0.5555555555555556,\"#d8576b\"],[0.6666666666666666,\"#ed7953\"],[0.7777777777777778,\"#fb9f3a\"],[0.8888888888888888,\"#fdca26\"],[1.0,\"#f0f921\"]],\"type\":\"histogram2dcontour\"}],\"mesh3d\":[{\"colorbar\":{\"outlinewidth\":0,\"ticks\":\"\"},\"type\":\"mesh3d\"}],\"parcoords\":[{\"line\":{\"colorbar\":{\"outlinewidth\":0,\"ticks\":\"\"}},\"type\":\"parcoords\"}],\"pie\":[{\"automargin\":true,\"type\":\"pie\"}],\"scatter\":[{\"marker\":{\"colorbar\":{\"outlinewidth\":0,\"ticks\":\"\"}},\"type\":\"scatter\"}],\"scatter3d\":[{\"line\":{\"colorbar\":{\"outlinewidth\":0,\"ticks\":\"\"}},\"marker\":{\"colorbar\":{\"outlinewidth\":0,\"ticks\":\"\"}},\"type\":\"scatter3d\"}],\"scattercarpet\":[{\"marker\":{\"colorbar\":{\"outlinewidth\":0,\"ticks\":\"\"}},\"type\":\"scattercarpet\"}],\"scattergeo\":[{\"marker\":{\"colorbar\":{\"outlinewidth\":0,\"ticks\":\"\"}},\"type\":\"scattergeo\"}],\"scattergl\":[{\"marker\":{\"colorbar\":{\"outlinewidth\":0,\"ticks\":\"\"}},\"type\":\"scattergl\"}],\"scattermapbox\":[{\"marker\":{\"colorbar\":{\"outlinewidth\":0,\"ticks\":\"\"}},\"type\":\"scattermapbox\"}],\"scatterpolar\":[{\"marker\":{\"colorbar\":{\"outlinewidth\":0,\"ticks\":\"\"}},\"type\":\"scatterpolar\"}],\"scatterpolargl\":[{\"marker\":{\"colorbar\":{\"outlinewidth\":0,\"ticks\":\"\"}},\"type\":\"scatterpolargl\"}],\"scatterternary\":[{\"marker\":{\"colorbar\":{\"outlinewidth\":0,\"ticks\":\"\"}},\"type\":\"scatterternary\"}],\"surface\":[{\"colorbar\":{\"outlinewidth\":0,\"ticks\":\"\"},\"colorscale\":[[0.0,\"#0d0887\"],[0.1111111111111111,\"#46039f\"],[0.2222222222222222,\"#7201a8\"],[0.3333333333333333,\"#9c179e\"],[0.4444444444444444,\"#bd3786\"],[0.5555555555555556,\"#d8576b\"],[0.6666666666666666,\"#ed7953\"],[0.7777777777777778,\"#fb9f3a\"],[0.8888888888888888,\"#fdca26\"],[1.0,\"#f0f921\"]],\"type\":\"surface\"}],\"table\":[{\"cells\":{\"fill\":{\"color\":\"#EBF0F8\"},\"line\":{\"color\":\"white\"}},\"header\":{\"fill\":{\"color\":\"#C8D4E3\"},\"line\":{\"color\":\"white\"}},\"type\":\"table\"}]},\"layout\":{\"annotationdefaults\":{\"arrowcolor\":\"#2a3f5f\",\"arrowhead\":0,\"arrowwidth\":1},\"autotypenumbers\":\"strict\",\"coloraxis\":{\"colorbar\":{\"outlinewidth\":0,\"ticks\":\"\"}},\"colorscale\":{\"diverging\":[[0,\"#8e0152\"],[0.1,\"#c51b7d\"],[0.2,\"#de77ae\"],[0.3,\"#f1b6da\"],[0.4,\"#fde0ef\"],[0.5,\"#f7f7f7\"],[0.6,\"#e6f5d0\"],[0.7,\"#b8e186\"],[0.8,\"#7fbc41\"],[0.9,\"#4d9221\"],[1,\"#276419\"]],\"sequential\":[[0.0,\"#0d0887\"],[0.1111111111111111,\"#46039f\"],[0.2222222222222222,\"#7201a8\"],[0.3333333333333333,\"#9c179e\"],[0.4444444444444444,\"#bd3786\"],[0.5555555555555556,\"#d8576b\"],[0.6666666666666666,\"#ed7953\"],[0.7777777777777778,\"#fb9f3a\"],[0.8888888888888888,\"#fdca26\"],[1.0,\"#f0f921\"]],\"sequentialminus\":[[0.0,\"#0d0887\"],[0.1111111111111111,\"#46039f\"],[0.2222222222222222,\"#7201a8\"],[0.3333333333333333,\"#9c179e\"],[0.4444444444444444,\"#bd3786\"],[0.5555555555555556,\"#d8576b\"],[0.6666666666666666,\"#ed7953\"],[0.7777777777777778,\"#fb9f3a\"],[0.8888888888888888,\"#fdca26\"],[1.0,\"#f0f921\"]]},\"colorway\":[\"#636efa\",\"#EF553B\",\"#00cc96\",\"#ab63fa\",\"#FFA15A\",\"#19d3f3\",\"#FF6692\",\"#B6E880\",\"#FF97FF\",\"#FECB52\"],\"font\":{\"color\":\"#2a3f5f\"},\"geo\":{\"bgcolor\":\"white\",\"lakecolor\":\"white\",\"landcolor\":\"white\",\"showlakes\":true,\"showland\":true,\"subunitcolor\":\"#C8D4E3\"},\"hoverlabel\":{\"align\":\"left\"},\"hovermode\":\"closest\",\"mapbox\":{\"style\":\"light\"},\"paper_bgcolor\":\"white\",\"plot_bgcolor\":\"white\",\"polar\":{\"angularaxis\":{\"gridcolor\":\"#EBF0F8\",\"linecolor\":\"#EBF0F8\",\"ticks\":\"\"},\"bgcolor\":\"white\",\"radialaxis\":{\"gridcolor\":\"#EBF0F8\",\"linecolor\":\"#EBF0F8\",\"ticks\":\"\"}},\"scene\":{\"xaxis\":{\"backgroundcolor\":\"white\",\"gridcolor\":\"#DFE8F3\",\"gridwidth\":2,\"linecolor\":\"#EBF0F8\",\"showbackground\":true,\"ticks\":\"\",\"zerolinecolor\":\"#EBF0F8\"},\"yaxis\":{\"backgroundcolor\":\"white\",\"gridcolor\":\"#DFE8F3\",\"gridwidth\":2,\"linecolor\":\"#EBF0F8\",\"showbackground\":true,\"ticks\":\"\",\"zerolinecolor\":\"#EBF0F8\"},\"zaxis\":{\"backgroundcolor\":\"white\",\"gridcolor\":\"#DFE8F3\",\"gridwidth\":2,\"linecolor\":\"#EBF0F8\",\"showbackground\":true,\"ticks\":\"\",\"zerolinecolor\":\"#EBF0F8\"}},\"shapedefaults\":{\"line\":{\"color\":\"#2a3f5f\"}},\"ternary\":{\"aaxis\":{\"gridcolor\":\"#DFE8F3\",\"linecolor\":\"#A2B1C6\",\"ticks\":\"\"},\"baxis\":{\"gridcolor\":\"#DFE8F3\",\"linecolor\":\"#A2B1C6\",\"ticks\":\"\"},\"bgcolor\":\"white\",\"caxis\":{\"gridcolor\":\"#DFE8F3\",\"linecolor\":\"#A2B1C6\",\"ticks\":\"\"}},\"title\":{\"x\":0.05},\"xaxis\":{\"automargin\":true,\"gridcolor\":\"#EBF0F8\",\"linecolor\":\"#EBF0F8\",\"ticks\":\"\",\"title\":{\"standoff\":15},\"zerolinecolor\":\"#EBF0F8\",\"zerolinewidth\":2},\"yaxis\":{\"automargin\":true,\"gridcolor\":\"#EBF0F8\",\"linecolor\":\"#EBF0F8\",\"ticks\":\"\",\"title\":{\"standoff\":15},\"zerolinecolor\":\"#EBF0F8\",\"zerolinewidth\":2}}},\"title\":{\"text\":\"[2021-08-02 12:52:57 PM] Episode: 2/2 Step: 201/200\"},\"xaxis\":{\"anchor\":\"y\",\"domain\":[0.0,1.0],\"gridcolor\":\"Gainsboro\",\"linecolor\":\"Grey\",\"matches\":\"x4\",\"rangeslider\":{\"visible\":false},\"showticklabels\":false,\"title\":{\"font\":{\"size\":12},\"standoff\":7,\"text\":\"Price\"}},\"xaxis2\":{\"anchor\":\"y2\",\"domain\":[0.0,1.0],\"gridcolor\":\"Gainsboro\",\"linecolor\":\"Grey\",\"matches\":\"x4\",\"showticklabels\":false,\"title\":{\"font\":{\"size\":12},\"standoff\":7,\"text\":\"Volume\"}},\"xaxis3\":{\"anchor\":\"y3\",\"domain\":[0.0,1.0],\"gridcolor\":\"Gainsboro\",\"linecolor\":\"Grey\",\"matches\":\"x4\",\"showticklabels\":false,\"title\":{\"font\":{\"size\":12},\"standoff\":7,\"text\":\"Performance\"}},\"xaxis4\":{\"anchor\":\"y4\",\"domain\":[0.0,1.0],\"gridcolor\":\"Gainsboro\",\"linecolor\":\"Grey\",\"title\":{\"font\":{\"size\":12},\"standoff\":7,\"text\":\"Net Worth\"}},\"yaxis\":{\"anchor\":\"x\",\"domain\":[0.49950000000000006,1.0],\"gridcolor\":\"Gainsboro\",\"linecolor\":\"Grey\"},\"yaxis2\":{\"anchor\":\"x2\",\"domain\":[0.333,0.46950000000000003],\"gridcolor\":\"Gainsboro\",\"linecolor\":\"Grey\"},\"yaxis3\":{\"anchor\":\"x3\",\"domain\":[0.1665,0.30300000000000005],\"gridcolor\":\"Gainsboro\",\"linecolor\":\"Grey\"},\"yaxis4\":{\"anchor\":\"x4\",\"domain\":[0.0,0.1365],\"gridcolor\":\"Gainsboro\",\"linecolor\":\"Grey\"}},                        {\"responsive\": true}                    ).then(function(){\n",
              "                            \n",
              "var gd = document.getElementById('267d54d7-0d49-4af5-8ed6-cf7a499f5127');\n",
              "var x = new MutationObserver(function (mutations, observer) {{\n",
              "        var display = window.getComputedStyle(gd).display;\n",
              "        if (!display || display === 'none') {{\n",
              "            console.log([gd, 'removed!']);\n",
              "            Plotly.purge(gd);\n",
              "            observer.disconnect();\n",
              "        }}\n",
              "}});\n",
              "\n",
              "// Listen for the removal of the full notebook cells\n",
              "var notebookContainer = gd.closest('#notebook-container');\n",
              "if (notebookContainer) {{\n",
              "    x.observe(notebookContainer, {childList: true});\n",
              "}}\n",
              "\n",
              "// Listen for the clearing of the current output cell\n",
              "var outputEl = gd.closest('.output');\n",
              "if (outputEl) {{\n",
              "    x.observe(outputEl, {childList: true});\n",
              "}}\n",
              "\n",
              "                        })                };                            </script>        </div>\n",
              "</body>\n",
              "</html>"
            ]
          },
          "metadata": {
            "tags": []
          }
        },
        {
          "output_type": "stream",
          "text": [
            "WARNING:tensorflow:Compiled the loaded model, but the compiled metrics have yet to be built. `model.compile_metrics` will be empty until you train or evaluate the model.\n"
          ],
          "name": "stdout"
        },
        {
          "output_type": "stream",
          "text": [
            "WARNING:tensorflow:Compiled the loaded model, but the compiled metrics have yet to be built. `model.compile_metrics` will be empty until you train or evaluate the model.\n"
          ],
          "name": "stderr"
        },
        {
          "output_type": "execute_result",
          "data": {
            "text/plain": [
              "-1026817.1867661605"
            ]
          },
          "metadata": {
            "tags": []
          },
          "execution_count": 9
        }
      ]
    },
    {
      "cell_type": "code",
      "metadata": {
        "id": "kbrX5WHv7E-y"
      },
      "source": [
        ""
      ],
      "execution_count": null,
      "outputs": []
    }
  ]
}